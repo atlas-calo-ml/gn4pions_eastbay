{
 "cells": [
  {
   "cell_type": "code",
   "execution_count": null,
   "id": "de6716b1-8361-4bad-9d35-019f3147c376",
   "metadata": {},
   "outputs": [],
   "source": [
    "import uproot\n",
    "from glob import glob\n",
    "import json \n",
    "import os\n",
    "from tqdm import tqdm\n",
    "import numpy as np\n",
    "import pandas as pd\n",
    "import matplotlib.pyplot as plt"
   ]
  },
  {
   "cell_type": "code",
   "execution_count": null,
   "id": "31e0d8bc-71e7-4aaa-85c2-164dec2fcf9e",
   "metadata": {},
   "outputs": [],
   "source": [
    "pi0_dir = '/clusterfs/ml4hep/mpettee/ml4pions/data/user.angerami.mc16_13TeV.900246.PG_singlepi0_logE0p2to2000.e8312_e7400_s3170_r12383.v01-45-gaa27bcb_OutputStream/'\n",
    "pion_dir = '/clusterfs/ml4hep/mpettee/ml4pions/data/user.angerami.mc16_13TeV.900247.PG_singlepion_logE0p2to2000.e8312_e7400_s3170_r12383.v01-45-gaa27bcb_OutputStream/'\n",
    "pi0_files = sorted(glob(pi0_dir+\"*.root\"))\n",
    "pion_files = sorted(glob(pion_dir+\"*.root\"))"
   ]
  },
  {
   "cell_type": "code",
   "execution_count": null,
   "id": "b71a1293-2243-4d2d-b0fc-efcaab9e2276",
   "metadata": {},
   "outputs": [],
   "source": [
    "with open('pion_train.json', 'w') as f:\n",
    "    json.dump(pion_files[:350], f)\n",
    "with open('pion_val.json', 'w') as f:\n",
    "    json.dump(pion_files[350:400], f)\n",
    "with open('pion_test.json', 'w') as f:\n",
    "    json.dump(pion_files[400:], f)"
   ]
  },
  {
   "cell_type": "code",
   "execution_count": null,
   "id": "cbca2fc3-f9ee-4dac-a3c7-d35b09d32d56",
   "metadata": {},
   "outputs": [],
   "source": [
    "import math \n",
    "def delta_phi(phi1, phi2):\n",
    "    return (phi1 - phi2 + math.pi) % (2*math.pi) - math.pi\n",
    "\n",
    "def apply_cuts(arrays):\n",
    "    df = pd.DataFrame(arrays)\n",
    "\n",
    "    ### Single-track, multi-cluster \n",
    "    df = df[(df.nTrack == 1)]\n",
    "    dR_pass = []\n",
    "    deltaR_list = []\n",
    "    for row in df.index:\n",
    "        try:\n",
    "            deltaR = np.sqrt((df['cluster_Eta'][row].astype('float') - df['trackEta'][row].astype('float'))**2 + \n",
    "                               delta_phi(df['cluster_Phi'][row].astype('float'), df['trackPhi'][row].astype('float'))**2)\n",
    "        except:\n",
    "            deltaR = np.array(999)\n",
    "        deltaR_list.append(deltaR)\n",
    "        dR_pass.append(deltaR < 1.2)\n",
    "    df[\"deltaR\"] = deltaR_list\n",
    "    df[\"dR_pass\"] = dR_pass\n",
    "    df[\"event_number\"] = df.index\n",
    "    df.reset_index(inplace=True)\n",
    "    indices_pass = [] \n",
    "    for row in df.index: # kill all events with no clusters passing the delta R cut; deal with individual clusters at the training stage\n",
    "        if len(df['trackPt'][row]) > 1:\n",
    "            continue\n",
    "        elif df.dR_pass[row].sum() > 0:\n",
    "            indices_pass.append(row)\n",
    "    df = df.iloc[indices_pass]\n",
    "    df = df[(df.trackPt < 10**5)] # Track pT cut \n",
    "    return df"
   ]
  },
  {
   "cell_type": "code",
   "execution_count": null,
   "id": "7b2b209c-44ba-442b-a2b4-8df3111cd403",
   "metadata": {},
   "outputs": [],
   "source": [
    "# use a pared-down list of variables \n",
    "variables = ['cluster_cell_E', 'cluster_cell_ID',\n",
    "             'trackPt','trackD0','trackZ0',\n",
    "             'trackEta_EMB2','trackPhi_EMB2',\n",
    "             'trackEta_EME2','trackPhi_EME2',\n",
    "             'trackEta','trackPhi',\n",
    "             'nCluster','nTrack','truthPartE', 'truthPartPt',\n",
    "             'cluster_ENG_CALIB_TOT','cluster_E','cluster_Eta','cluster_Phi',\n",
    "             'cluster_EM_PROBABILITY','cluster_E_LCCalib','cluster_HAD_WEIGHT']"
   ]
  },
  {
   "cell_type": "code",
   "execution_count": null,
   "id": "cab8e04e-7687-4a9f-bba7-a2ca19bef40c",
   "metadata": {},
   "outputs": [],
   "source": [
    "for file in tqdm(pi0_files):\n",
    "    prefix = file.split(\"/\")[:-2]\n",
    "    number = file.split(\"000\")[-1][:-5]\n",
    "    folder = os.path.join(\"/\".join(prefix), \n",
    "                          \"onetrack_multicluster\", \n",
    "                          \"pi0_files\")\n",
    "    os.makedirs(folder, exist_ok=True)\n",
    "    npy_filename = os.path.join(folder, str(number)+\".npy\")\n",
    "    a = uproot.open(file)[\"EventTree\"].arrays(variables, library = \"np\")\n",
    "    df = apply_cuts(a)\n",
    "    a_cuts = df.to_dict('list')\n",
    "    np.save(npy_filename, a_cuts) "
   ]
  },
  {
   "cell_type": "code",
   "execution_count": null,
   "id": "c5089240-89f9-4709-9cc3-981e4b28a450",
   "metadata": {},
   "outputs": [],
   "source": [
    "for file in tqdm(pion_files):\n",
    "    prefix = file.split(\"/\")[:-2]\n",
    "    number = file.split(\"000\")[-1][:-5]\n",
    "    folder = os.path.join(\"/\".join(prefix), \n",
    "                          \"onetrack_multicluster\", \n",
    "                          \"pion_files\")\n",
    "    os.makedirs(folder, exist_ok=True)\n",
    "    npy_filename = os.path.join(folder, str(number)+\".npy\")\n",
    "    a = uproot.open(file)[\"EventTree\"].arrays(variables, library = \"np\")\n",
    "    df = apply_cuts(a)\n",
    "    a_cuts = df.to_dict('list')\n",
    "    np.save(npy_filename, a_cuts) "
   ]
  },
  {
   "cell_type": "markdown",
   "id": "928f8ef6-a602-497e-a133-9cec85df81da",
   "metadata": {},
   "source": [
    "### Testing"
   ]
  },
  {
   "cell_type": "code",
   "execution_count": null,
   "id": "019b07bd-2d15-4960-bcc8-82539af5b836",
   "metadata": {},
   "outputs": [],
   "source": [
    "a = uproot.open(pion_files[0])[\"EventTree\"].arrays(variables, library = \"np\")\n",
    "a.keys()"
   ]
  },
  {
   "cell_type": "code",
   "execution_count": null,
   "id": "bb08861d-31f7-4bce-862f-0f841b262ce7",
   "metadata": {},
   "outputs": [],
   "source": [
    "[var for var in a.keys() if \"Eta\" in var]"
   ]
  },
  {
   "cell_type": "code",
   "execution_count": null,
   "id": "182f95f9-5b7b-4bc3-9bc7-e9e794c68ad3",
   "metadata": {},
   "outputs": [],
   "source": [
    "df = apply_cuts(a)"
   ]
  },
  {
   "cell_type": "code",
   "execution_count": null,
   "id": "df26211f-def5-46a6-a0eb-b50e52caa8aa",
   "metadata": {},
   "outputs": [],
   "source": [
    "all_drs = []\n",
    "dfs = []\n",
    "for file in tqdm(pion_files[:10]):\n",
    "    prefix = file.split(\"/\")[:-2]\n",
    "    number = file.split(\"000\")[-1][:-5]\n",
    "    folder = os.path.join(\"/\".join(prefix), \"onetrack_multicluster\", \"pion_files\")\n",
    "    os.makedirs(folder, exist_ok=True)\n",
    "    npy_filename = os.path.join(folder, str(number)+\".npy\")\n",
    "    a = uproot.open(file)[\"EventTree\"].arrays(variables, library = \"np\")\n",
    "    df = apply_cuts(a)\n",
    "    list = df.deltaR.to_numpy().flatten()\n",
    "    drs = np.concatenate(list, axis=0)\n",
    "    all_drs.append(drs)\n",
    "    dfs.append(df)\n",
    "    \n",
    "import matplotlib.pyplot as plt\n",
    "all_drs = np.concatenate(all_drs, axis=0)\n",
    "\n",
    "plt.figure(dpi=200)\n",
    "plt.hist(all_drs, bins=np.linspace(0.5,1.5,30));\n",
    "plt.xlabel(r\"$\\Delta R$(cluster,track)\")\n",
    "\n",
    "plt.figure(dpi=200)\n",
    "plt.hist(all_drs, bins=np.linspace(0.5,1.5,30));\n",
    "plt.yscale(\"log\")\n",
    "plt.xlabel(r\"$\\Delta R$(cluster,track)\")"
   ]
  },
  {
   "cell_type": "code",
   "execution_count": null,
   "id": "e013880f-82b5-4a9b-9eb7-fb188e63abf3",
   "metadata": {},
   "outputs": [],
   "source": [
    "df = pd.concat([df for df in dfs])"
   ]
  },
  {
   "cell_type": "code",
   "execution_count": null,
   "id": "2629f9b9-1cc5-41d7-b9e8-58fb00534aa3",
   "metadata": {},
   "outputs": [],
   "source": [
    "plt.figure(dpi=150)\n",
    "plt.hist(np.concatenate(df.trackPt.to_numpy().flatten(), axis=0), bins=10);\n",
    "plt.xlabel(r\"Track $p_T$\")\n",
    "plt.yscale(\"log\")"
   ]
  },
  {
   "cell_type": "markdown",
   "id": "a02f3399-8b5e-49ac-a103-7665d3bb5f36",
   "metadata": {},
   "source": [
    "### Scaling"
   ]
  },
  {
   "cell_type": "code",
   "execution_count": null,
   "id": "9da55693-c71d-47c8-87b9-b6bd716213b4",
   "metadata": {},
   "outputs": [],
   "source": [
    "cluster_cell_e = []\n",
    "cluster_e = []\n",
    "cluster_eta = []\n",
    "cluster_phi = []\n",
    "track_pt = []\n",
    "track_z0 = []\n",
    "track_eta = []\n",
    "track_phi = []\n",
    "truth_part_e = []\n",
    "\n",
    "n_files = 10\n",
    "\n",
    "for file in tqdm(pion_files[:n_files]):\n",
    "    prefix = file.split(\"/\")[:-2]\n",
    "    number = file.split(\"000\")[-1][:-5]\n",
    "    a = uproot.open(file)[\"EventTree\"].arrays(variables, library = \"np\")\n",
    "    df = apply_cuts(a)\n",
    "    track_pt.append(df.trackPt.explode())\n",
    "    track_z0.append(df.trackZ0)\n",
    "    track_eta.append(df.trackEta)\n",
    "    track_phi.append(df.trackPhi)\n",
    "    truth_part_e.append(df.truthPartE.explode())\n",
    "    for i in range(len(df)): \n",
    "        for cluster in range(df.nCluster.iloc[i]):\n",
    "            cluster_cell_e.append(np.array(np.log10(df.cluster_cell_E.iloc[i][cluster])))\n",
    "            cluster_e.append(np.array(np.log10(df.cluster_E.iloc[i][cluster])))\n",
    "            cluster_eta.append(np.array(df.cluster_Eta.iloc[i][cluster]))\n",
    "            cluster_phi.append(np.array(df.cluster_Phi.iloc[i][cluster]))\n",
    "\n",
    "print(\"Track pT | mean: {} | std: {}\".format(np.mean([np.log10(x) for x in np.concatenate(track_pt)]), np.std([np.log10(x) for x in np.concatenate(track_pt)])))\n",
    "print(\"Track z0 | mean: {} | std: {}\".format(np.mean(np.concatenate(track_z0)), np.std(np.concatenate(track_z0))))\n",
    "print(\"Track eta | mean: {} | std: {}\".format(np.mean(np.concatenate(track_eta)), np.std(np.concatenate(track_eta))))\n",
    "print(\"Track phi | mean: {} | std: {}\".format(np.mean(np.concatenate(track_phi)), np.std(np.concatenate(track_phi))))\n",
    "\n",
    "print(\"Truth particle E | mean: {} | std: {}\".format(np.mean([np.log10(x) for x in np.concatenate(truth_part_e)]), np.std([np.log10(x) for x in np.concatenate(truth_part_e)])))\n",
    "\n",
    "print(\"Cluster cell e\")\n",
    "print(np.mean(np.concatenate(cluster_cell_e)))\n",
    "print(np.std(np.concatenate(cluster_cell_e)))\n",
    "        \n",
    "print(\"Cluster e\")\n",
    "print(np.mean(cluster_e))\n",
    "print(np.std(cluster_e))\n",
    "\n",
    "print(\"Cluster eta\")\n",
    "print(np.mean(cluster_eta))\n",
    "print(np.std(cluster_eta))\n",
    "\n",
    "print(\"Cluster phi\")\n",
    "print(np.mean(cluster_phi))\n",
    "print(np.std(cluster_phi))"
   ]
  },
  {
   "cell_type": "code",
   "execution_count": null,
   "id": "56560bd1-6b80-479d-a2c1-0ee7a9de4253",
   "metadata": {},
   "outputs": [],
   "source": [
    "scales = {\n",
    "    'track_pt_mean': 1.633278727,\n",
    "    'track_pt_std': 0.8481947183,\n",
    "    'track_z0_mean': 0.08022017,\n",
    "    'track_z0_std': 42.53320004,    \n",
    "    'track_eta_mean': -0.00563187,\n",
    "    'track_eta_std': 1.35242735,    \n",
    "    'track_phi_mean': 0.00206431,\n",
    "    'track_phi_std': 1.81240248,   \n",
    "    'truth_part_e_mean': 1.92469358, \n",
    "    'truth_part_e_std': 0.8289864, \n",
    "    'cluster_cell_e_mean': -1.0121697,\n",
    "    'cluster_cell_e_std': 0.818357, \n",
    "    'cluster_e_mean': 0.89923394,\n",
    "    'cluster_e_std': 1.0585934,\n",
    "    'cluster_eta_mean': 0.016195267,\n",
    "    'cluster_eta_std': 1.3400925,\n",
    "    'cluster_phi_mean': 0.0050816955,\n",
    "    'cluster_phi_std': 1.8100655,\n",
    "         }"
   ]
  },
  {
   "cell_type": "code",
   "execution_count": null,
   "id": "0edd91ff-d25b-45d7-b404-f2b4367aeac6",
   "metadata": {},
   "outputs": [],
   "source": [
    "cell_geo_file = \"/clusterfs/ml4hep/mpettee/ml4pions/data/cell_geo.root\"\n",
    "df = uproot.open(cell_geo_file)['CellGeo'].arrays(library='pd')\n",
    "df.reset_index(inplace=True)\n",
    "vars = ['cell_geo_sampling', 'cell_geo_eta', 'cell_geo_phi', 'cell_geo_rPerp', 'cell_geo_deta', 'cell_geo_dphi']\n",
    "for var in vars: \n",
    "    print(var)\n",
    "    print(np.mean(df[var]))\n",
    "    print(np.std(df[var]))"
   ]
  },
  {
   "cell_type": "code",
   "execution_count": null,
   "id": "141f8437-9fa3-407b-9b5c-8db3081fcc1a",
   "metadata": {},
   "outputs": [],
   "source": [
    "scales.update({\n",
    "    'cell_geo_sampling_mean': 3.8827391420197177,\n",
    "    'cell_geo_sampling_std': 3.9588233603576204,\n",
    "    'cell_geo_eta_mean': 0.0005979097,\n",
    "    'cell_geo_eta_std': 1.4709069,\n",
    "    'cell_geo_phi_mean': -2.8938382e-05,\n",
    "    'cell_geo_phi_std': 1.813651,\n",
    "    'cell_geo_rPerp_mean': 1478.9285,\n",
    "    'cell_geo_rPerp_std': 434.60815,\n",
    "    'cell_geo_deta_mean': 0.026611786,\n",
    "    'cell_geo_deta_std': 0.03396141,\n",
    "    'cell_geo_dphi_mean': 0.068693615,\n",
    "    'cell_geo_dphi_std': 0.038586758,  \n",
    "})"
   ]
  },
  {
   "cell_type": "code",
   "execution_count": null,
   "id": "a27cc559-eb45-47ee-a703-756189a68105",
   "metadata": {},
   "outputs": [],
   "source": [
    "scales"
   ]
  },
  {
   "cell_type": "code",
   "execution_count": null,
   "id": "dd17841c-70c7-4427-b2c7-a5fac9841bf2",
   "metadata": {},
   "outputs": [],
   "source": [
    "# Node features: \n",
    "# {\n",
    "# np.log10(cluster_cell_E), \n",
    "# cell_geo_sampling, \n",
    "# cell_geo_eta, \n",
    "# cell_geo_phi, \n",
    "# cell_geo_rPerp, \n",
    "# cell_geo_deta, \n",
    "# cell_geo_dphi\n",
    "#}"
   ]
  },
  {
   "cell_type": "code",
   "execution_count": null,
   "id": "469b20f0-058b-4b00-be89-4bdc59333155",
   "metadata": {},
   "outputs": [],
   "source": [
    "node_means = [\n",
    "    scales[\"cluster_cell_e_mean\"], \n",
    "    scales[\"cell_geo_sampling_mean\"],\n",
    "    scales[\"cell_geo_eta_mean\"],\n",
    "    scales[\"cell_geo_phi_mean\"],\n",
    "    scales[\"cell_geo_rPerp_mean\"],\n",
    "    scales[\"cell_geo_deta_mean\"],\n",
    "    scales[\"cell_geo_dphi_mean\"],\n",
    "] \n",
    "\n",
    "node_stds = [\n",
    "    scales[\"cluster_cell_e_std\"], \n",
    "    scales[\"cell_geo_sampling_std\"],\n",
    "    scales[\"cell_geo_eta_std\"],\n",
    "    scales[\"cell_geo_phi_std\"],\n",
    "    scales[\"cell_geo_rPerp_std\"],\n",
    "    scales[\"cell_geo_deta_std\"],\n",
    "    scales[\"cell_geo_dphi_std\"],\n",
    "] "
   ]
  },
  {
   "cell_type": "code",
   "execution_count": null,
   "id": "cfa0b5e1-0828-4863-ae5c-c37c59e18a77",
   "metadata": {},
   "outputs": [],
   "source": [
    "node_means"
   ]
  },
  {
   "cell_type": "code",
   "execution_count": null,
   "id": "e7db48f4-41e8-4127-942d-29d42f6c94f8",
   "metadata": {},
   "outputs": [],
   "source": [
    "node_stds"
   ]
  }
 ],
 "metadata": {
  "kernelspec": {
   "display_name": "nbdev",
   "language": "python",
   "name": "nbdev"
  },
  "language_info": {
   "codemirror_mode": {
    "name": "ipython",
    "version": 3
   },
   "file_extension": ".py",
   "mimetype": "text/x-python",
   "name": "python",
   "nbconvert_exporter": "python",
   "pygments_lexer": "ipython3",
   "version": "3.9.7"
  }
 },
 "nbformat": 4,
 "nbformat_minor": 5
}
