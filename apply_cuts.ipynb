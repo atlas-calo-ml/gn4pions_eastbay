{
 "cells": [
  {
   "cell_type": "code",
   "execution_count": 144,
   "id": "de6716b1-8361-4bad-9d35-019f3147c376",
   "metadata": {},
   "outputs": [],
   "source": [
    "import uproot\n",
    "from glob import glob\n",
    "import json \n",
    "import os\n",
    "from tqdm import tqdm\n",
    "import numpy as np\n",
    "import pandas as pd"
   ]
  },
  {
   "cell_type": "code",
   "execution_count": 145,
   "id": "31e0d8bc-71e7-4aaa-85c2-164dec2fcf9e",
   "metadata": {},
   "outputs": [],
   "source": [
    "pi0_dir = '/clusterfs/ml4hep/mpettee/ml4pions/data/user.angerami.mc16_13TeV.900246.PG_singlepi0_logE0p2to2000.e8312_e7400_s3170_r12383.v01-45-gaa27bcb_OutputStream/'\n",
    "pion_dir = '/clusterfs/ml4hep/mpettee/ml4pions/data/user.angerami.mc16_13TeV.900247.PG_singlepion_logE0p2to2000.e8312_e7400_s3170_r12383.v01-45-gaa27bcb_OutputStream/'\n",
    "pi0_files = sorted(glob(pi0_dir+\"*.root\"))\n",
    "pion_files = sorted(glob(pion_dir+\"*.root\"))"
   ]
  },
  {
   "cell_type": "markdown",
   "id": "6a7c1602-df69-4144-b390-15b74c35096c",
   "metadata": {},
   "source": [
    "Check out one file as a test..."
   ]
  },
  {
   "cell_type": "code",
   "execution_count": 146,
   "id": "ad884205-92c0-407b-a5b8-7010a61ef465",
   "metadata": {},
   "outputs": [],
   "source": [
    "# use a pared-down list of variables \n",
    "variables = ['cluster_cell_E', 'cluster_cell_ID',\n",
    "             'trackPt','trackD0','trackZ0',\n",
    "             'trackEta_EMB2','trackPhi_EMB2',\n",
    "             'trackEta','trackPhi',\n",
    "             'nCluster','nTrack','truthPartE', 'truthPartPt',\n",
    "             'cluster_ENG_CALIB_TOT','cluster_E','cluster_Eta','cluster_Phi',\n",
    "             'cluster_EM_PROBABILITY','cluster_E_LCCalib','cluster_HAD_WEIGHT']\n",
    "a = uproot.open(pion_files[11])[\"EventTree\"].arrays(variables, library = \"np\")\n",
    "# a.keys()"
   ]
  },
  {
   "cell_type": "markdown",
   "id": "fa2cbded-2487-41e7-8e71-16d68e97bd3b",
   "metadata": {},
   "source": [
    "Now apply all the cuts..."
   ]
  },
  {
   "cell_type": "code",
   "execution_count": 147,
   "id": "cbca2fc3-f9ee-4dac-a3c7-d35b09d32d56",
   "metadata": {},
   "outputs": [],
   "source": [
    "def apply_cuts(arrays):\n",
    "    df = pd.DataFrame(arrays)\n",
    "    \n",
    "    ### Single-track, single-cluster \n",
    "#     df = df[(df.nCluster == 1) & (df.nTrack == 1)]\n",
    "#     df = df[df[\"cluster_E\"] > 0.5] # if you only have one cluster\n",
    "#     df['dR'] = np.sqrt((df['cluster_Eta'].astype('float') - df['trackEta_EMB2'].astype('float'))**2 + \n",
    "#                      (df['cluster_Phi'].astype('float') - df['trackPhi_EMB2'].astype('float'))**2)\n",
    "#     df = df[df.dR < 0.2]\n",
    "\n",
    "    ### Single-track, multi-cluster \n",
    "    l0 = len(df)\n",
    "    df = df[(df.nTrack == 1)]\n",
    "    l1 = len(df) \n",
    "    df = df[(df.nCluster > 0)]\n",
    "    l2 = len(df)\n",
    "    df.reset_index(inplace=True, drop=True)\n",
    "    dR = []\n",
    "    dR_pass = []\n",
    "    for row in df.index:\n",
    "        try:\n",
    "            deltaR = np.sqrt((df['cluster_Eta'][row].astype('float') - df['trackEta'][row].astype('float'))**2 + \n",
    "                              (df['cluster_Phi'][row].astype('float') - df['trackPhi'][row].astype('float'))**2)\n",
    "        except:\n",
    "            print(\"Error, track length is actually\", len(df['trackEta'][row]))\n",
    "            deltaR = np.array(999)\n",
    "\n",
    "        dR.append(deltaR)\n",
    "        dR_pass.append(deltaR < 0.2)    \n",
    "    df[\"dR\"] = dR\n",
    "    df[\"dR_pass\"] = dR_pass\n",
    "    df[\"event_number\"] = df.index\n",
    "    indices_pass = [] \n",
    "    for row in df.index: # kill all events with no clusters passing the delta R cut; deal with individual clusters at the training stage\n",
    "        if df.dR_pass[row].sum() > 0:\n",
    "            indices_pass.append(row)\n",
    "    df = df.iloc[indices_pass]\n",
    "    l3 = len(df)\n",
    "#     print(\"nTrack cut: {:.2f}\".format(100*l1/l0))\n",
    "#     print(\"nCluster cut: {:.2f}\".format(100*l2/l0))\n",
    "#     print(\"dR cut: {:.2f}\".format(100*l3/l1))\n",
    "#     print(\"overall: {:.2f}\".format(100*l3/l0))\n",
    "    return df"
   ]
  },
  {
   "cell_type": "markdown",
   "id": "57a72389-38de-48d0-b180-e64a4927bd3c",
   "metadata": {},
   "source": [
    "### Test:"
   ]
  },
  {
   "cell_type": "code",
   "execution_count": 132,
   "id": "c1f5f8be-8d67-4eb0-bf02-728944a51cb7",
   "metadata": {},
   "outputs": [],
   "source": [
    "df = pd.DataFrame(a)"
   ]
  },
  {
   "cell_type": "code",
   "execution_count": 133,
   "id": "2649efec-05cf-4466-866c-a20449d41033",
   "metadata": {},
   "outputs": [
    {
     "name": "stdout",
     "output_type": "stream",
     "text": [
      "Error, track length is actually 2\n",
      "nTrack cut: 60.85\n",
      "nCluster cut: 52.09\n",
      "dR cut: 79.71\n",
      "overall: 48.51\n"
     ]
    }
   ],
   "source": [
    "df = apply_cuts(a)"
   ]
  },
  {
   "cell_type": "code",
   "execution_count": null,
   "id": "38b81ae9-6dad-412e-bbbc-f0f1cbb6f80e",
   "metadata": {},
   "outputs": [],
   "source": [
    "# for row in df.index: \n",
    "#     print(row, df.dR_pass[row], df.dR_pass[row].sum())"
   ]
  },
  {
   "cell_type": "code",
   "execution_count": null,
   "id": "2623b39e-21d2-49f0-846f-987599f73e9b",
   "metadata": {},
   "outputs": [],
   "source": [
    "# x = df.dR.explode()\n",
    "# np.sum(x < 0.2)/len(x)"
   ]
  },
  {
   "cell_type": "code",
   "execution_count": null,
   "id": "7c93846f-6827-4b2b-a0fa-8f991f0bf0c8",
   "metadata": {},
   "outputs": [],
   "source": [
    "# df = pd.DataFrame(a)\n",
    "# plt.figure(dpi=200)\n",
    "# # plt.yscale('log')\n",
    "# plt.hist(df.nTrack, bins=21, histtype=\"step\");\n",
    "# plt.xlabel(\"nTrack\");"
   ]
  },
  {
   "cell_type": "code",
   "execution_count": null,
   "id": "6c64e21d-0c46-4483-85bf-85641f7e389d",
   "metadata": {},
   "outputs": [],
   "source": [
    "# plt.figure(dpi=200)\n",
    "# plt.hist(df.dR.explode(), bins=100);\n",
    "# plt.xlabel(r\"$\\Delta$R(cluster, track)\");"
   ]
  },
  {
   "cell_type": "code",
   "execution_count": null,
   "id": "5c9e3732-e708-4bb5-9057-5cf79751fa7a",
   "metadata": {},
   "outputs": [],
   "source": [
    "# df[[\"dR\", \"dR_pass\"]]"
   ]
  },
  {
   "cell_type": "markdown",
   "id": "051fb4ae-9cda-4de7-9745-a8bf66dc2f12",
   "metadata": {},
   "source": [
    "### Apply to all files"
   ]
  },
  {
   "cell_type": "code",
   "execution_count": 148,
   "id": "cab8e04e-7687-4a9f-bba7-a2ca19bef40c",
   "metadata": {},
   "outputs": [
    {
     "name": "stderr",
     "output_type": "stream",
     "text": [
      " 60%|██████    | 6/10 [00:14<00:09,  2.34s/it]"
     ]
    },
    {
     "name": "stdout",
     "output_type": "stream",
     "text": [
      "Error, track length is actually 2\n"
     ]
    },
    {
     "name": "stderr",
     "output_type": "stream",
     "text": [
      "100%|██████████| 10/10 [00:23<00:00,  2.32s/it]\n"
     ]
    }
   ],
   "source": [
    "for file in tqdm(pi0_files[:10]):\n",
    "    prefix = file.split(\"/\")[:-2]\n",
    "    number = file.split(\"000\")[-1][:-5]\n",
    "    folder = os.path.join(\"/\".join(prefix), \"onetrack_multicluster\", \"pi0_files\")\n",
    "    os.makedirs(folder, exist_ok=True)\n",
    "    npy_filename = os.path.join(folder, str(number)+\".npy\")\n",
    "    a = uproot.open(file)[\"EventTree\"].arrays(variables, library = \"np\")\n",
    "    df = apply_cuts(a)\n",
    "    a_cuts = df.to_dict('list')\n",
    "    np.save(npy_filename, a_cuts) "
   ]
  },
  {
   "cell_type": "code",
   "execution_count": 137,
   "id": "c5089240-89f9-4709-9cc3-981e4b28a450",
   "metadata": {},
   "outputs": [
    {
     "name": "stderr",
     "output_type": "stream",
     "text": [
      "  2%|▏         | 11/500 [00:46<34:02,  4.18s/it]"
     ]
    },
    {
     "name": "stdout",
     "output_type": "stream",
     "text": [
      "Error, track length is actually 2\n"
     ]
    },
    {
     "name": "stderr",
     "output_type": "stream",
     "text": [
      " 68%|██████▊   | 340/500 [23:53<11:16,  4.23s/it]"
     ]
    },
    {
     "name": "stdout",
     "output_type": "stream",
     "text": [
      "Error, track length is actually 2\n"
     ]
    },
    {
     "name": "stderr",
     "output_type": "stream",
     "text": [
      " 71%|███████   | 353/500 [24:48<10:13,  4.17s/it]"
     ]
    },
    {
     "name": "stdout",
     "output_type": "stream",
     "text": [
      "Error, track length is actually 2\n"
     ]
    },
    {
     "name": "stderr",
     "output_type": "stream",
     "text": [
      " 80%|████████  | 402/500 [28:15<06:56,  4.25s/it]"
     ]
    },
    {
     "name": "stdout",
     "output_type": "stream",
     "text": [
      "Error, track length is actually 2\n"
     ]
    },
    {
     "name": "stderr",
     "output_type": "stream",
     "text": [
      "100%|██████████| 500/500 [35:07<00:00,  4.21s/it]\n"
     ]
    }
   ],
   "source": [
    "for file in tqdm(pion_files):\n",
    "    prefix = file.split(\"/\")[:-2]\n",
    "    number = file.split(\"000\")[-1][:-5]\n",
    "    folder = os.path.join(\"/\".join(prefix), \"onetrack_multicluster\", \"pion_files\")\n",
    "    os.makedirs(folder, exist_ok=True)\n",
    "    npy_filename = os.path.join(folder, str(number)+\".npy\")\n",
    "    a = uproot.open(file)[\"EventTree\"].arrays(variables, library = \"np\")\n",
    "    df = apply_cuts(a)\n",
    "    a_cuts = df.to_dict('list')\n",
    "    np.save(npy_filename, a_cuts)"
   ]
  },
  {
   "cell_type": "code",
   "execution_count": null,
   "id": "a6063b72-94a0-4b3d-9bcf-835f69fcc1e1",
   "metadata": {},
   "outputs": [],
   "source": []
  }
 ],
 "metadata": {
  "kernelspec": {
   "display_name": "nbdev",
   "language": "python",
   "name": "nbdev"
  },
  "language_info": {
   "codemirror_mode": {
    "name": "ipython",
    "version": 3
   },
   "file_extension": ".py",
   "mimetype": "text/x-python",
   "name": "python",
   "nbconvert_exporter": "python",
   "pygments_lexer": "ipython3",
   "version": "3.9.7"
  }
 },
 "nbformat": 4,
 "nbformat_minor": 5
}
