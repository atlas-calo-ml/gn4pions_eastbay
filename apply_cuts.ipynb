{
 "cells": [
  {
   "cell_type": "code",
   "execution_count": 1,
   "id": "de6716b1-8361-4bad-9d35-019f3147c376",
   "metadata": {
    "execution": {
     "iopub.execute_input": "2022-07-01T20:10:07.809841Z",
     "iopub.status.busy": "2022-07-01T20:10:07.809432Z",
     "iopub.status.idle": "2022-07-01T20:10:08.970875Z",
     "shell.execute_reply": "2022-07-01T20:10:08.970208Z",
     "shell.execute_reply.started": "2022-07-01T20:10:07.809743Z"
    },
    "tags": []
   },
   "outputs": [],
   "source": [
    "import uproot\n",
    "from glob import glob\n",
    "import json \n",
    "import os\n",
    "from tqdm import tqdm\n",
    "import numpy as np\n",
    "import pandas as pd\n",
    "import matplotlib.pyplot as plt"
   ]
  },
  {
   "cell_type": "code",
   "execution_count": 2,
   "id": "31e0d8bc-71e7-4aaa-85c2-164dec2fcf9e",
   "metadata": {
    "execution": {
     "iopub.execute_input": "2022-07-01T20:10:08.971861Z",
     "iopub.status.busy": "2022-07-01T20:10:08.971744Z",
     "iopub.status.idle": "2022-07-01T20:10:08.977575Z",
     "shell.execute_reply": "2022-07-01T20:10:08.977286Z",
     "shell.execute_reply.started": "2022-07-01T20:10:08.971846Z"
    },
    "tags": []
   },
   "outputs": [],
   "source": [
    "pi0_dir = '/clusterfs/ml4hep/mpettee/ml4pions/data/root_files/user.angerami.mc16_13TeV.900246.PG_singlepi0_logE0p2to2000.e8312_e7400_s3170_r12383.v01-45-gaa27bcb_OutputStream/'\n",
    "pion_dir = '/clusterfs/ml4hep/mpettee/ml4pions/data/root_files/user.angerami.mc16_13TeV.900247.PG_singlepion_logE0p2to2000.e8312_e7400_s3170_r12383.v01-45-gaa27bcb_OutputStream/'\n",
    "pi0_files = sorted(glob(pi0_dir+\"*.root\"))\n",
    "pion_files = sorted(glob(pion_dir+\"*.root\"))"
   ]
  },
  {
   "cell_type": "code",
   "execution_count": null,
   "id": "b71a1293-2243-4d2d-b0fc-efcaab9e2276",
   "metadata": {},
   "outputs": [],
   "source": [
    "with open('pion_train.json', 'w') as f:\n",
    "    json.dump(pion_files[:350], f)\n",
    "with open('pion_val.json', 'w') as f:\n",
    "    json.dump(pion_files[350:400], f)\n",
    "with open('pion_test.json', 'w') as f:\n",
    "    json.dump(pion_files[400:], f)"
   ]
  },
  {
   "cell_type": "code",
   "execution_count": null,
   "id": "cbca2fc3-f9ee-4dac-a3c7-d35b09d32d56",
   "metadata": {},
   "outputs": [],
   "source": [
    "import math \n",
    "def delta_phi(phi1, phi2):\n",
    "    return (phi1 - phi2 + math.pi) % (2*math.pi) - math.pi\n",
    "\n",
    "def apply_cuts(arrays):\n",
    "    df = pd.DataFrame(arrays)\n",
    "\n",
    "    ### Single-track, multi-cluster \n",
    "    df = df[(df.nTrack == 1)]\n",
    "    dR_pass = []\n",
    "    deltaR_list = []\n",
    "    for row in df.index:\n",
    "        try:\n",
    "            deltaR = np.sqrt((df['cluster_Eta'][row].astype('float') - df['trackEta'][row].astype('float'))**2 + \n",
    "                               delta_phi(df['cluster_Phi'][row].astype('float'), df['trackPhi'][row].astype('float'))**2)\n",
    "        except:\n",
    "            deltaR = np.array(999)\n",
    "        deltaR_list.append(deltaR)\n",
    "        dR_pass.append(deltaR < 1.2)\n",
    "    df[\"deltaR\"] = deltaR_list\n",
    "    df[\"dR_pass\"] = dR_pass\n",
    "    df[\"event_number\"] = df.index\n",
    "    df.reset_index(inplace=True)\n",
    "    indices_pass = [] \n",
    "    for row in df.index: # kill all events with no clusters passing the delta R cut; deal with individual clusters at the training stage\n",
    "        if len(df['trackPt'][row]) > 1:\n",
    "            continue\n",
    "        elif df.dR_pass[row].sum() > 0:\n",
    "            indices_pass.append(row)\n",
    "    df = df.iloc[indices_pass]\n",
    "    df = df[(df.trackPt < 10**5)] # Track pT cut \n",
    "    return df"
   ]
  },
  {
   "cell_type": "code",
   "execution_count": 3,
   "id": "7b2b209c-44ba-442b-a2b4-8df3111cd403",
   "metadata": {
    "execution": {
     "iopub.execute_input": "2022-07-01T20:10:11.568252Z",
     "iopub.status.busy": "2022-07-01T20:10:11.568005Z",
     "iopub.status.idle": "2022-07-01T20:10:11.572140Z",
     "shell.execute_reply": "2022-07-01T20:10:11.571640Z",
     "shell.execute_reply.started": "2022-07-01T20:10:11.568231Z"
    },
    "tags": []
   },
   "outputs": [],
   "source": [
    "# use a pared-down list of variables \n",
    "variables = ['cluster_cell_E', 'cluster_cell_ID',\n",
    "             'trackPt','trackD0','trackZ0',\n",
    "             'trackEta_EMB2','trackPhi_EMB2',\n",
    "             'trackEta_EME2','trackPhi_EME2',\n",
    "             'trackEta','trackPhi',\n",
    "             'nCluster','nTrack','truthPartE', 'truthPartPt',\n",
    "             'cluster_ENG_CALIB_TOT','cluster_E','cluster_Eta','cluster_Phi',\n",
    "             'cluster_EM_PROBABILITY','cluster_E_LCCalib','cluster_HAD_WEIGHT']"
   ]
  },
  {
   "cell_type": "code",
   "execution_count": null,
   "id": "cab8e04e-7687-4a9f-bba7-a2ca19bef40c",
   "metadata": {},
   "outputs": [],
   "source": [
    "for file in tqdm(pi0_files):\n",
    "    prefix = file.split(\"/\")[:-2]\n",
    "    number = file.split(\"000\")[-1][:-5]\n",
    "    folder = os.path.join(\"/\".join(prefix), \n",
    "                          \"onetrack_multicluster\", \n",
    "                          \"pi0_files\")\n",
    "    os.makedirs(folder, exist_ok=True)\n",
    "    npy_filename = os.path.join(folder, str(number)+\".npy\")\n",
    "    a = uproot.open(file)[\"EventTree\"].arrays(variables, library = \"np\")\n",
    "    df = apply_cuts(a)\n",
    "    a_cuts = df.to_dict('list')\n",
    "    np.save(npy_filename, a_cuts) "
   ]
  },
  {
   "cell_type": "code",
   "execution_count": null,
   "id": "c5089240-89f9-4709-9cc3-981e4b28a450",
   "metadata": {},
   "outputs": [],
   "source": [
    "for file in tqdm(pion_files):\n",
    "    prefix = file.split(\"/\")[:-2]\n",
    "    number = file.split(\"000\")[-1][:-5]\n",
    "    folder = os.path.join(\"/\".join(prefix), \n",
    "                          \"onetrack_multicluster\", \n",
    "                          \"pion_files\")\n",
    "    os.makedirs(folder, exist_ok=True)\n",
    "    npy_filename = os.path.join(folder, str(number)+\".npy\")\n",
    "    a = uproot.open(file)[\"EventTree\"].arrays(variables, library = \"np\")\n",
    "    df = apply_cuts(a)\n",
    "    a_cuts = df.to_dict('list')\n",
    "    np.save(npy_filename, a_cuts) "
   ]
  },
  {
   "cell_type": "markdown",
   "id": "928f8ef6-a602-497e-a133-9cec85df81da",
   "metadata": {},
   "source": [
    "### Testing"
   ]
  },
  {
   "cell_type": "code",
   "execution_count": null,
   "id": "019b07bd-2d15-4960-bcc8-82539af5b836",
   "metadata": {
    "tags": []
   },
   "outputs": [],
   "source": [
    "a = uproot.open(pion_files[0])[\"EventTree\"].arrays(variables, library = \"np\")\n",
    "a.keys()"
   ]
  },
  {
   "cell_type": "code",
   "execution_count": null,
   "id": "86e3d5c0-0b30-4ceb-80c6-8840254f7e8a",
   "metadata": {
    "tags": []
   },
   "outputs": [],
   "source": [
    "df = pd.DataFrame(a)\n",
    "\n",
    "#     ### Single-track, multi-cluster \n",
    "df = df[(df.nTrack == 1)]\n",
    "#     dR_pass = []\n",
    "#     deltaR_list = []\n",
    "#     for row in df.index:\n",
    "#         try:\n",
    "#             deltaR = np.sqrt((df['cluster_Eta'][row].astype('float') - df['trackEta'][row].astype('float'))**2 + \n",
    "#                                delta_phi(df['cluster_Phi'][row].astype('float'), df['trackPhi'][row].astype('float'))**2)\n",
    "#         except:\n",
    "#             deltaR = np.array(999)\n",
    "#         deltaR_list.append(deltaR)\n",
    "#         dR_pass.append(deltaR < 1.2)\n",
    "#     df[\"deltaR\"] = deltaR_list\n",
    "#     df[\"dR_pass\"] = dR_pass\n",
    "#     df[\"event_number\"] = df.index\n",
    "#     df.reset_index(inplace=True)\n",
    "#     indices_pass = [] \n",
    "#     for row in df.index: # kill all events with no clusters passing the delta R cut; deal with individual clusters at the training stage\n",
    "#         if len(df['trackPt'][row]) > 1:\n",
    "#             continue\n",
    "#         elif df.dR_pass[row].sum() > 0:\n",
    "#             indices_pass.append(row)\n",
    "#     df = df.iloc[indices_pass]\n",
    "#     df = df[(df.trackPt < 10**5)] # Track pT cut \n",
    "#     return df"
   ]
  },
  {
   "cell_type": "code",
   "execution_count": null,
   "id": "352c0381-9d4f-41fe-b968-af50cb5dfdb4",
   "metadata": {
    "tags": []
   },
   "outputs": [],
   "source": [
    "for file in tqdm(pion_files[:10]):\n",
    "    a = uproot.open(file)[\"EventTree\"].arrays(variables, library = \"np\")\n",
    "    df = pd.DataFrame(a)\n",
    "    if len(df[(df.truthPartE < 0.3) & (df.nTrack == 1)]) != 0:\n",
    "        print(\"Match found!\")\n",
    "# print(df.truthPartE.min())"
   ]
  },
  {
   "cell_type": "code",
   "execution_count": 16,
   "id": "09a988be-4a20-4731-9012-8e62d78675ec",
   "metadata": {
    "execution": {
     "iopub.execute_input": "2022-07-01T20:38:51.479245Z",
     "iopub.status.busy": "2022-07-01T20:38:51.479132Z",
     "iopub.status.idle": "2022-07-01T20:42:50.476690Z",
     "shell.execute_reply": "2022-07-01T20:42:50.476146Z",
     "shell.execute_reply.started": "2022-07-01T20:38:51.479231Z"
    },
    "tags": []
   },
   "outputs": [
    {
     "name": "stderr",
     "output_type": "stream",
     "text": [
      "100%|██████████| 100/100 [03:51<00:00,  2.31s/it]\n"
     ]
    },
    {
     "name": "stdout",
     "output_type": "stream",
     "text": [
      "6\n",
      "294610     [0.28710818]\n",
      "986711     [0.20867196]\n",
      "1285785    [0.25482216]\n",
      "1719595     [0.2631104]\n",
      "1906163    [0.20454371]\n",
      "1984579    [0.22772138]\n",
      "Name: truthPartE, dtype: object\n"
     ]
    }
   ],
   "source": [
    "df = pd.concat([pd.DataFrame(uproot.open(file)[\"EventTree\"].arrays(variables, library = \"np\")) \n",
    "                for file in tqdm(pion_files[400:])])\n",
    "df.reset_index(inplace=True)\n",
    "print(len(df[(df.truthPartE < 0.3) & (df.nTrack == 1)]))\n",
    "print(df[(df.truthPartE < 0.3) & (df.nTrack == 1)].truthPartE)"
   ]
  },
  {
   "cell_type": "code",
   "execution_count": 6,
   "id": "07075a4c-d8bf-415c-90e9-7006251f8a4d",
   "metadata": {
    "execution": {
     "iopub.execute_input": "2022-07-01T20:15:02.661895Z",
     "iopub.status.busy": "2022-07-01T20:15:02.661571Z",
     "iopub.status.idle": "2022-07-01T20:15:05.260038Z",
     "shell.execute_reply": "2022-07-01T20:15:05.259663Z",
     "shell.execute_reply.started": "2022-07-01T20:15:02.661857Z"
    },
    "tags": []
   },
   "outputs": [
    {
     "data": {
      "text/plain": [
       "294610     [0.28710818]\n",
       "986711     [0.20867196]\n",
       "1285785    [0.25482216]\n",
       "1719595     [0.2631104]\n",
       "1906163    [0.20454371]\n",
       "1984579    [0.22772138]\n",
       "Name: truthPartE, dtype: object"
      ]
     },
     "execution_count": 6,
     "metadata": {},
     "output_type": "execute_result"
    }
   ],
   "source": [
    "df[(df.truthPartE < 0.3) & (df.nTrack == 1)].truthPartE"
   ]
  },
  {
   "cell_type": "code",
   "execution_count": 7,
   "id": "06d2de4b-99e5-42d3-95d8-abab92e4f108",
   "metadata": {
    "execution": {
     "iopub.execute_input": "2022-07-01T20:15:27.928372Z",
     "iopub.status.busy": "2022-07-01T20:15:27.928070Z",
     "iopub.status.idle": "2022-07-01T20:19:31.426632Z",
     "shell.execute_reply": "2022-07-01T20:19:31.425843Z",
     "shell.execute_reply.started": "2022-07-01T20:15:27.928335Z"
    },
    "tags": []
   },
   "outputs": [
    {
     "name": "stderr",
     "output_type": "stream",
     "text": [
      "100%|██████████| 100/100 [03:50<00:00,  2.30s/it]\n"
     ]
    },
    {
     "name": "stdout",
     "output_type": "stream",
     "text": [
      "8\n",
      "5286        [0.2826203]\n",
      "9372       [0.29291812]\n",
      "59228      [0.26841897]\n",
      "346687      [0.2836759]\n",
      "657750     [0.21341762]\n",
      "709520     [0.28939232]\n",
      "1099926    [0.24931945]\n",
      "1579413      [0.268247]\n",
      "Name: truthPartE, dtype: object\n"
     ]
    }
   ],
   "source": [
    "df = pd.concat([pd.DataFrame(uproot.open(file)[\"EventTree\"].arrays(variables, library = \"np\")) \n",
    "                for file in tqdm(pion_files[300:400])])\n",
    "df.reset_index(inplace=True)\n",
    "print(len(df[(df.truthPartE < 0.3) & (df.nTrack == 1)]))\n",
    "print(df[(df.truthPartE < 0.3) & (df.nTrack == 1)].truthPartE)"
   ]
  },
  {
   "cell_type": "code",
   "execution_count": 8,
   "id": "230de6f1-0d41-4436-8903-b4c9071cc0f8",
   "metadata": {
    "execution": {
     "iopub.execute_input": "2022-07-01T20:19:48.592144Z",
     "iopub.status.busy": "2022-07-01T20:19:48.591684Z",
     "iopub.status.idle": "2022-07-01T20:31:50.300412Z",
     "shell.execute_reply": "2022-07-01T20:31:50.299883Z",
     "shell.execute_reply.started": "2022-07-01T20:19:48.592102Z"
    }
   },
   "outputs": [
    {
     "name": "stderr",
     "output_type": "stream",
     "text": [
      "100%|██████████| 300/300 [11:32<00:00,  2.31s/it]\n"
     ]
    },
    {
     "name": "stdout",
     "output_type": "stream",
     "text": [
      "26\n",
      "728611     [0.29773492]\n",
      "1374339    [0.24005227]\n",
      "1451076     [0.2831585]\n",
      "1966429    [0.29154447]\n",
      "1975530    [0.24084492]\n",
      "2261574     [0.2986044]\n",
      "2395682    [0.29874915]\n",
      "2428694    [0.28612584]\n",
      "2620842     [0.2976004]\n",
      "2882093    [0.22958235]\n",
      "3626956     [0.2568037]\n",
      "3740871    [0.27509663]\n",
      "3829395    [0.22322042]\n",
      "3891891    [0.24972045]\n",
      "4061194    [0.29340625]\n",
      "4196161    [0.22996315]\n",
      "4212799    [0.26753303]\n",
      "4293832    [0.28810415]\n",
      "4805244     [0.2778302]\n",
      "5088956    [0.25371808]\n",
      "5228874     [0.2986842]\n",
      "5394220     [0.2904296]\n",
      "5399323    [0.22708915]\n",
      "5675674    [0.22889914]\n",
      "5964958     [0.2911417]\n",
      "5989475    [0.27168086]\n",
      "Name: truthPartE, dtype: object\n"
     ]
    }
   ],
   "source": [
    "df = pd.concat([pd.DataFrame(uproot.open(file)[\"EventTree\"].arrays(variables, library = \"np\")) \n",
    "                for file in tqdm(pion_files[:300])])\n",
    "df.reset_index(inplace=True)\n",
    "print(len(df[(df.truthPartE < 0.3) & (df.nTrack == 1)]))\n",
    "print(df[(df.truthPartE < 0.3) & (df.nTrack == 1)].truthPartE)"
   ]
  },
  {
   "cell_type": "code",
   "execution_count": 12,
   "id": "b086bbe1-88b7-4475-8e3d-e6bbe5156863",
   "metadata": {
    "execution": {
     "iopub.execute_input": "2022-07-01T20:33:22.873764Z",
     "iopub.status.busy": "2022-07-01T20:33:22.873495Z",
     "iopub.status.idle": "2022-07-01T20:33:30.770413Z",
     "shell.execute_reply": "2022-07-01T20:33:30.769792Z",
     "shell.execute_reply.started": "2022-07-01T20:33:22.873738Z"
    },
    "tags": []
   },
   "outputs": [
    {
     "data": {
      "text/plain": [
       "0    145345\n",
       "1         8\n",
       "Name: nTrack, dtype: int64"
      ]
     },
     "execution_count": 12,
     "metadata": {},
     "output_type": "execute_result"
    }
   ],
   "source": [
    "df[(df.truthPartE < 0.25)].nTrack.value_counts()"
   ]
  },
  {
   "cell_type": "code",
   "execution_count": 14,
   "id": "ceceb0b8-805b-4fc7-8555-cd33d3688969",
   "metadata": {
    "execution": {
     "iopub.execute_input": "2022-07-01T20:34:08.136572Z",
     "iopub.status.busy": "2022-07-01T20:34:08.136311Z",
     "iopub.status.idle": "2022-07-01T20:34:16.062745Z",
     "shell.execute_reply": "2022-07-01T20:34:16.062210Z",
     "shell.execute_reply.started": "2022-07-01T20:34:08.136539Z"
    },
    "tags": []
   },
   "outputs": [
    {
     "data": {
      "text/plain": [
       "1374339    [0.24005227]\n",
       "1975530    [0.24084492]\n",
       "2882093    [0.22958235]\n",
       "3829395    [0.22322042]\n",
       "3891891    [0.24972045]\n",
       "4196161    [0.22996315]\n",
       "5399323    [0.22708915]\n",
       "5675674    [0.22889914]\n",
       "Name: truthPartE, dtype: object"
      ]
     },
     "execution_count": 14,
     "metadata": {},
     "output_type": "execute_result"
    }
   ],
   "source": [
    "df[(df.truthPartE < 0.25) & (df.nTrack == 1)].truthPartE"
   ]
  },
  {
   "cell_type": "code",
   "execution_count": 15,
   "id": "aa605dcb-8a10-4c85-bd7f-741d7de9f38c",
   "metadata": {
    "execution": {
     "iopub.execute_input": "2022-07-01T20:34:51.612868Z",
     "iopub.status.busy": "2022-07-01T20:34:51.612521Z",
     "iopub.status.idle": "2022-07-01T20:38:51.478318Z",
     "shell.execute_reply": "2022-07-01T20:38:51.477786Z",
     "shell.execute_reply.started": "2022-07-01T20:34:51.612851Z"
    }
   },
   "outputs": [
    {
     "name": "stderr",
     "output_type": "stream",
     "text": [
      "100%|██████████| 100/100 [03:51<00:00,  2.32s/it]\n"
     ]
    },
    {
     "name": "stdout",
     "output_type": "stream",
     "text": [
      "3\n",
      "986711     [0.20867196]\n",
      "1906163    [0.20454371]\n",
      "1984579    [0.22772138]\n",
      "Name: truthPartE, dtype: object\n"
     ]
    }
   ],
   "source": [
    "df_test = pd.concat([pd.DataFrame(uproot.open(file)[\"EventTree\"].arrays(variables, library = \"np\")) \n",
    "                for file in tqdm(pion_files[400:])])\n",
    "df_test.reset_index(inplace=True)\n",
    "print(len(df_test[(df_test.truthPartE < 0.25) & (df_test.nTrack == 1)]))\n",
    "print(df_test[(df_test.truthPartE < 0.25) & (df_test.nTrack == 1)].truthPartE)"
   ]
  },
  {
   "cell_type": "code",
   "execution_count": null,
   "id": "3bd900bc-ac50-4a93-a106-085cea962a9d",
   "metadata": {},
   "outputs": [],
   "source": [
    "df_all = pd.concat([pd.DataFrame(uproot.open(file)[\"EventTree\"].arrays(variables, library = \"np\")) \n",
    "                for file in tqdm(pion_files)])\n",
    "df_all.reset_index(inplace=True)\n",
    "print(len(df_all[(df_all.truthPartE < 0.25) & (df_all.nTrack == 1)]))\n",
    "print(df_all[(df_all.truthPartE < 0.25) & (df_all.nTrack == 1)].truthPartE)"
   ]
  },
  {
   "cell_type": "code",
   "execution_count": null,
   "id": "221b1367-e716-45e4-bf5d-97b7b3d66b4e",
   "metadata": {
    "tags": []
   },
   "outputs": [],
   "source": [
    "len(df[(df.truthPartE < 0.3) & (df.nTrack == 1)])"
   ]
  },
  {
   "cell_type": "code",
   "execution_count": null,
   "id": "3bfbc00e-61dc-4c55-8059-bcfbda6907c3",
   "metadata": {
    "tags": []
   },
   "outputs": [],
   "source": [
    "100*6/len(df)"
   ]
  },
  {
   "cell_type": "code",
   "execution_count": null,
   "id": "8a0c230e-e384-40ff-b9ae-2acefc7c4429",
   "metadata": {
    "tags": []
   },
   "outputs": [],
   "source": [
    "df[(df.truthPartE < 0.3) & (df.nTrack == 1)].truthPartE"
   ]
  },
  {
   "cell_type": "code",
   "execution_count": null,
   "id": "8473a57c-3d33-4dc4-bf13-5401610537d1",
   "metadata": {
    "tags": []
   },
   "outputs": [],
   "source": [
    "df_2 = pd.concat([pd.DataFrame(uproot.open(file)[\"EventTree\"].arrays(variables, library = \"np\")) \n",
    "                for file in tqdm(pion_files)])\n",
    "df_2.reset_index(inplace=True)"
   ]
  },
  {
   "cell_type": "code",
   "execution_count": null,
   "id": "56761eee-e4f9-441f-a5a3-cd335e13dcb6",
   "metadata": {},
   "outputs": [],
   "source": [
    "df_2[(df_2.truthPartE < 0.3) & (df_2.nTrack == 1)].truthPartE"
   ]
  },
  {
   "cell_type": "code",
   "execution_count": null,
   "id": "1c8198e5-3357-4489-8909-a1e08536cd36",
   "metadata": {},
   "outputs": [],
   "source": [
    "a = uproot.open(pion_files[0])[\"EventTree\"].arrays(variables, library = \"np\")\n",
    "df = pd.DataFrame(a)\n",
    "df = df[(df.nTrack == 1)]\n",
    "print(df.truthPartE.min())"
   ]
  },
  {
   "cell_type": "code",
   "execution_count": null,
   "id": "9c8dd50d-a6b0-4721-ab62-15a6bbb6d16b",
   "metadata": {
    "tags": []
   },
   "outputs": [],
   "source": [
    "df.truthPartE.min()"
   ]
  },
  {
   "cell_type": "code",
   "execution_count": null,
   "id": "182f95f9-5b7b-4bc3-9bc7-e9e794c68ad3",
   "metadata": {},
   "outputs": [],
   "source": [
    "df = apply_cuts(a)"
   ]
  },
  {
   "cell_type": "code",
   "execution_count": null,
   "id": "df26211f-def5-46a6-a0eb-b50e52caa8aa",
   "metadata": {},
   "outputs": [],
   "source": [
    "all_drs = []\n",
    "dfs = []\n",
    "for file in tqdm(pion_files[:10]):\n",
    "    prefix = file.split(\"/\")[:-2]\n",
    "    number = file.split(\"000\")[-1][:-5]\n",
    "    folder = os.path.join(\"/\".join(prefix), \"onetrack_multicluster\", \"pion_files\")\n",
    "    os.makedirs(folder, exist_ok=True)\n",
    "    npy_filename = os.path.join(folder, str(number)+\".npy\")\n",
    "    a = uproot.open(file)[\"EventTree\"].arrays(variables, library = \"np\")\n",
    "    df = apply_cuts(a)\n",
    "    list = df.deltaR.to_numpy().flatten()\n",
    "    drs = np.concatenate(list, axis=0)\n",
    "    all_drs.append(drs)\n",
    "    dfs.append(df)\n",
    "    \n",
    "import matplotlib.pyplot as plt\n",
    "all_drs = np.concatenate(all_drs, axis=0)\n",
    "\n",
    "plt.figure(dpi=200)\n",
    "plt.hist(all_drs, bins=np.linspace(0.5,1.5,30));\n",
    "plt.xlabel(r\"$\\Delta R$(cluster,track)\")\n",
    "\n",
    "plt.figure(dpi=200)\n",
    "plt.hist(all_drs, bins=np.linspace(0.5,1.5,30));\n",
    "plt.yscale(\"log\")\n",
    "plt.xlabel(r\"$\\Delta R$(cluster,track)\")"
   ]
  },
  {
   "cell_type": "code",
   "execution_count": null,
   "id": "e013880f-82b5-4a9b-9eb7-fb188e63abf3",
   "metadata": {},
   "outputs": [],
   "source": [
    "df = pd.concat([df for df in dfs])"
   ]
  },
  {
   "cell_type": "code",
   "execution_count": null,
   "id": "2629f9b9-1cc5-41d7-b9e8-58fb00534aa3",
   "metadata": {},
   "outputs": [],
   "source": [
    "plt.figure(dpi=150)\n",
    "plt.hist(np.concatenate(df.trackPt.to_numpy().flatten(), axis=0), bins=10);\n",
    "plt.xlabel(r\"Track $p_T$\")\n",
    "plt.yscale(\"log\")"
   ]
  },
  {
   "cell_type": "markdown",
   "id": "a02f3399-8b5e-49ac-a103-7665d3bb5f36",
   "metadata": {},
   "source": [
    "### Scaling"
   ]
  },
  {
   "cell_type": "code",
   "execution_count": null,
   "id": "9da55693-c71d-47c8-87b9-b6bd716213b4",
   "metadata": {},
   "outputs": [],
   "source": [
    "cluster_cell_e = []\n",
    "cluster_e = []\n",
    "cluster_eta = []\n",
    "cluster_phi = []\n",
    "track_pt = []\n",
    "track_z0 = []\n",
    "track_eta = []\n",
    "track_phi = []\n",
    "truth_part_e = []\n",
    "\n",
    "n_files = 10\n",
    "\n",
    "for file in tqdm(pion_files[:n_files]):\n",
    "    prefix = file.split(\"/\")[:-2]\n",
    "    number = file.split(\"000\")[-1][:-5]\n",
    "    a = uproot.open(file)[\"EventTree\"].arrays(variables, library = \"np\")\n",
    "    df = apply_cuts(a)\n",
    "    track_pt.append(df.trackPt.explode())\n",
    "    track_z0.append(df.trackZ0)\n",
    "    track_eta.append(df.trackEta)\n",
    "    track_phi.append(df.trackPhi)\n",
    "    truth_part_e.append(df.truthPartE.explode())\n",
    "    for i in range(len(df)): \n",
    "        for cluster in range(df.nCluster.iloc[i]):\n",
    "            cluster_cell_e.append(np.array(np.log10(df.cluster_cell_E.iloc[i][cluster])))\n",
    "            cluster_e.append(np.array(np.log10(df.cluster_E.iloc[i][cluster])))\n",
    "            cluster_eta.append(np.array(df.cluster_Eta.iloc[i][cluster]))\n",
    "            cluster_phi.append(np.array(df.cluster_Phi.iloc[i][cluster]))\n",
    "\n",
    "print(\"Track pT | mean: {} | std: {}\".format(np.mean([np.log10(x) for x in np.concatenate(track_pt)]), np.std([np.log10(x) for x in np.concatenate(track_pt)])))\n",
    "print(\"Track z0 | mean: {} | std: {}\".format(np.mean(np.concatenate(track_z0)), np.std(np.concatenate(track_z0))))\n",
    "print(\"Track eta | mean: {} | std: {}\".format(np.mean(np.concatenate(track_eta)), np.std(np.concatenate(track_eta))))\n",
    "print(\"Track phi | mean: {} | std: {}\".format(np.mean(np.concatenate(track_phi)), np.std(np.concatenate(track_phi))))\n",
    "\n",
    "print(\"Truth particle E | mean: {} | std: {}\".format(np.mean([np.log10(x) for x in np.concatenate(truth_part_e)]), np.std([np.log10(x) for x in np.concatenate(truth_part_e)])))\n",
    "\n",
    "print(\"Cluster cell e\")\n",
    "print(np.mean(np.concatenate(cluster_cell_e)))\n",
    "print(np.std(np.concatenate(cluster_cell_e)))\n",
    "        \n",
    "print(\"Cluster e\")\n",
    "print(np.mean(cluster_e))\n",
    "print(np.std(cluster_e))\n",
    "\n",
    "print(\"Cluster eta\")\n",
    "print(np.mean(cluster_eta))\n",
    "print(np.std(cluster_eta))\n",
    "\n",
    "print(\"Cluster phi\")\n",
    "print(np.mean(cluster_phi))\n",
    "print(np.std(cluster_phi))"
   ]
  },
  {
   "cell_type": "code",
   "execution_count": null,
   "id": "56560bd1-6b80-479d-a2c1-0ee7a9de4253",
   "metadata": {},
   "outputs": [],
   "source": [
    "scales = {\n",
    "    'track_pt_mean': 1.633278727,\n",
    "    'track_pt_std': 0.8481947183,\n",
    "    'track_z0_mean': 0.08022017,\n",
    "    'track_z0_std': 42.53320004,    \n",
    "    'track_eta_mean': -0.00563187,\n",
    "    'track_eta_std': 1.35242735,    \n",
    "    'track_phi_mean': 0.00206431,\n",
    "    'track_phi_std': 1.81240248,   \n",
    "    'truth_part_e_mean': 1.92469358, \n",
    "    'truth_part_e_std': 0.8289864, \n",
    "    'cluster_cell_e_mean': -1.0121697,\n",
    "    'cluster_cell_e_std': 0.818357, \n",
    "    'cluster_e_mean': 0.89923394,\n",
    "    'cluster_e_std': 1.0585934,\n",
    "    'cluster_eta_mean': 0.016195267,\n",
    "    'cluster_eta_std': 1.3400925,\n",
    "    'cluster_phi_mean': 0.0050816955,\n",
    "    'cluster_phi_std': 1.8100655,\n",
    "         }"
   ]
  },
  {
   "cell_type": "code",
   "execution_count": null,
   "id": "0edd91ff-d25b-45d7-b404-f2b4367aeac6",
   "metadata": {},
   "outputs": [],
   "source": [
    "cell_geo_file = \"/clusterfs/ml4hep/mpettee/ml4pions/data/cell_geo.root\"\n",
    "df = uproot.open(cell_geo_file)['CellGeo'].arrays(library='pd')\n",
    "df.reset_index(inplace=True)\n",
    "vars = ['cell_geo_sampling', 'cell_geo_eta', 'cell_geo_phi', 'cell_geo_rPerp', 'cell_geo_deta', 'cell_geo_dphi']\n",
    "for var in vars: \n",
    "    print(var)\n",
    "    print(np.mean(df[var]))\n",
    "    print(np.std(df[var]))"
   ]
  },
  {
   "cell_type": "code",
   "execution_count": null,
   "id": "141f8437-9fa3-407b-9b5c-8db3081fcc1a",
   "metadata": {},
   "outputs": [],
   "source": [
    "scales.update({\n",
    "    'cell_geo_sampling_mean': 3.8827391420197177,\n",
    "    'cell_geo_sampling_std': 3.9588233603576204,\n",
    "    'cell_geo_eta_mean': 0.0005979097,\n",
    "    'cell_geo_eta_std': 1.4709069,\n",
    "    'cell_geo_phi_mean': -2.8938382e-05,\n",
    "    'cell_geo_phi_std': 1.813651,\n",
    "    'cell_geo_rPerp_mean': 1478.9285,\n",
    "    'cell_geo_rPerp_std': 434.60815,\n",
    "    'cell_geo_deta_mean': 0.026611786,\n",
    "    'cell_geo_deta_std': 0.03396141,\n",
    "    'cell_geo_dphi_mean': 0.068693615,\n",
    "    'cell_geo_dphi_std': 0.038586758,  \n",
    "})"
   ]
  },
  {
   "cell_type": "code",
   "execution_count": null,
   "id": "a27cc559-eb45-47ee-a703-756189a68105",
   "metadata": {},
   "outputs": [],
   "source": [
    "scales"
   ]
  },
  {
   "cell_type": "code",
   "execution_count": null,
   "id": "dd17841c-70c7-4427-b2c7-a5fac9841bf2",
   "metadata": {},
   "outputs": [],
   "source": [
    "# Node features: \n",
    "# {\n",
    "# np.log10(cluster_cell_E), \n",
    "# cell_geo_sampling, \n",
    "# cell_geo_eta, \n",
    "# cell_geo_phi, \n",
    "# cell_geo_rPerp, \n",
    "# cell_geo_deta, \n",
    "# cell_geo_dphi\n",
    "#}"
   ]
  },
  {
   "cell_type": "code",
   "execution_count": null,
   "id": "469b20f0-058b-4b00-be89-4bdc59333155",
   "metadata": {},
   "outputs": [],
   "source": [
    "node_means = [\n",
    "    scales[\"cluster_cell_e_mean\"], \n",
    "    scales[\"cell_geo_sampling_mean\"],\n",
    "    scales[\"cell_geo_eta_mean\"],\n",
    "    scales[\"cell_geo_phi_mean\"],\n",
    "    scales[\"cell_geo_rPerp_mean\"],\n",
    "    scales[\"cell_geo_deta_mean\"],\n",
    "    scales[\"cell_geo_dphi_mean\"],\n",
    "] \n",
    "\n",
    "node_stds = [\n",
    "    scales[\"cluster_cell_e_std\"], \n",
    "    scales[\"cell_geo_sampling_std\"],\n",
    "    scales[\"cell_geo_eta_std\"],\n",
    "    scales[\"cell_geo_phi_std\"],\n",
    "    scales[\"cell_geo_rPerp_std\"],\n",
    "    scales[\"cell_geo_deta_std\"],\n",
    "    scales[\"cell_geo_dphi_std\"],\n",
    "] "
   ]
  },
  {
   "cell_type": "code",
   "execution_count": null,
   "id": "cfa0b5e1-0828-4863-ae5c-c37c59e18a77",
   "metadata": {},
   "outputs": [],
   "source": [
    "node_means"
   ]
  },
  {
   "cell_type": "code",
   "execution_count": null,
   "id": "e7db48f4-41e8-4127-942d-29d42f6c94f8",
   "metadata": {},
   "outputs": [],
   "source": [
    "node_stds"
   ]
  }
 ],
 "metadata": {
  "kernelspec": {
   "display_name": "nbdev",
   "language": "python",
   "name": "nbdev"
  },
  "language_info": {
   "codemirror_mode": {
    "name": "ipython",
    "version": 3
   },
   "file_extension": ".py",
   "mimetype": "text/x-python",
   "name": "python",
   "nbconvert_exporter": "python",
   "pygments_lexer": "ipython3",
   "version": "3.9.7"
  }
 },
 "nbformat": 4,
 "nbformat_minor": 5
}
