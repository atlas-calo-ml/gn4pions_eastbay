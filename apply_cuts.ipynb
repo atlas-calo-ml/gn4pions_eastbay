{
 "cells": [
  {
   "cell_type": "code",
   "execution_count": 1,
   "id": "de6716b1-8361-4bad-9d35-019f3147c376",
   "metadata": {},
   "outputs": [],
   "source": [
    "# import uproot\n",
    "import uproot\n",
    "from glob import glob\n",
    "import json \n",
    "import os\n",
    "from tqdm import tqdm\n",
    "import numpy as np\n",
    "import pandas as pd"
   ]
  },
  {
   "cell_type": "code",
   "execution_count": 2,
   "id": "31e0d8bc-71e7-4aaa-85c2-164dec2fcf9e",
   "metadata": {},
   "outputs": [],
   "source": [
    "pi0_dir = '/clusterfs/ml4hep/mpettee/ml4pions/data/user.angerami.mc16_13TeV.900246.PG_singlepi0_logE0p2to2000.e8312_e7400_s3170_r12383.v01-45-gaa27bcb_OutputStream/'\n",
    "pion_dir = '/clusterfs/ml4hep/mpettee/ml4pions/data/user.angerami.mc16_13TeV.900247.PG_singlepion_logE0p2to2000.e8312_e7400_s3170_r12383.v01-45-gaa27bcb_OutputStream/'\n",
    "pi0_files = sorted(glob(pi0_dir+\"*.root\"))\n",
    "pion_files = sorted(glob(pion_dir+\"*.root\"))"
   ]
  },
  {
   "cell_type": "code",
   "execution_count": 3,
   "id": "ff3a7fb9-7065-44b8-b1b6-9088c7d8b62a",
   "metadata": {},
   "outputs": [],
   "source": [
    "# use a pared-down list of variables \n",
    "variables = ['cluster_cell_E', 'cluster_cell_ID',\n",
    "             'trackPt','trackD0','trackZ0',\n",
    "             'trackEta_EMB2','trackPhi_EMB2',\n",
    "             'trackEta','trackPhi',\n",
    "             'nCluster','nTrack','truthPartE',\n",
    "             'cluster_ENG_CALIB_TOT','cluster_E','cluster_Eta','cluster_Phi',\n",
    "             'cluster_EM_PROBABILITY','cluster_E_LCCalib','cluster_HAD_WEIGHT']"
   ]
  },
  {
   "cell_type": "markdown",
   "id": "6a7c1602-df69-4144-b390-15b74c35096c",
   "metadata": {},
   "source": [
    "Check out one file as a test..."
   ]
  },
  {
   "cell_type": "code",
   "execution_count": 4,
   "id": "ad884205-92c0-407b-a5b8-7010a61ef465",
   "metadata": {},
   "outputs": [
    {
     "data": {
      "text/plain": [
       "dict_keys(['runNumber', 'eventNumber', 'lumiBlock', 'coreFlags', 'mcEventNumber', 'mcChannelNumber', 'mcEventWeight', 'nTruthPart', 'G4PreCalo_n_EM', 'G4PreCalo_E_EM', 'G4PreCalo_n_Had', 'G4PreCalo_E_Had', 'truthVertexX', 'truthVertexY', 'truthVertexZ', 'truthPartPdgId', 'truthPartStatus', 'truthPartBarcode', 'truthPartPt', 'truthPartE', 'truthPartMass', 'truthPartEta', 'truthPartPhi', 'nTrack', 'trackPt', 'trackP', 'trackMass', 'trackEta', 'trackPhi', 'trackNumberOfPixelHits', 'trackNumberOfSCTHits', 'trackNumberOfPixelDeadSensors', 'trackNumberOfSCTDeadSensors', 'trackNumberOfPixelSharedHits', 'trackNumberOfSCTSharedHits', 'trackNumberOfPixelHoles', 'trackNumberOfSCTHoles', 'trackNumberOfInnermostPixelLayerHits', 'trackNumberOfNextToInnermostPixelLayerHits', 'trackExpectInnermostPixelLayerHit', 'trackExpectNextToInnermostPixelLayerHit', 'trackNumberOfTRTHits', 'trackNumberOfTRTOutliers', 'trackChiSquared', 'trackNumberDOF', 'trackD0', 'trackZ0', 'trackEta_PreSamplerB', 'trackPhi_PreSamplerB', 'trackEta_PreSamplerE', 'trackPhi_PreSamplerE', 'trackEta_EMB1', 'trackPhi_EMB1', 'trackEta_EMB2', 'trackPhi_EMB2', 'trackEta_EMB3', 'trackPhi_EMB3', 'trackEta_EME1', 'trackPhi_EME1', 'trackEta_EME2', 'trackPhi_EME2', 'trackEta_EME3', 'trackPhi_EME3', 'trackEta_HEC0', 'trackPhi_HEC0', 'trackEta_HEC1', 'trackPhi_HEC1', 'trackEta_HEC2', 'trackPhi_HEC2', 'trackEta_HEC3', 'trackPhi_HEC3', 'trackEta_TileBar0', 'trackPhi_TileBar0', 'trackEta_TileBar1', 'trackPhi_TileBar1', 'trackEta_TileBar2', 'trackPhi_TileBar2', 'trackEta_TileGap1', 'trackPhi_TileGap1', 'trackEta_TileGap2', 'trackPhi_TileGap2', 'trackEta_TileGap3', 'trackPhi_TileGap3', 'trackEta_TileExt0', 'trackPhi_TileExt0', 'trackEta_TileExt1', 'trackPhi_TileExt1', 'trackEta_TileExt2', 'trackPhi_TileExt2', 'AntiKt4EMTopoJetsPt', 'AntiKt4EMTopoJetsEta', 'AntiKt4EMTopoJetsPhi', 'AntiKt4EMTopoJetsE', 'AntiKt4LCTopoJetsPt', 'AntiKt4LCTopoJetsEta', 'AntiKt4LCTopoJetsPhi', 'AntiKt4LCTopoJetsE', 'AntiKt4TruthJetsPt', 'AntiKt4TruthJetsEta', 'AntiKt4TruthJetsPhi', 'AntiKt4TruthJetsE', 'AntiKt4TruthJetsFlavor', 'nCluster', 'cluster_E', 'cluster_E_LCCalib', 'cluster_Pt', 'cluster_Eta', 'cluster_Phi', 'cluster_nCells', 'cluster_ENG_CALIB_TOT', 'cluster_ENG_CALIB_OUT_T', 'cluster_ENG_CALIB_DEAD_TOT', 'cluster_EM_PROBABILITY', 'cluster_HAD_WEIGHT', 'cluster_OOC_WEIGHT', 'cluster_DM_WEIGHT', 'cluster_CENTER_MAG', 'cluster_FIRST_ENG_DENS', 'cluster_CENTER_LAMBDA', 'cluster_ISOLATION', 'cluster_ENERGY_DigiHSTruth', 'cluster_cell_ID', 'cluster_cell_E', 'cluster_hitsTruthIndex', 'cluster_hitsTruthE'])"
      ]
     },
     "execution_count": 4,
     "metadata": {},
     "output_type": "execute_result"
    }
   ],
   "source": [
    "a = uproot.open(pi0_files[0])[\"EventTree\"].arrays(library = \"np\")\n",
    "a.keys()"
   ]
  },
  {
   "cell_type": "markdown",
   "id": "fa2cbded-2487-41e7-8e71-16d68e97bd3b",
   "metadata": {},
   "source": [
    "Now apply all the cuts..."
   ]
  },
  {
   "cell_type": "code",
   "execution_count": 5,
   "id": "cbca2fc3-f9ee-4dac-a3c7-d35b09d32d56",
   "metadata": {},
   "outputs": [],
   "source": [
    "def apply_cuts(arrays):\n",
    "    df = pd.DataFrame(arrays)\n",
    "    \n",
    "    ### Single-track, single-cluster \n",
    "#     df = df[(df.nCluster == 1) & (df.nTrack == 1)]\n",
    "#     df = df[df[\"cluster_E\"] > 0.5] # if you only have one cluster\n",
    "#     df['dR'] = np.sqrt((df['cluster_Eta'].astype('float') - df['trackEta_EMB2'].astype('float'))**2 + \n",
    "#                      (df['cluster_Phi'].astype('float') - df['trackPhi_EMB2'].astype('float'))**2)\n",
    "#     df = df[df.dR < 0.2]\n",
    "\n",
    "    ### Single-track, multi-cluster \n",
    "    df = df[(df.nTrack == 1)]\n",
    "    dR_pass = []\n",
    "    for row in df.index:\n",
    "        dR_pass.append(np.sqrt((df['cluster_Eta'][row].astype('float') - df['trackEta_EMB2'][row].astype('float'))**2 + \n",
    "                               (df['cluster_Phi'][row].astype('float') - df['trackPhi_EMB2'][row].astype('float'))**2) < 0.2)\n",
    "    df[\"dR_pass\"] = dR_pass\n",
    "    df[\"event_number\"] = df.index\n",
    "    df.reset_index(inplace=True)\n",
    "    indices_pass = [] \n",
    "    for row in df.index: # kill all events with no clusters passing the delta R cut; deal with individual clusters at the training stage\n",
    "        if df.dR_pass[row].sum() > 0:\n",
    "            indices_pass.append(row)\n",
    "    df = df.iloc[indices_pass]\n",
    "    return df"
   ]
  },
  {
   "cell_type": "code",
   "execution_count": 8,
   "id": "cab8e04e-7687-4a9f-bba7-a2ca19bef40c",
   "metadata": {},
   "outputs": [
    {
     "name": "stderr",
     "output_type": "stream",
     "text": [
      "100%|██████████| 500/500 [17:36<00:00,  2.11s/it]\n"
     ]
    }
   ],
   "source": [
    "for file in tqdm(pi0_files):\n",
    "    prefix = file.split(\"/\")[:-2]\n",
    "    number = file.split(\"000\")[-1][:-5]\n",
    "    folder = os.path.join(\"/\".join(prefix), \"onetrack_multicluster\", \"pi0_files\")\n",
    "    os.makedirs(folder, exist_ok=True)\n",
    "    npy_filename = os.path.join(folder, str(number)+\".npy\")\n",
    "    a = uproot.open(file)[\"EventTree\"].arrays(variables, library = \"np\")\n",
    "    df = apply_cuts(a)\n",
    "    a_cuts = df.to_dict('list')\n",
    "    np.save(npy_filename, a_cuts) "
   ]
  },
  {
   "cell_type": "code",
   "execution_count": 9,
   "id": "c5089240-89f9-4709-9cc3-981e4b28a450",
   "metadata": {},
   "outputs": [
    {
     "name": "stderr",
     "output_type": "stream",
     "text": [
      "100%|██████████| 500/500 [29:50<00:00,  3.58s/it]\n"
     ]
    }
   ],
   "source": [
    "for file in tqdm(pion_files):\n",
    "    prefix = file.split(\"/\")[:-2]\n",
    "    number = file.split(\"000\")[-1][:-5]\n",
    "    folder = os.path.join(\"/\".join(prefix), \"onetrack_multicluster\", \"pion_files\")\n",
    "    os.makedirs(folder, exist_ok=True)\n",
    "    npy_filename = os.path.join(folder, str(number)+\".npy\")\n",
    "    a = uproot.open(file)[\"EventTree\"].arrays(variables, library = \"np\")\n",
    "    df = apply_cuts(a)\n",
    "    a_cuts = df.to_dict('list')\n",
    "    np.save(npy_filename, a_cuts) "
   ]
  },
  {
   "cell_type": "code",
   "execution_count": null,
   "id": "38b81ae9-6dad-412e-bbbc-f0f1cbb6f80e",
   "metadata": {},
   "outputs": [],
   "source": []
  }
 ],
 "metadata": {
  "kernelspec": {
   "display_name": "nbdev",
   "language": "python",
   "name": "nbdev"
  },
  "language_info": {
   "codemirror_mode": {
    "name": "ipython",
    "version": 3
   },
   "file_extension": ".py",
   "mimetype": "text/x-python",
   "name": "python",
   "nbconvert_exporter": "python",
   "pygments_lexer": "ipython3",
   "version": "3.9.7"
  }
 },
 "nbformat": 4,
 "nbformat_minor": 5
}
