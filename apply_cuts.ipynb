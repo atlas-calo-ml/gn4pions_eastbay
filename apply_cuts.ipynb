{
 "cells": [
  {
   "cell_type": "code",
   "execution_count": 2,
   "id": "de6716b1-8361-4bad-9d35-019f3147c376",
   "metadata": {
    "execution": {
     "iopub.execute_input": "2022-07-19T23:28:46.034145Z",
     "iopub.status.busy": "2022-07-19T23:28:46.033973Z",
     "iopub.status.idle": "2022-07-19T23:28:47.388669Z",
     "shell.execute_reply": "2022-07-19T23:28:47.388003Z",
     "shell.execute_reply.started": "2022-07-19T23:28:46.034125Z"
    },
    "tags": []
   },
   "outputs": [],
   "source": [
    "import uproot\n",
    "from glob import glob\n",
    "import json \n",
    "import os\n",
    "from tqdm import tqdm\n",
    "import numpy as np\n",
    "import pandas as pd\n",
    "import matplotlib.pyplot as plt"
   ]
  },
  {
   "cell_type": "code",
   "execution_count": 3,
   "id": "31e0d8bc-71e7-4aaa-85c2-164dec2fcf9e",
   "metadata": {
    "execution": {
     "iopub.execute_input": "2022-07-19T23:28:47.389894Z",
     "iopub.status.busy": "2022-07-19T23:28:47.389742Z",
     "iopub.status.idle": "2022-07-19T23:28:47.397206Z",
     "shell.execute_reply": "2022-07-19T23:28:47.396696Z",
     "shell.execute_reply.started": "2022-07-19T23:28:47.389875Z"
    },
    "tags": []
   },
   "outputs": [],
   "source": [
    "pi0_dir = '/clusterfs/ml4hep/mpettee/ml4pions/data/root_files/user.angerami.mc16_13TeV.900246.PG_singlepi0_logE0p2to2000.e8312_e7400_s3170_r12383.v01-45-gaa27bcb_OutputStream/'\n",
    "pion_dir = '/clusterfs/ml4hep/mpettee/ml4pions/data/root_files/user.angerami.mc16_13TeV.900247.PG_singlepion_logE0p2to2000.e8312_e7400_s3170_r12383.v01-45-gaa27bcb_OutputStream/'\n",
    "pi0_files = sorted(glob(pi0_dir+\"*.root\"))\n",
    "pion_files = sorted(glob(pion_dir+\"*.root\"))"
   ]
  },
  {
   "cell_type": "code",
   "execution_count": null,
   "id": "b71a1293-2243-4d2d-b0fc-efcaab9e2276",
   "metadata": {},
   "outputs": [],
   "source": [
    "with open('pion_train.json', 'w') as f:\n",
    "    json.dump(pion_files[:350], f)\n",
    "with open('pion_val.json', 'w') as f:\n",
    "    json.dump(pion_files[350:400], f)\n",
    "with open('pion_test.json', 'w') as f:\n",
    "    json.dump(pion_files[400:], f)"
   ]
  },
  {
   "cell_type": "code",
   "execution_count": null,
   "id": "cbca2fc3-f9ee-4dac-a3c7-d35b09d32d56",
   "metadata": {},
   "outputs": [],
   "source": [
    "import math \n",
    "def delta_phi(phi1, phi2):\n",
    "    return (phi1 - phi2 + math.pi) % (2*math.pi) - math.pi\n",
    "\n",
    "def apply_cuts(arrays):\n",
    "    df = pd.DataFrame(arrays)\n",
    "\n",
    "    ### Single-track, multi-cluster \n",
    "    df = df[(df.nTrack == 1)]\n",
    "    dR_pass = []\n",
    "    deltaR_list = []\n",
    "    for row in df.index:\n",
    "        try:\n",
    "            deltaR = np.sqrt((df['cluster_Eta'][row].astype('float') - df['trackEta'][row].astype('float'))**2 + \n",
    "                               delta_phi(df['cluster_Phi'][row].astype('float'), df['trackPhi'][row].astype('float'))**2)\n",
    "        except:\n",
    "            deltaR = np.array(999)\n",
    "        deltaR_list.append(deltaR)\n",
    "        dR_pass.append(deltaR < 1.2)\n",
    "    df[\"deltaR\"] = deltaR_list\n",
    "    df[\"dR_pass\"] = dR_pass\n",
    "    df[\"event_number\"] = df.index\n",
    "    df.reset_index(inplace=True)\n",
    "    indices_pass = [] \n",
    "    for row in df.index: # kill all events with no clusters passing the delta R cut; deal with individual clusters at the training stage\n",
    "        if len(df['trackPt'][row]) > 1:\n",
    "            continue\n",
    "        elif df.dR_pass[row].sum() > 0:\n",
    "            indices_pass.append(row)\n",
    "    df = df.iloc[indices_pass]\n",
    "    df = df[(df.trackPt < 10**5)] # Track pT cut \n",
    "    return df"
   ]
  },
  {
   "cell_type": "code",
   "execution_count": null,
   "id": "7b2b209c-44ba-442b-a2b4-8df3111cd403",
   "metadata": {
    "tags": []
   },
   "outputs": [],
   "source": [
    "# use a pared-down list of variables \n",
    "variables = ['cluster_cell_E', 'cluster_cell_ID',\n",
    "             'trackPt','trackD0','trackZ0',\n",
    "             'trackEta_EMB2','trackPhi_EMB2',\n",
    "             'trackEta_EME2','trackPhi_EME2',\n",
    "             'trackEta','trackPhi',\n",
    "             'nCluster','nTrack','truthPartE', 'truthPartPt',\n",
    "             'cluster_ENG_CALIB_TOT','cluster_E','cluster_Eta','cluster_Phi',\n",
    "             'cluster_EM_PROBABILITY','cluster_E_LCCalib','cluster_HAD_WEIGHT']"
   ]
  },
  {
   "cell_type": "code",
   "execution_count": null,
   "id": "cab8e04e-7687-4a9f-bba7-a2ca19bef40c",
   "metadata": {},
   "outputs": [],
   "source": [
    "for file in tqdm(pi0_files):\n",
    "    prefix = file.split(\"/\")[:-2]\n",
    "    number = file.split(\"000\")[-1][:-5]\n",
    "    folder = os.path.join(\"/\".join(prefix), \n",
    "                          \"onetrack_multicluster\", \n",
    "                          \"pi0_files\")\n",
    "    os.makedirs(folder, exist_ok=True)\n",
    "    npy_filename = os.path.join(folder, str(number)+\".npy\")\n",
    "    a = uproot.open(file)[\"EventTree\"].arrays(variables, library = \"np\")\n",
    "    df = apply_cuts(a)\n",
    "    a_cuts = df.to_dict('list')\n",
    "    np.save(npy_filename, a_cuts) "
   ]
  },
  {
   "cell_type": "code",
   "execution_count": null,
   "id": "c5089240-89f9-4709-9cc3-981e4b28a450",
   "metadata": {},
   "outputs": [],
   "source": [
    "for file in tqdm(pion_files):\n",
    "    prefix = file.split(\"/\")[:-2]\n",
    "    number = file.split(\"000\")[-1][:-5]\n",
    "    folder = os.path.join(\"/\".join(prefix), \n",
    "                          \"onetrack_multicluster\", \n",
    "                          \"pion_files\")\n",
    "    os.makedirs(folder, exist_ok=True)\n",
    "    npy_filename = os.path.join(folder, str(number)+\".npy\")\n",
    "    a = uproot.open(file)[\"EventTree\"].arrays(variables, library = \"np\")\n",
    "    df = apply_cuts(a)\n",
    "    a_cuts = df.to_dict('list')\n",
    "    np.save(npy_filename, a_cuts) "
   ]
  },
  {
   "cell_type": "markdown",
   "id": "928f8ef6-a602-497e-a133-9cec85df81da",
   "metadata": {},
   "source": [
    "### Testing"
   ]
  },
  {
   "cell_type": "code",
   "execution_count": 73,
   "id": "019b07bd-2d15-4960-bcc8-82539af5b836",
   "metadata": {
    "execution": {
     "iopub.execute_input": "2022-07-20T17:46:56.672839Z",
     "iopub.status.busy": "2022-07-20T17:46:56.672536Z",
     "iopub.status.idle": "2022-07-20T17:47:01.421324Z",
     "shell.execute_reply": "2022-07-20T17:47:01.420713Z",
     "shell.execute_reply.started": "2022-07-20T17:46:56.672806Z"
    },
    "tags": []
   },
   "outputs": [
    {
     "data": {
      "text/plain": [
       "dict_keys(['runNumber', 'eventNumber', 'lumiBlock', 'coreFlags', 'mcEventNumber', 'mcChannelNumber', 'mcEventWeight', 'nTruthPart', 'G4PreCalo_n_EM', 'G4PreCalo_E_EM', 'G4PreCalo_n_Had', 'G4PreCalo_E_Had', 'truthVertexX', 'truthVertexY', 'truthVertexZ', 'truthPartPdgId', 'truthPartStatus', 'truthPartBarcode', 'truthPartPt', 'truthPartE', 'truthPartMass', 'truthPartEta', 'truthPartPhi', 'nTrack', 'trackPt', 'trackP', 'trackMass', 'trackEta', 'trackPhi', 'trackNumberOfPixelHits', 'trackNumberOfSCTHits', 'trackNumberOfPixelDeadSensors', 'trackNumberOfSCTDeadSensors', 'trackNumberOfPixelSharedHits', 'trackNumberOfSCTSharedHits', 'trackNumberOfPixelHoles', 'trackNumberOfSCTHoles', 'trackNumberOfInnermostPixelLayerHits', 'trackNumberOfNextToInnermostPixelLayerHits', 'trackExpectInnermostPixelLayerHit', 'trackExpectNextToInnermostPixelLayerHit', 'trackNumberOfTRTHits', 'trackNumberOfTRTOutliers', 'trackChiSquared', 'trackNumberDOF', 'trackD0', 'trackZ0', 'trackEta_PreSamplerB', 'trackPhi_PreSamplerB', 'trackEta_PreSamplerE', 'trackPhi_PreSamplerE', 'trackEta_EMB1', 'trackPhi_EMB1', 'trackEta_EMB2', 'trackPhi_EMB2', 'trackEta_EMB3', 'trackPhi_EMB3', 'trackEta_EME1', 'trackPhi_EME1', 'trackEta_EME2', 'trackPhi_EME2', 'trackEta_EME3', 'trackPhi_EME3', 'trackEta_HEC0', 'trackPhi_HEC0', 'trackEta_HEC1', 'trackPhi_HEC1', 'trackEta_HEC2', 'trackPhi_HEC2', 'trackEta_HEC3', 'trackPhi_HEC3', 'trackEta_TileBar0', 'trackPhi_TileBar0', 'trackEta_TileBar1', 'trackPhi_TileBar1', 'trackEta_TileBar2', 'trackPhi_TileBar2', 'trackEta_TileGap1', 'trackPhi_TileGap1', 'trackEta_TileGap2', 'trackPhi_TileGap2', 'trackEta_TileGap3', 'trackPhi_TileGap3', 'trackEta_TileExt0', 'trackPhi_TileExt0', 'trackEta_TileExt1', 'trackPhi_TileExt1', 'trackEta_TileExt2', 'trackPhi_TileExt2', 'AntiKt4EMTopoJetsPt', 'AntiKt4EMTopoJetsEta', 'AntiKt4EMTopoJetsPhi', 'AntiKt4EMTopoJetsE', 'AntiKt4LCTopoJetsPt', 'AntiKt4LCTopoJetsEta', 'AntiKt4LCTopoJetsPhi', 'AntiKt4LCTopoJetsE', 'AntiKt4TruthJetsPt', 'AntiKt4TruthJetsEta', 'AntiKt4TruthJetsPhi', 'AntiKt4TruthJetsE', 'AntiKt4TruthJetsFlavor', 'nCluster', 'cluster_E', 'cluster_E_LCCalib', 'cluster_Pt', 'cluster_Eta', 'cluster_Phi', 'cluster_nCells', 'cluster_ENG_CALIB_TOT', 'cluster_ENG_CALIB_OUT_T', 'cluster_ENG_CALIB_DEAD_TOT', 'cluster_EM_PROBABILITY', 'cluster_HAD_WEIGHT', 'cluster_OOC_WEIGHT', 'cluster_DM_WEIGHT', 'cluster_CENTER_MAG', 'cluster_FIRST_ENG_DENS', 'cluster_CENTER_LAMBDA', 'cluster_ISOLATION', 'cluster_ENERGY_DigiHSTruth', 'cluster_cell_ID', 'cluster_cell_E', 'cluster_hitsTruthIndex', 'cluster_hitsTruthE'])"
      ]
     },
     "execution_count": 73,
     "metadata": {},
     "output_type": "execute_result"
    }
   ],
   "source": [
    "a = uproot.open(pi0_files[0])[\"EventTree\"].arrays(\n",
    "    # variables, \n",
    "    library = \"np\")\n",
    "a.keys()"
   ]
  },
  {
   "cell_type": "code",
   "execution_count": 74,
   "id": "1788da2d-6de4-43a2-9823-45ddf2d3aed8",
   "metadata": {
    "execution": {
     "iopub.execute_input": "2022-07-20T17:47:08.836657Z",
     "iopub.status.busy": "2022-07-20T17:47:08.836241Z",
     "iopub.status.idle": "2022-07-20T17:47:08.864185Z",
     "shell.execute_reply": "2022-07-20T17:47:08.863393Z",
     "shell.execute_reply.started": "2022-07-20T17:47:08.836615Z"
    },
    "tags": []
   },
   "outputs": [],
   "source": [
    "df = pd.DataFrame(a)\n",
    "# df = df[(df.nTrack == 1)]"
   ]
  },
  {
   "cell_type": "code",
   "execution_count": 21,
   "id": "136e97f3-59f9-43f9-b838-bb58d3799da1",
   "metadata": {
    "execution": {
     "iopub.execute_input": "2022-07-20T04:21:46.459265Z",
     "iopub.status.busy": "2022-07-20T04:21:46.459096Z",
     "iopub.status.idle": "2022-07-20T04:21:46.489965Z",
     "shell.execute_reply": "2022-07-20T04:21:46.489317Z",
     "shell.execute_reply.started": "2022-07-20T04:21:46.459247Z"
    },
    "tags": []
   },
   "outputs": [
    {
     "data": {
      "text/plain": [
       "87.5297559286827"
      ]
     },
     "execution_count": 21,
     "metadata": {},
     "output_type": "execute_result"
    }
   ],
   "source": [
    "np.mean(df.cluster_nCells.explode())"
   ]
  },
  {
   "cell_type": "code",
   "execution_count": null,
   "id": "39304907-6f7c-48da-aa84-6293248270f4",
   "metadata": {},
   "outputs": [],
   "source": [
    "for row in df.index:\n",
    "    np.sqrt((df['cluster_Eta'][row].astype('float') - \n",
    "             df['trackEta'][row].astype('float'))**2 + \n",
    "                           delta_phi(df['cluster_Phi'][row].astype('float'), \n",
    "                                     df['trackPhi'][row].astype('float'))**2)"
   ]
  },
  {
   "cell_type": "code",
   "execution_count": 11,
   "id": "670f2634-fc1a-4240-80b5-d8262c8654e3",
   "metadata": {
    "execution": {
     "iopub.execute_input": "2022-07-19T23:30:01.686812Z",
     "iopub.status.busy": "2022-07-19T23:30:01.686156Z",
     "iopub.status.idle": "2022-07-19T23:30:01.754415Z",
     "shell.execute_reply": "2022-07-19T23:30:01.753725Z",
     "shell.execute_reply.started": "2022-07-19T23:30:01.686784Z"
    },
    "tags": []
   },
   "outputs": [],
   "source": [
    "df[\"truthPartE\"] = df.truthPartE.explode()\n",
    "df[\"trackPt\"] = df.trackPt.explode()\n",
    "df[\"trackChiSquared\"] = df.trackChiSquared.explode()"
   ]
  },
  {
   "cell_type": "code",
   "execution_count": 108,
   "id": "d36b02ba-17cb-4be4-9e2b-5b114f6a1bed",
   "metadata": {
    "execution": {
     "iopub.execute_input": "2022-07-20T17:55:25.071442Z",
     "iopub.status.busy": "2022-07-20T17:55:25.071119Z",
     "iopub.status.idle": "2022-07-20T18:00:01.246021Z",
     "shell.execute_reply": "2022-07-20T18:00:01.245245Z",
     "shell.execute_reply.started": "2022-07-20T17:55:25.071420Z"
    },
    "tags": []
   },
   "outputs": [
    {
     "name": "stderr",
     "output_type": "stream",
     "text": [
      "100%|██████████| 50/50 [04:30<00:00,  5.42s/it]\n"
     ]
    }
   ],
   "source": [
    "dfs = []\n",
    "for file in tqdm(pion_files[:50]):\n",
    "    a = uproot.open(file)[\"EventTree\"].arrays(library = \"np\")\n",
    "    dff = pd.DataFrame(a)\n",
    "    dff[\"nCluster\"] = dff.nCluster.explode()\n",
    "    dff[\"pion_eta\"] = dff.truthPartEta.explode()\n",
    "    dfs.append(dff)\n",
    "df_pion = pd.concat(dfs)"
   ]
  },
  {
   "cell_type": "code",
   "execution_count": 109,
   "id": "5ee50304-6ef6-4dd7-8257-bde0a8d09d0e",
   "metadata": {
    "execution": {
     "iopub.execute_input": "2022-07-20T18:00:01.265924Z",
     "iopub.status.busy": "2022-07-20T18:00:01.265673Z",
     "iopub.status.idle": "2022-07-20T18:04:10.034988Z",
     "shell.execute_reply": "2022-07-20T18:04:10.034213Z",
     "shell.execute_reply.started": "2022-07-20T18:00:01.265908Z"
    },
    "tags": []
   },
   "outputs": [
    {
     "name": "stderr",
     "output_type": "stream",
     "text": [
      "100%|██████████| 50/50 [04:03<00:00,  4.87s/it]\n"
     ]
    }
   ],
   "source": [
    "dfs = []\n",
    "for file in tqdm(pi0_files[:50]):\n",
    "    a = uproot.open(file)[\"EventTree\"].arrays(library = \"np\")\n",
    "    dff = pd.DataFrame(a)\n",
    "    dff[\"nCluster\"] = dff.nCluster.explode()\n",
    "    pion_eta = []\n",
    "    for row in dff.index:\n",
    "        pion_eta.append(dff.truthPartEta[row][0])\n",
    "    dff[\"pion_eta\"] = np.array(pion_eta)\n",
    "    dfs.append(dff)\n",
    "df_pi0 = pd.concat(dfs)"
   ]
  },
  {
   "cell_type": "code",
   "execution_count": 122,
   "id": "4eb86584-874b-40a6-9823-1d70467d5442",
   "metadata": {
    "execution": {
     "iopub.execute_input": "2022-07-20T18:36:09.133628Z",
     "iopub.status.busy": "2022-07-20T18:36:09.133354Z",
     "iopub.status.idle": "2022-07-20T18:36:09.515076Z",
     "shell.execute_reply": "2022-07-20T18:36:09.514700Z",
     "shell.execute_reply.started": "2022-07-20T18:36:09.133598Z"
    },
    "tags": []
   },
   "outputs": [
    {
     "data": {
      "image/png": "[encoded data removed]",
      "text/plain": [
       "<Figure size 1200x800 with 1 Axes>"
      ]
     },
     "metadata": {
      "needs_background": "light"
     },
     "output_type": "display_data"
    }
   ],
   "source": [
    "from scipy import stats \n",
    "binned_stats_pion = stats.binned_statistic(np.array(np.abs(df_pion.pion_eta), dtype=float), \n",
    "                                           np.array(df_pion.nCluster, dtype=float), \n",
    "                                           statistic='mean', bins=5)\n",
    "\n",
    "binned_stats_pi0 = stats.binned_statistic(np.array(np.abs(df_pi0.pion_eta), dtype=float), \n",
    "                                           np.array(df_pi0.nCluster, dtype=float), \n",
    "                                           statistic='mean', bins=5)\n",
    "\n",
    "plt.figure(dpi=200)\n",
    "plt.plot(binned_stats_pion.bin_edges[:-1], binned_stats_pion.statistic, label=r\"$\\pi^{\\pm}$\")\n",
    "plt.plot(binned_stats_pi0.bin_edges[:-1], binned_stats_pi0.statistic, label=r\"$\\pi^{0}$\")\n",
    "plt.xlabel(r\"True Pion $|\\eta|$\");\n",
    "plt.ylabel(\"Median Number of Clusters per Pion\");\n",
    "plt.legend();"
   ]
  },
  {
   "cell_type": "code",
   "execution_count": 13,
   "id": "86e3d5c0-0b30-4ceb-80c6-8840254f7e8a",
   "metadata": {
    "execution": {
     "iopub.execute_input": "2022-07-15T00:11:43.721046Z",
     "iopub.status.busy": "2022-07-15T00:11:43.720758Z",
     "iopub.status.idle": "2022-07-15T00:11:43.796549Z",
     "shell.execute_reply": "2022-07-15T00:11:43.795873Z",
     "shell.execute_reply.started": "2022-07-15T00:11:43.721015Z"
    },
    "tags": []
   },
   "outputs": [],
   "source": [
    "df = pd.DataFrame(a)\n",
    "\n",
    "#     ### Single-track, multi-cluster \n",
    "df = df[(df.nTrack == 1)]\n",
    "#     dR_pass = []\n",
    "#     deltaR_list = []\n",
    "#     for row in df.index:\n",
    "#         try:\n",
    "#             deltaR = np.sqrt((df['cluster_Eta'][row].astype('float') - df['trackEta'][row].astype('float'))**2 + \n",
    "#                                delta_phi(df['cluster_Phi'][row].astype('float'), df['trackPhi'][row].astype('float'))**2)\n",
    "#         except:\n",
    "#             deltaR = np.array(999)\n",
    "#         deltaR_list.append(deltaR)\n",
    "#         dR_pass.append(deltaR < 1.2)\n",
    "#     df[\"deltaR\"] = deltaR_list\n",
    "#     df[\"dR_pass\"] = dR_pass\n",
    "#     df[\"event_number\"] = df.index\n",
    "#     df.reset_index(inplace=True)\n",
    "#     indices_pass = [] \n",
    "#     for row in df.index: # kill all events with no clusters passing the delta R cut; deal with individual clusters at the training stage\n",
    "#         if len(df['trackPt'][row]) > 1:\n",
    "#             continue\n",
    "#         elif df.dR_pass[row].sum() > 0:\n",
    "#             indices_pass.append(row)\n",
    "#     df = df.iloc[indices_pass]\n",
    "#     df = df[(df.trackPt < 10**5)] # Track pT cut \n",
    "#     return df"
   ]
  },
  {
   "cell_type": "code",
   "execution_count": null,
   "id": "352c0381-9d4f-41fe-b968-af50cb5dfdb4",
   "metadata": {
    "tags": []
   },
   "outputs": [],
   "source": [
    "for file in tqdm(pion_files[:10]):\n",
    "    a = uproot.open(file)[\"EventTree\"].arrays(variables, library = \"np\")\n",
    "    df = pd.DataFrame(a)\n",
    "    if len(df[(df.truthPartE < 0.3) & (df.nTrack == 1)]) != 0:\n",
    "        print(\"Match found!\")\n",
    "# print(df.truthPartE.min())"
   ]
  },
  {
   "cell_type": "code",
   "execution_count": null,
   "id": "09a988be-4a20-4731-9012-8e62d78675ec",
   "metadata": {
    "tags": []
   },
   "outputs": [],
   "source": [
    "df = pd.concat([pd.DataFrame(uproot.open(file)[\"EventTree\"].arrays(variables, library = \"np\")) \n",
    "                for file in tqdm(pion_files[400:])])\n",
    "df.reset_index(inplace=True)\n",
    "print(len(df[(df.truthPartE < 0.3) & (df.nTrack == 1)]))\n",
    "print(df[(df.truthPartE < 0.3) & (df.nTrack == 1)].truthPartE)"
   ]
  },
  {
   "cell_type": "code",
   "execution_count": null,
   "id": "07075a4c-d8bf-415c-90e9-7006251f8a4d",
   "metadata": {
    "tags": []
   },
   "outputs": [],
   "source": [
    "df[(df.truthPartE < 0.3) & (df.nTrack == 1)].truthPartE"
   ]
  },
  {
   "cell_type": "code",
   "execution_count": null,
   "id": "06d2de4b-99e5-42d3-95d8-abab92e4f108",
   "metadata": {
    "tags": []
   },
   "outputs": [],
   "source": [
    "df = pd.concat([pd.DataFrame(uproot.open(file)[\"EventTree\"].arrays(variables, library = \"np\")) \n",
    "                for file in tqdm(pion_files[300:400])])\n",
    "df.reset_index(inplace=True)\n",
    "print(len(df[(df.truthPartE < 0.3) & (df.nTrack == 1)]))\n",
    "print(df[(df.truthPartE < 0.3) & (df.nTrack == 1)].truthPartE)"
   ]
  },
  {
   "cell_type": "code",
   "execution_count": null,
   "id": "230de6f1-0d41-4436-8903-b4c9071cc0f8",
   "metadata": {},
   "outputs": [],
   "source": [
    "df = pd.concat([pd.DataFrame(uproot.open(file)[\"EventTree\"].arrays(variables, library = \"np\")) \n",
    "                for file in tqdm(pion_files[:300])])\n",
    "df.reset_index(inplace=True)\n",
    "print(len(df[(df.truthPartE < 0.3) & (df.nTrack == 1)]))\n",
    "print(df[(df.truthPartE < 0.3) & (df.nTrack == 1)].truthPartE)"
   ]
  },
  {
   "cell_type": "code",
   "execution_count": null,
   "id": "b086bbe1-88b7-4475-8e3d-e6bbe5156863",
   "metadata": {
    "tags": []
   },
   "outputs": [],
   "source": [
    "df[(df.truthPartE < 0.25)].nTrack.value_counts()"
   ]
  },
  {
   "cell_type": "code",
   "execution_count": null,
   "id": "ceceb0b8-805b-4fc7-8555-cd33d3688969",
   "metadata": {
    "tags": []
   },
   "outputs": [],
   "source": [
    "df[(df.truthPartE < 0.25) & (df.nTrack == 1)].truthPartE"
   ]
  },
  {
   "cell_type": "code",
   "execution_count": null,
   "id": "aa605dcb-8a10-4c85-bd7f-741d7de9f38c",
   "metadata": {},
   "outputs": [],
   "source": [
    "df_test = pd.concat([pd.DataFrame(uproot.open(file)[\"EventTree\"].arrays(variables, library = \"np\")) \n",
    "                for file in tqdm(pion_files[400:])])\n",
    "df_test.reset_index(inplace=True)\n",
    "print(len(df_test[(df_test.truthPartE < 0.25) & (df_test.nTrack == 1)]))\n",
    "print(df_test[(df_test.truthPartE < 0.25) & (df_test.nTrack == 1)].truthPartE)"
   ]
  },
  {
   "cell_type": "code",
   "execution_count": null,
   "id": "3bd900bc-ac50-4a93-a106-085cea962a9d",
   "metadata": {},
   "outputs": [],
   "source": [
    "df_all = pd.concat([pd.DataFrame(uproot.open(file)[\"EventTree\"].arrays(variables, library = \"np\")) \n",
    "                for file in tqdm(pion_files)])\n",
    "df_all.reset_index(inplace=True)\n",
    "print(len(df_all[(df_all.truthPartE < 0.25) & (df_all.nTrack == 1)]))\n",
    "print(df_all[(df_all.truthPartE < 0.25) & (df_all.nTrack == 1)].truthPartE)"
   ]
  },
  {
   "cell_type": "code",
   "execution_count": null,
   "id": "221b1367-e716-45e4-bf5d-97b7b3d66b4e",
   "metadata": {
    "tags": []
   },
   "outputs": [],
   "source": [
    "len(df[(df.truthPartE < 0.3) & (df.nTrack == 1)])"
   ]
  },
  {
   "cell_type": "code",
   "execution_count": null,
   "id": "3bfbc00e-61dc-4c55-8059-bcfbda6907c3",
   "metadata": {
    "tags": []
   },
   "outputs": [],
   "source": [
    "100*6/len(df)"
   ]
  },
  {
   "cell_type": "code",
   "execution_count": null,
   "id": "8a0c230e-e384-40ff-b9ae-2acefc7c4429",
   "metadata": {
    "tags": []
   },
   "outputs": [],
   "source": [
    "df[(df.truthPartE < 0.3) & (df.nTrack == 1)].truthPartE"
   ]
  },
  {
   "cell_type": "code",
   "execution_count": null,
   "id": "8473a57c-3d33-4dc4-bf13-5401610537d1",
   "metadata": {
    "tags": []
   },
   "outputs": [],
   "source": [
    "df_2 = pd.concat([pd.DataFrame(uproot.open(file)[\"EventTree\"].arrays(variables, library = \"np\")) \n",
    "                for file in tqdm(pion_files)])\n",
    "df_2.reset_index(inplace=True)"
   ]
  },
  {
   "cell_type": "code",
   "execution_count": null,
   "id": "56761eee-e4f9-441f-a5a3-cd335e13dcb6",
   "metadata": {},
   "outputs": [],
   "source": [
    "df_2[(df_2.truthPartE < 0.3) & (df_2.nTrack == 1)].truthPartE"
   ]
  },
  {
   "cell_type": "code",
   "execution_count": null,
   "id": "1c8198e5-3357-4489-8909-a1e08536cd36",
   "metadata": {},
   "outputs": [],
   "source": [
    "a = uproot.open(pion_files[0])[\"EventTree\"].arrays(variables, library = \"np\")\n",
    "df = pd.DataFrame(a)\n",
    "df = df[(df.nTrack == 1)]\n",
    "print(df.truthPartE.min())"
   ]
  },
  {
   "cell_type": "code",
   "execution_count": null,
   "id": "9c8dd50d-a6b0-4721-ab62-15a6bbb6d16b",
   "metadata": {
    "tags": []
   },
   "outputs": [],
   "source": [
    "df.truthPartE.min()"
   ]
  },
  {
   "cell_type": "code",
   "execution_count": null,
   "id": "182f95f9-5b7b-4bc3-9bc7-e9e794c68ad3",
   "metadata": {},
   "outputs": [],
   "source": [
    "df = apply_cuts(a)"
   ]
  },
  {
   "cell_type": "code",
   "execution_count": null,
   "id": "df26211f-def5-46a6-a0eb-b50e52caa8aa",
   "metadata": {},
   "outputs": [],
   "source": [
    "all_drs = []\n",
    "dfs = []\n",
    "for file in tqdm(pion_files[:10]):\n",
    "    prefix = file.split(\"/\")[:-2]\n",
    "    number = file.split(\"000\")[-1][:-5]\n",
    "    folder = os.path.join(\"/\".join(prefix), \"onetrack_multicluster\", \"pion_files\")\n",
    "    os.makedirs(folder, exist_ok=True)\n",
    "    npy_filename = os.path.join(folder, str(number)+\".npy\")\n",
    "    a = uproot.open(file)[\"EventTree\"].arrays(variables, library = \"np\")\n",
    "    df = apply_cuts(a)\n",
    "    list = df.deltaR.to_numpy().flatten()\n",
    "    drs = np.concatenate(list, axis=0)\n",
    "    all_drs.append(drs)\n",
    "    dfs.append(df)\n",
    "    \n",
    "import matplotlib.pyplot as plt\n",
    "all_drs = np.concatenate(all_drs, axis=0)\n",
    "\n",
    "plt.figure(dpi=200)\n",
    "plt.hist(all_drs, bins=np.linspace(0.5,1.5,30));\n",
    "plt.xlabel(r\"$\\Delta R$(cluster,track)\")\n",
    "\n",
    "plt.figure(dpi=200)\n",
    "plt.hist(all_drs, bins=np.linspace(0.5,1.5,30));\n",
    "plt.yscale(\"log\")\n",
    "plt.xlabel(r\"$\\Delta R$(cluster,track)\")"
   ]
  },
  {
   "cell_type": "code",
   "execution_count": null,
   "id": "e013880f-82b5-4a9b-9eb7-fb188e63abf3",
   "metadata": {},
   "outputs": [],
   "source": [
    "df = pd.concat([df for df in dfs])"
   ]
  },
  {
   "cell_type": "code",
   "execution_count": null,
   "id": "2629f9b9-1cc5-41d7-b9e8-58fb00534aa3",
   "metadata": {},
   "outputs": [],
   "source": [
    "plt.figure(dpi=150)\n",
    "plt.hist(np.concatenate(df.trackPt.to_numpy().flatten(), axis=0), bins=10);\n",
    "plt.xlabel(r\"Track $p_T$\")\n",
    "plt.yscale(\"log\")"
   ]
  },
  {
   "cell_type": "markdown",
   "id": "a02f3399-8b5e-49ac-a103-7665d3bb5f36",
   "metadata": {},
   "source": [
    "### Scaling"
   ]
  },
  {
   "cell_type": "code",
   "execution_count": null,
   "id": "9da55693-c71d-47c8-87b9-b6bd716213b4",
   "metadata": {},
   "outputs": [],
   "source": [
    "cluster_cell_e = []\n",
    "cluster_e = []\n",
    "cluster_eta = []\n",
    "cluster_phi = []\n",
    "track_pt = []\n",
    "track_z0 = []\n",
    "track_eta = []\n",
    "track_phi = []\n",
    "truth_part_e = []\n",
    "\n",
    "n_files = 10\n",
    "\n",
    "for file in tqdm(pion_files[:n_files]):\n",
    "    prefix = file.split(\"/\")[:-2]\n",
    "    number = file.split(\"000\")[-1][:-5]\n",
    "    a = uproot.open(file)[\"EventTree\"].arrays(variables, library = \"np\")\n",
    "    df = apply_cuts(a)\n",
    "    track_pt.append(df.trackPt.explode())\n",
    "    track_z0.append(df.trackZ0)\n",
    "    track_eta.append(df.trackEta)\n",
    "    track_phi.append(df.trackPhi)\n",
    "    truth_part_e.append(df.truthPartE.explode())\n",
    "    for i in range(len(df)): \n",
    "        for cluster in range(df.nCluster.iloc[i]):\n",
    "            cluster_cell_e.append(np.array(np.log10(df.cluster_cell_E.iloc[i][cluster])))\n",
    "            cluster_e.append(np.array(np.log10(df.cluster_E.iloc[i][cluster])))\n",
    "            cluster_eta.append(np.array(df.cluster_Eta.iloc[i][cluster]))\n",
    "            cluster_phi.append(np.array(df.cluster_Phi.iloc[i][cluster]))\n",
    "\n",
    "print(\"Track pT | mean: {} | std: {}\".format(np.mean([np.log10(x) for x in np.concatenate(track_pt)]), np.std([np.log10(x) for x in np.concatenate(track_pt)])))\n",
    "print(\"Track z0 | mean: {} | std: {}\".format(np.mean(np.concatenate(track_z0)), np.std(np.concatenate(track_z0))))\n",
    "print(\"Track eta | mean: {} | std: {}\".format(np.mean(np.concatenate(track_eta)), np.std(np.concatenate(track_eta))))\n",
    "print(\"Track phi | mean: {} | std: {}\".format(np.mean(np.concatenate(track_phi)), np.std(np.concatenate(track_phi))))\n",
    "\n",
    "print(\"Truth particle E | mean: {} | std: {}\".format(np.mean([np.log10(x) for x in np.concatenate(truth_part_e)]), np.std([np.log10(x) for x in np.concatenate(truth_part_e)])))\n",
    "\n",
    "print(\"Cluster cell e\")\n",
    "print(np.mean(np.concatenate(cluster_cell_e)))\n",
    "print(np.std(np.concatenate(cluster_cell_e)))\n",
    "        \n",
    "print(\"Cluster e\")\n",
    "print(np.mean(cluster_e))\n",
    "print(np.std(cluster_e))\n",
    "\n",
    "print(\"Cluster eta\")\n",
    "print(np.mean(cluster_eta))\n",
    "print(np.std(cluster_eta))\n",
    "\n",
    "print(\"Cluster phi\")\n",
    "print(np.mean(cluster_phi))\n",
    "print(np.std(cluster_phi))"
   ]
  },
  {
   "cell_type": "code",
   "execution_count": null,
   "id": "56560bd1-6b80-479d-a2c1-0ee7a9de4253",
   "metadata": {},
   "outputs": [],
   "source": [
    "scales = {\n",
    "    'track_pt_mean': 1.633278727,\n",
    "    'track_pt_std': 0.8481947183,\n",
    "    'track_z0_mean': 0.08022017,\n",
    "    'track_z0_std': 42.53320004,    \n",
    "    'track_eta_mean': -0.00563187,\n",
    "    'track_eta_std': 1.35242735,    \n",
    "    'track_phi_mean': 0.00206431,\n",
    "    'track_phi_std': 1.81240248,   \n",
    "    'truth_part_e_mean': 1.92469358, \n",
    "    'truth_part_e_std': 0.8289864, \n",
    "    'cluster_cell_e_mean': -1.0121697,\n",
    "    'cluster_cell_e_std': 0.818357, \n",
    "    'cluster_e_mean': 0.89923394,\n",
    "    'cluster_e_std': 1.0585934,\n",
    "    'cluster_eta_mean': 0.016195267,\n",
    "    'cluster_eta_std': 1.3400925,\n",
    "    'cluster_phi_mean': 0.0050816955,\n",
    "    'cluster_phi_std': 1.8100655,\n",
    "         }"
   ]
  },
  {
   "cell_type": "code",
   "execution_count": null,
   "id": "0edd91ff-d25b-45d7-b404-f2b4367aeac6",
   "metadata": {},
   "outputs": [],
   "source": [
    "cell_geo_file = \"/clusterfs/ml4hep/mpettee/ml4pions/data/cell_geo.root\"\n",
    "df = uproot.open(cell_geo_file)['CellGeo'].arrays(library='pd')\n",
    "df.reset_index(inplace=True)\n",
    "vars = ['cell_geo_sampling', 'cell_geo_eta', 'cell_geo_phi', 'cell_geo_rPerp', 'cell_geo_deta', 'cell_geo_dphi']\n",
    "for var in vars: \n",
    "    print(var)\n",
    "    print(np.mean(df[var]))\n",
    "    print(np.std(df[var]))"
   ]
  },
  {
   "cell_type": "code",
   "execution_count": null,
   "id": "141f8437-9fa3-407b-9b5c-8db3081fcc1a",
   "metadata": {},
   "outputs": [],
   "source": [
    "scales.update({\n",
    "    'cell_geo_sampling_mean': 3.8827391420197177,\n",
    "    'cell_geo_sampling_std': 3.9588233603576204,\n",
    "    'cell_geo_eta_mean': 0.0005979097,\n",
    "    'cell_geo_eta_std': 1.4709069,\n",
    "    'cell_geo_phi_mean': -2.8938382e-05,\n",
    "    'cell_geo_phi_std': 1.813651,\n",
    "    'cell_geo_rPerp_mean': 1478.9285,\n",
    "    'cell_geo_rPerp_std': 434.60815,\n",
    "    'cell_geo_deta_mean': 0.026611786,\n",
    "    'cell_geo_deta_std': 0.03396141,\n",
    "    'cell_geo_dphi_mean': 0.068693615,\n",
    "    'cell_geo_dphi_std': 0.038586758,  \n",
    "})"
   ]
  },
  {
   "cell_type": "code",
   "execution_count": null,
   "id": "a27cc559-eb45-47ee-a703-756189a68105",
   "metadata": {},
   "outputs": [],
   "source": [
    "scales"
   ]
  },
  {
   "cell_type": "code",
   "execution_count": null,
   "id": "dd17841c-70c7-4427-b2c7-a5fac9841bf2",
   "metadata": {},
   "outputs": [],
   "source": [
    "# Node features: \n",
    "# {\n",
    "# np.log10(cluster_cell_E), \n",
    "# cell_geo_sampling, \n",
    "# cell_geo_eta, \n",
    "# cell_geo_phi, \n",
    "# cell_geo_rPerp, \n",
    "# cell_geo_deta, \n",
    "# cell_geo_dphi\n",
    "#}"
   ]
  },
  {
   "cell_type": "code",
   "execution_count": null,
   "id": "469b20f0-058b-4b00-be89-4bdc59333155",
   "metadata": {},
   "outputs": [],
   "source": [
    "node_means = [\n",
    "    scales[\"cluster_cell_e_mean\"], \n",
    "    scales[\"cell_geo_sampling_mean\"],\n",
    "    scales[\"cell_geo_eta_mean\"],\n",
    "    scales[\"cell_geo_phi_mean\"],\n",
    "    scales[\"cell_geo_rPerp_mean\"],\n",
    "    scales[\"cell_geo_deta_mean\"],\n",
    "    scales[\"cell_geo_dphi_mean\"],\n",
    "] \n",
    "\n",
    "node_stds = [\n",
    "    scales[\"cluster_cell_e_std\"], \n",
    "    scales[\"cell_geo_sampling_std\"],\n",
    "    scales[\"cell_geo_eta_std\"],\n",
    "    scales[\"cell_geo_phi_std\"],\n",
    "    scales[\"cell_geo_rPerp_std\"],\n",
    "    scales[\"cell_geo_deta_std\"],\n",
    "    scales[\"cell_geo_dphi_std\"],\n",
    "] "
   ]
  },
  {
   "cell_type": "code",
   "execution_count": null,
   "id": "cfa0b5e1-0828-4863-ae5c-c37c59e18a77",
   "metadata": {},
   "outputs": [],
   "source": [
    "node_means"
   ]
  },
  {
   "cell_type": "code",
   "execution_count": null,
   "id": "e7db48f4-41e8-4127-942d-29d42f6c94f8",
   "metadata": {},
   "outputs": [],
   "source": [
    "node_stds"
   ]
  }
 ],
 "metadata": {
  "kernelspec": {
   "display_name": "nbdev",
   "language": "python",
   "name": "nbdev"
  },
  "language_info": {
   "codemirror_mode": {
    "name": "ipython",
    "version": 3
   },
   "file_extension": ".py",
   "mimetype": "text/x-python",
   "name": "python",
   "nbconvert_exporter": "python",
   "pygments_lexer": "ipython3",
   "version": "3.9.7"
  }
 },
 "nbformat": 4,
 "nbformat_minor": 5
}
