{
 "cells": [
  {
   "cell_type": "code",
   "execution_count": 1,
   "id": "de6716b1-8361-4bad-9d35-019f3147c376",
   "metadata": {},
   "outputs": [],
   "source": [
    "import uproot\n",
    "from glob import glob\n",
    "import json \n",
    "import os\n",
    "from tqdm import tqdm\n",
    "import numpy as np\n",
    "import pandas as pd"
   ]
  },
  {
   "cell_type": "code",
   "execution_count": 2,
   "id": "31e0d8bc-71e7-4aaa-85c2-164dec2fcf9e",
   "metadata": {},
   "outputs": [],
   "source": [
    "pi0_dir = '/clusterfs/ml4hep/mpettee/ml4pions/data/user.angerami.mc16_13TeV.900246.PG_singlepi0_logE0p2to2000.e8312_e7400_s3170_r12383.v01-45-gaa27bcb_OutputStream/'\n",
    "pion_dir = '/clusterfs/ml4hep/mpettee/ml4pions/data/user.angerami.mc16_13TeV.900247.PG_singlepion_logE0p2to2000.e8312_e7400_s3170_r12383.v01-45-gaa27bcb_OutputStream/'\n",
    "pi0_files = sorted(glob(pi0_dir+\"*.root\"))\n",
    "pion_files = sorted(glob(pion_dir+\"*.root\"))"
   ]
  },
  {
   "cell_type": "markdown",
   "id": "6a7c1602-df69-4144-b390-15b74c35096c",
   "metadata": {},
   "source": [
    "Check out one file as a test..."
   ]
  },
  {
   "cell_type": "code",
   "execution_count": 3,
   "id": "ad884205-92c0-407b-a5b8-7010a61ef465",
   "metadata": {},
   "outputs": [
    {
     "data": {
      "text/plain": [
       "dict_keys(['runNumber', 'eventNumber', 'lumiBlock', 'coreFlags', 'mcEventNumber', 'mcChannelNumber', 'mcEventWeight', 'nTruthPart', 'G4PreCalo_n_EM', 'G4PreCalo_E_EM', 'G4PreCalo_n_Had', 'G4PreCalo_E_Had', 'truthVertexX', 'truthVertexY', 'truthVertexZ', 'truthPartPdgId', 'truthPartStatus', 'truthPartBarcode', 'truthPartPt', 'truthPartE', 'truthPartMass', 'truthPartEta', 'truthPartPhi', 'nTrack', 'trackPt', 'trackP', 'trackMass', 'trackEta', 'trackPhi', 'trackNumberOfPixelHits', 'trackNumberOfSCTHits', 'trackNumberOfPixelDeadSensors', 'trackNumberOfSCTDeadSensors', 'trackNumberOfPixelSharedHits', 'trackNumberOfSCTSharedHits', 'trackNumberOfPixelHoles', 'trackNumberOfSCTHoles', 'trackNumberOfInnermostPixelLayerHits', 'trackNumberOfNextToInnermostPixelLayerHits', 'trackExpectInnermostPixelLayerHit', 'trackExpectNextToInnermostPixelLayerHit', 'trackNumberOfTRTHits', 'trackNumberOfTRTOutliers', 'trackChiSquared', 'trackNumberDOF', 'trackD0', 'trackZ0', 'trackEta_PreSamplerB', 'trackPhi_PreSamplerB', 'trackEta_PreSamplerE', 'trackPhi_PreSamplerE', 'trackEta_EMB1', 'trackPhi_EMB1', 'trackEta_EMB2', 'trackPhi_EMB2', 'trackEta_EMB3', 'trackPhi_EMB3', 'trackEta_EME1', 'trackPhi_EME1', 'trackEta_EME2', 'trackPhi_EME2', 'trackEta_EME3', 'trackPhi_EME3', 'trackEta_HEC0', 'trackPhi_HEC0', 'trackEta_HEC1', 'trackPhi_HEC1', 'trackEta_HEC2', 'trackPhi_HEC2', 'trackEta_HEC3', 'trackPhi_HEC3', 'trackEta_TileBar0', 'trackPhi_TileBar0', 'trackEta_TileBar1', 'trackPhi_TileBar1', 'trackEta_TileBar2', 'trackPhi_TileBar2', 'trackEta_TileGap1', 'trackPhi_TileGap1', 'trackEta_TileGap2', 'trackPhi_TileGap2', 'trackEta_TileGap3', 'trackPhi_TileGap3', 'trackEta_TileExt0', 'trackPhi_TileExt0', 'trackEta_TileExt1', 'trackPhi_TileExt1', 'trackEta_TileExt2', 'trackPhi_TileExt2', 'AntiKt4EMTopoJetsPt', 'AntiKt4EMTopoJetsEta', 'AntiKt4EMTopoJetsPhi', 'AntiKt4EMTopoJetsE', 'AntiKt4LCTopoJetsPt', 'AntiKt4LCTopoJetsEta', 'AntiKt4LCTopoJetsPhi', 'AntiKt4LCTopoJetsE', 'AntiKt4TruthJetsPt', 'AntiKt4TruthJetsEta', 'AntiKt4TruthJetsPhi', 'AntiKt4TruthJetsE', 'AntiKt4TruthJetsFlavor', 'nCluster', 'cluster_E', 'cluster_E_LCCalib', 'cluster_Pt', 'cluster_Eta', 'cluster_Phi', 'cluster_nCells', 'cluster_ENG_CALIB_TOT', 'cluster_ENG_CALIB_OUT_T', 'cluster_ENG_CALIB_DEAD_TOT', 'cluster_EM_PROBABILITY', 'cluster_HAD_WEIGHT', 'cluster_OOC_WEIGHT', 'cluster_DM_WEIGHT', 'cluster_CENTER_MAG', 'cluster_FIRST_ENG_DENS', 'cluster_CENTER_LAMBDA', 'cluster_ISOLATION', 'cluster_ENERGY_DigiHSTruth', 'cluster_cell_ID', 'cluster_cell_E', 'cluster_hitsTruthIndex', 'cluster_hitsTruthE'])"
      ]
     },
     "execution_count": 3,
     "metadata": {},
     "output_type": "execute_result"
    }
   ],
   "source": [
    "a = uproot.open(pion_files[0])[\"EventTree\"].arrays(library = \"np\")\n",
    "a.keys()"
   ]
  },
  {
   "cell_type": "code",
   "execution_count": null,
   "id": "dfb2ed96-a96d-41e6-8b71-89a7ce723ffd",
   "metadata": {},
   "outputs": [],
   "source": [
    "# [var for var in a.keys() if \"Eta\" in var]"
   ]
  },
  {
   "cell_type": "markdown",
   "id": "fa2cbded-2487-41e7-8e71-16d68e97bd3b",
   "metadata": {},
   "source": [
    "Now apply all the cuts..."
   ]
  },
  {
   "cell_type": "code",
   "execution_count": 27,
   "id": "cbca2fc3-f9ee-4dac-a3c7-d35b09d32d56",
   "metadata": {},
   "outputs": [],
   "source": [
    "import math \n",
    "def delta_phi(phi1, phi2):\n",
    "    return (phi1 - phi2 + math.pi) % (2*math.pi) - math.pi\n",
    "\n",
    "def apply_cuts(arrays):\n",
    "    df = pd.DataFrame(arrays)\n",
    "\n",
    "    ### Single-track, multi-cluster \n",
    "    df = df[(df.nTrack == 1)]\n",
    "    dR_pass = []\n",
    "    deltaR_list = []\n",
    "    for row in df.index:\n",
    "        try:\n",
    "            deltaR = np.sqrt((df['cluster_Eta'][row].astype('float') - df['trackEta'][row].astype('float'))**2 + \n",
    "                               delta_phi(df['cluster_Phi'][row].astype('float'), df['trackPhi'][row].astype('float'))**2)\n",
    "        except:\n",
    "            deltaR = np.array(999)\n",
    "        deltaR_list.append(deltaR)\n",
    "        dR_pass.append(deltaR < 1.2)\n",
    "    df[\"deltaR\"] = deltaR_list\n",
    "    df[\"dR_pass\"] = dR_pass\n",
    "    df[\"event_number\"] = df.index\n",
    "    df.reset_index(inplace=True)\n",
    "    indices_pass = [] \n",
    "    for row in df.index: # kill all events with no clusters passing the delta R cut; deal with individual clusters at the training stage\n",
    "        if len(df['trackPt'][row]) > 1:\n",
    "            continue\n",
    "        elif df.dR_pass[row].sum() > 0:\n",
    "            indices_pass.append(row)\n",
    "    df = df.iloc[indices_pass]\n",
    "    df = df[(df.trackPt < 10**5)] # Track pT cut \n",
    "    return df"
   ]
  },
  {
   "cell_type": "code",
   "execution_count": 20,
   "id": "7b2b209c-44ba-442b-a2b4-8df3111cd403",
   "metadata": {},
   "outputs": [],
   "source": [
    "# use a pared-down list of variables \n",
    "variables = ['cluster_cell_E', 'cluster_cell_ID',\n",
    "             'trackPt','trackD0','trackZ0',\n",
    "             'trackEta_EMB2','trackPhi_EMB2',\n",
    "             'trackEta_EME2','trackPhi_EME2',\n",
    "             'trackEta','trackPhi',\n",
    "             'nCluster','nTrack','truthPartE', 'truthPartPt',\n",
    "             'cluster_ENG_CALIB_TOT','cluster_E','cluster_Eta','cluster_Phi',\n",
    "             'cluster_EM_PROBABILITY','cluster_E_LCCalib','cluster_HAD_WEIGHT']"
   ]
  },
  {
   "cell_type": "code",
   "execution_count": 21,
   "id": "cab8e04e-7687-4a9f-bba7-a2ca19bef40c",
   "metadata": {},
   "outputs": [],
   "source": [
    "# for file in tqdm(pi0_files):\n",
    "#     prefix = file.split(\"/\")[:-2]\n",
    "#     number = file.split(\"000\")[-1][:-5]\n",
    "#     folder = os.path.join(\"/\".join(prefix), \"onetrack_multicluster\", \"pi0_files\")\n",
    "#     os.makedirs(folder, exist_ok=True)\n",
    "#     npy_filename = os.path.join(folder, str(number)+\".npy\")\n",
    "#     a = uproot.open(file)[\"EventTree\"].arrays(variables, library = \"np\")\n",
    "#     df = apply_cuts(a)\n",
    "#     a_cuts = df.to_dict('list')\n",
    "#     np.save(npy_filename, a_cuts) "
   ]
  },
  {
   "cell_type": "code",
   "execution_count": 29,
   "id": "c5089240-89f9-4709-9cc3-981e4b28a450",
   "metadata": {},
   "outputs": [
    {
     "name": "stderr",
     "output_type": "stream",
     "text": [
      "  0%|          | 0/500 [00:01<?, ?it/s]\n"
     ]
    },
    {
     "ename": "KeyboardInterrupt",
     "evalue": "",
     "output_type": "error",
     "traceback": [
      "\u001b[0;31m---------------------------------------------------------------------------\u001b[0m",
      "\u001b[0;31mKeyboardInterrupt\u001b[0m                         Traceback (most recent call last)",
      "\u001b[0;32m/tmp/ipykernel_23586/2218310984.py\u001b[0m in \u001b[0;36m<module>\u001b[0;34m\u001b[0m\n\u001b[1;32m      5\u001b[0m     \u001b[0mos\u001b[0m\u001b[0;34m.\u001b[0m\u001b[0mmakedirs\u001b[0m\u001b[0;34m(\u001b[0m\u001b[0mfolder\u001b[0m\u001b[0;34m,\u001b[0m \u001b[0mexist_ok\u001b[0m\u001b[0;34m=\u001b[0m\u001b[0;32mTrue\u001b[0m\u001b[0;34m)\u001b[0m\u001b[0;34m\u001b[0m\u001b[0;34m\u001b[0m\u001b[0m\n\u001b[1;32m      6\u001b[0m     \u001b[0mnpy_filename\u001b[0m \u001b[0;34m=\u001b[0m \u001b[0mos\u001b[0m\u001b[0;34m.\u001b[0m\u001b[0mpath\u001b[0m\u001b[0;34m.\u001b[0m\u001b[0mjoin\u001b[0m\u001b[0;34m(\u001b[0m\u001b[0mfolder\u001b[0m\u001b[0;34m,\u001b[0m \u001b[0mstr\u001b[0m\u001b[0;34m(\u001b[0m\u001b[0mnumber\u001b[0m\u001b[0;34m)\u001b[0m\u001b[0;34m+\u001b[0m\u001b[0;34m\".npy\"\u001b[0m\u001b[0;34m)\u001b[0m\u001b[0;34m\u001b[0m\u001b[0;34m\u001b[0m\u001b[0m\n\u001b[0;32m----> 7\u001b[0;31m     \u001b[0ma\u001b[0m \u001b[0;34m=\u001b[0m \u001b[0muproot\u001b[0m\u001b[0;34m.\u001b[0m\u001b[0mopen\u001b[0m\u001b[0;34m(\u001b[0m\u001b[0mfile\u001b[0m\u001b[0;34m)\u001b[0m\u001b[0;34m[\u001b[0m\u001b[0;34m\"EventTree\"\u001b[0m\u001b[0;34m]\u001b[0m\u001b[0;34m.\u001b[0m\u001b[0marrays\u001b[0m\u001b[0;34m(\u001b[0m\u001b[0mvariables\u001b[0m\u001b[0;34m,\u001b[0m \u001b[0mlibrary\u001b[0m \u001b[0;34m=\u001b[0m \u001b[0;34m\"np\"\u001b[0m\u001b[0;34m)\u001b[0m\u001b[0;34m\u001b[0m\u001b[0;34m\u001b[0m\u001b[0m\n\u001b[0m\u001b[1;32m      8\u001b[0m     \u001b[0mdf\u001b[0m \u001b[0;34m=\u001b[0m \u001b[0mapply_cuts\u001b[0m\u001b[0;34m(\u001b[0m\u001b[0ma\u001b[0m\u001b[0;34m)\u001b[0m\u001b[0;34m\u001b[0m\u001b[0;34m\u001b[0m\u001b[0m\n\u001b[1;32m      9\u001b[0m     \u001b[0ma_cuts\u001b[0m \u001b[0;34m=\u001b[0m \u001b[0mdf\u001b[0m\u001b[0;34m.\u001b[0m\u001b[0mto_dict\u001b[0m\u001b[0;34m(\u001b[0m\u001b[0;34m'list'\u001b[0m\u001b[0;34m)\u001b[0m\u001b[0;34m\u001b[0m\u001b[0;34m\u001b[0m\u001b[0m\n",
      "\u001b[0;32m/clusterfs/ml4hep/mpettee/miniconda3/envs/nbdev/lib/python3.9/site-packages/uproot/behaviors/TBranch.py\u001b[0m in \u001b[0;36marrays\u001b[0;34m(self, expressions, cut, filter_name, filter_typename, filter_branch, aliases, language, entry_start, entry_stop, decompression_executor, interpretation_executor, array_cache, library, how)\u001b[0m\n\u001b[1;32m   1134\u001b[0m                         \u001b[0mranges_or_baskets\u001b[0m\u001b[0;34m.\u001b[0m\u001b[0mappend\u001b[0m\u001b[0;34m(\u001b[0m\u001b[0;34m(\u001b[0m\u001b[0mbranch\u001b[0m\u001b[0;34m,\u001b[0m \u001b[0mbasket_num\u001b[0m\u001b[0;34m,\u001b[0m \u001b[0mrange_or_basket\u001b[0m\u001b[0;34m)\u001b[0m\u001b[0;34m)\u001b[0m\u001b[0;34m\u001b[0m\u001b[0;34m\u001b[0m\u001b[0m\n\u001b[1;32m   1135\u001b[0m \u001b[0;34m\u001b[0m\u001b[0m\n\u001b[0;32m-> 1136\u001b[0;31m         _ranges_or_baskets_to_arrays(\n\u001b[0m\u001b[1;32m   1137\u001b[0m             \u001b[0mself\u001b[0m\u001b[0;34m,\u001b[0m\u001b[0;34m\u001b[0m\u001b[0;34m\u001b[0m\u001b[0m\n\u001b[1;32m   1138\u001b[0m             \u001b[0mranges_or_baskets\u001b[0m\u001b[0;34m,\u001b[0m\u001b[0;34m\u001b[0m\u001b[0;34m\u001b[0m\u001b[0m\n",
      "\u001b[0;32m/clusterfs/ml4hep/mpettee/miniconda3/envs/nbdev/lib/python3.9/site-packages/uproot/behaviors/TBranch.py\u001b[0m in \u001b[0;36m_ranges_or_baskets_to_arrays\u001b[0;34m(hasbranches, ranges_or_baskets, branchid_interpretation, entry_start, entry_stop, decompression_executor, interpretation_executor, library, arrays, update_ranges_or_baskets)\u001b[0m\n\u001b[1;32m   3502\u001b[0m \u001b[0;34m\u001b[0m\u001b[0m\n\u001b[1;32m   3503\u001b[0m         \u001b[0;32melif\u001b[0m \u001b[0misinstance\u001b[0m\u001b[0;34m(\u001b[0m\u001b[0mobj\u001b[0m\u001b[0;34m,\u001b[0m \u001b[0muproot\u001b[0m\u001b[0;34m.\u001b[0m\u001b[0mmodels\u001b[0m\u001b[0;34m.\u001b[0m\u001b[0mTBasket\u001b[0m\u001b[0;34m.\u001b[0m\u001b[0mModel_TBasket\u001b[0m\u001b[0;34m)\u001b[0m\u001b[0;34m:\u001b[0m\u001b[0;34m\u001b[0m\u001b[0;34m\u001b[0m\u001b[0m\n\u001b[0;32m-> 3504\u001b[0;31m             \u001b[0minterpretation_executor\u001b[0m\u001b[0;34m.\u001b[0m\u001b[0msubmit\u001b[0m\u001b[0;34m(\u001b[0m\u001b[0mbasket_to_array\u001b[0m\u001b[0;34m,\u001b[0m \u001b[0mobj\u001b[0m\u001b[0;34m)\u001b[0m\u001b[0;34m\u001b[0m\u001b[0;34m\u001b[0m\u001b[0m\n\u001b[0m\u001b[1;32m   3505\u001b[0m \u001b[0;34m\u001b[0m\u001b[0m\n\u001b[1;32m   3506\u001b[0m         \u001b[0;32melif\u001b[0m \u001b[0mobj\u001b[0m \u001b[0;32mis\u001b[0m \u001b[0;32mNone\u001b[0m\u001b[0;34m:\u001b[0m\u001b[0;34m\u001b[0m\u001b[0;34m\u001b[0m\u001b[0m\n",
      "\u001b[0;32m/clusterfs/ml4hep/mpettee/miniconda3/envs/nbdev/lib/python3.9/site-packages/uproot/source/futures.py\u001b[0m in \u001b[0;36msubmit\u001b[0;34m(self, task, *args)\u001b[0m\n\u001b[1;32m     81\u001b[0m         \u001b[0mImmediately\u001b[0m \u001b[0mruns\u001b[0m\u001b[0;31m \u001b[0m\u001b[0;31m`\u001b[0m\u001b[0;31m`\u001b[0m\u001b[0mtask\u001b[0m\u001b[0;34m(\u001b[0m\u001b[0;34m*\u001b[0m\u001b[0margs\u001b[0m\u001b[0;34m)\u001b[0m\u001b[0;31m`\u001b[0m\u001b[0;31m`\u001b[0m\u001b[0;34m.\u001b[0m\u001b[0;34m\u001b[0m\u001b[0;34m\u001b[0m\u001b[0m\n\u001b[1;32m     82\u001b[0m         \"\"\"\n\u001b[0;32m---> 83\u001b[0;31m         \u001b[0;32mreturn\u001b[0m \u001b[0mTrivialFuture\u001b[0m\u001b[0;34m(\u001b[0m\u001b[0mtask\u001b[0m\u001b[0;34m(\u001b[0m\u001b[0;34m*\u001b[0m\u001b[0margs\u001b[0m\u001b[0;34m)\u001b[0m\u001b[0;34m)\u001b[0m\u001b[0;34m\u001b[0m\u001b[0;34m\u001b[0m\u001b[0m\n\u001b[0m\u001b[1;32m     84\u001b[0m \u001b[0;34m\u001b[0m\u001b[0m\n\u001b[1;32m     85\u001b[0m     \u001b[0;32mdef\u001b[0m \u001b[0mshutdown\u001b[0m\u001b[0;34m(\u001b[0m\u001b[0mself\u001b[0m\u001b[0;34m,\u001b[0m \u001b[0mwait\u001b[0m\u001b[0;34m=\u001b[0m\u001b[0;32mTrue\u001b[0m\u001b[0;34m)\u001b[0m\u001b[0;34m:\u001b[0m\u001b[0;34m\u001b[0m\u001b[0;34m\u001b[0m\u001b[0m\n",
      "\u001b[0;32m/clusterfs/ml4hep/mpettee/miniconda3/envs/nbdev/lib/python3.9/site-packages/uproot/behaviors/TBranch.py\u001b[0m in \u001b[0;36mbasket_to_array\u001b[0;34m(basket)\u001b[0m\n\u001b[1;32m   3452\u001b[0m             \u001b[0mbasket_arrays\u001b[0m \u001b[0;34m=\u001b[0m \u001b[0mbranchid_arrays\u001b[0m\u001b[0;34m[\u001b[0m\u001b[0mbranch\u001b[0m\u001b[0;34m.\u001b[0m\u001b[0mcache_key\u001b[0m\u001b[0;34m]\u001b[0m\u001b[0;34m\u001b[0m\u001b[0;34m\u001b[0m\u001b[0m\n\u001b[1;32m   3453\u001b[0m \u001b[0;34m\u001b[0m\u001b[0m\n\u001b[0;32m-> 3454\u001b[0;31m             basket_arrays[basket.basket_num] = interpretation.basket_array(\n\u001b[0m\u001b[1;32m   3455\u001b[0m                 \u001b[0mbasket\u001b[0m\u001b[0;34m.\u001b[0m\u001b[0mdata\u001b[0m\u001b[0;34m,\u001b[0m\u001b[0;34m\u001b[0m\u001b[0;34m\u001b[0m\u001b[0m\n\u001b[1;32m   3456\u001b[0m                 \u001b[0mbasket\u001b[0m\u001b[0;34m.\u001b[0m\u001b[0mbyte_offsets\u001b[0m\u001b[0;34m,\u001b[0m\u001b[0;34m\u001b[0m\u001b[0;34m\u001b[0m\u001b[0m\n",
      "\u001b[0;32m/clusterfs/ml4hep/mpettee/miniconda3/envs/nbdev/lib/python3.9/site-packages/uproot/interpretation/objects.py\u001b[0m in \u001b[0;36mbasket_array\u001b[0;34m(self, data, byte_offsets, basket, branch, context, cursor_offset, library)\u001b[0m\n\u001b[1;32m    156\u001b[0m \u001b[0;34m\u001b[0m\u001b[0m\n\u001b[1;32m    157\u001b[0m         \u001b[0;32mif\u001b[0m \u001b[0moutput\u001b[0m \u001b[0;32mis\u001b[0m \u001b[0;32mNone\u001b[0m\u001b[0;34m:\u001b[0m\u001b[0;34m\u001b[0m\u001b[0;34m\u001b[0m\u001b[0m\n\u001b[0;32m--> 158\u001b[0;31m             output = ObjectArray(\n\u001b[0m\u001b[1;32m    159\u001b[0m                 \u001b[0mself\u001b[0m\u001b[0;34m.\u001b[0m\u001b[0m_model\u001b[0m\u001b[0;34m,\u001b[0m \u001b[0mbranch\u001b[0m\u001b[0;34m,\u001b[0m \u001b[0mcontext\u001b[0m\u001b[0;34m,\u001b[0m \u001b[0mbyte_offsets\u001b[0m\u001b[0;34m,\u001b[0m \u001b[0mdata\u001b[0m\u001b[0;34m,\u001b[0m \u001b[0mcursor_offset\u001b[0m\u001b[0;34m\u001b[0m\u001b[0;34m\u001b[0m\u001b[0m\n\u001b[1;32m    160\u001b[0m             ).to_numpy()\n",
      "\u001b[0;32m/clusterfs/ml4hep/mpettee/miniconda3/envs/nbdev/lib/python3.9/site-packages/uproot/interpretation/objects.py\u001b[0m in \u001b[0;36mto_numpy\u001b[0;34m(self)\u001b[0m\n\u001b[1;32m    593\u001b[0m         \u001b[0moutput\u001b[0m \u001b[0;34m=\u001b[0m \u001b[0mnumpy\u001b[0m\u001b[0;34m.\u001b[0m\u001b[0mempty\u001b[0m\u001b[0;34m(\u001b[0m\u001b[0mlen\u001b[0m\u001b[0;34m(\u001b[0m\u001b[0mself\u001b[0m\u001b[0;34m)\u001b[0m\u001b[0;34m,\u001b[0m \u001b[0mdtype\u001b[0m\u001b[0;34m=\u001b[0m\u001b[0mnumpy\u001b[0m\u001b[0;34m.\u001b[0m\u001b[0mdtype\u001b[0m\u001b[0;34m(\u001b[0m\u001b[0mobject\u001b[0m\u001b[0;34m)\u001b[0m\u001b[0;34m)\u001b[0m\u001b[0;34m\u001b[0m\u001b[0;34m\u001b[0m\u001b[0m\n\u001b[1;32m    594\u001b[0m         \u001b[0;32mfor\u001b[0m \u001b[0mi\u001b[0m \u001b[0;32min\u001b[0m \u001b[0mrange\u001b[0m\u001b[0;34m(\u001b[0m\u001b[0mlen\u001b[0m\u001b[0;34m(\u001b[0m\u001b[0mself\u001b[0m\u001b[0;34m)\u001b[0m\u001b[0;34m)\u001b[0m\u001b[0;34m:\u001b[0m\u001b[0;34m\u001b[0m\u001b[0;34m\u001b[0m\u001b[0m\n\u001b[0;32m--> 595\u001b[0;31m             \u001b[0moutput\u001b[0m\u001b[0;34m[\u001b[0m\u001b[0mi\u001b[0m\u001b[0;34m]\u001b[0m \u001b[0;34m=\u001b[0m \u001b[0mself\u001b[0m\u001b[0;34m[\u001b[0m\u001b[0mi\u001b[0m\u001b[0;34m]\u001b[0m\u001b[0;34m\u001b[0m\u001b[0;34m\u001b[0m\u001b[0m\n\u001b[0m\u001b[1;32m    596\u001b[0m         \u001b[0;32mreturn\u001b[0m \u001b[0moutput\u001b[0m\u001b[0;34m\u001b[0m\u001b[0;34m\u001b[0m\u001b[0m\n\u001b[1;32m    597\u001b[0m \u001b[0;34m\u001b[0m\u001b[0m\n",
      "\u001b[0;32m/clusterfs/ml4hep/mpettee/miniconda3/envs/nbdev/lib/python3.9/site-packages/uproot/interpretation/objects.py\u001b[0m in \u001b[0;36m__getitem__\u001b[0;34m(self, where)\u001b[0m\n\u001b[1;32m    608\u001b[0m                 \u001b[0;36m0\u001b[0m\u001b[0;34m,\u001b[0m \u001b[0morigin\u001b[0m\u001b[0;34m=\u001b[0m\u001b[0;34m-\u001b[0m\u001b[0;34m(\u001b[0m\u001b[0mbyte_start\u001b[0m \u001b[0;34m+\u001b[0m \u001b[0mself\u001b[0m\u001b[0;34m.\u001b[0m\u001b[0m_cursor_offset\u001b[0m\u001b[0;34m)\u001b[0m\u001b[0;34m\u001b[0m\u001b[0;34m\u001b[0m\u001b[0m\n\u001b[1;32m    609\u001b[0m             )\n\u001b[0;32m--> 610\u001b[0;31m             return self._model.read(\n\u001b[0m\u001b[1;32m    611\u001b[0m                 \u001b[0mchunk\u001b[0m\u001b[0;34m,\u001b[0m\u001b[0;34m\u001b[0m\u001b[0;34m\u001b[0m\u001b[0m\n\u001b[1;32m    612\u001b[0m                 \u001b[0mcursor\u001b[0m\u001b[0;34m,\u001b[0m\u001b[0;34m\u001b[0m\u001b[0;34m\u001b[0m\u001b[0m\n",
      "\u001b[0;32m/clusterfs/ml4hep/mpettee/miniconda3/envs/nbdev/lib/python3.9/site-packages/uproot/containers.py\u001b[0m in \u001b[0;36mread\u001b[0;34m(self, chunk, cursor, context, file, selffile, parent, header)\u001b[0m\n\u001b[1;32m    859\u001b[0m             \u001b[0mlength\u001b[0m \u001b[0;34m=\u001b[0m \u001b[0mcursor\u001b[0m\u001b[0;34m.\u001b[0m\u001b[0mfield\u001b[0m\u001b[0;34m(\u001b[0m\u001b[0mchunk\u001b[0m\u001b[0;34m,\u001b[0m \u001b[0m_stl_container_size\u001b[0m\u001b[0;34m,\u001b[0m \u001b[0mcontext\u001b[0m\u001b[0;34m)\u001b[0m\u001b[0;34m\u001b[0m\u001b[0;34m\u001b[0m\u001b[0m\n\u001b[1;32m    860\u001b[0m \u001b[0;34m\u001b[0m\u001b[0m\n\u001b[0;32m--> 861\u001b[0;31m             values = _read_nested(\n\u001b[0m\u001b[1;32m    862\u001b[0m                 \u001b[0mself\u001b[0m\u001b[0;34m.\u001b[0m\u001b[0m_values\u001b[0m\u001b[0;34m,\u001b[0m \u001b[0mlength\u001b[0m\u001b[0;34m,\u001b[0m \u001b[0mchunk\u001b[0m\u001b[0;34m,\u001b[0m \u001b[0mcursor\u001b[0m\u001b[0;34m,\u001b[0m \u001b[0mcontext\u001b[0m\u001b[0;34m,\u001b[0m \u001b[0mfile\u001b[0m\u001b[0;34m,\u001b[0m \u001b[0mselffile\u001b[0m\u001b[0;34m,\u001b[0m \u001b[0mparent\u001b[0m\u001b[0;34m\u001b[0m\u001b[0;34m\u001b[0m\u001b[0m\n\u001b[1;32m    863\u001b[0m             )\n",
      "\u001b[0;32m/clusterfs/ml4hep/mpettee/miniconda3/envs/nbdev/lib/python3.9/site-packages/uproot/containers.py\u001b[0m in \u001b[0;36m_read_nested\u001b[0;34m(model, length, chunk, cursor, context, file, selffile, parent, header)\u001b[0m\n\u001b[1;32m     62\u001b[0m         \u001b[0;32mif\u001b[0m \u001b[0misinstance\u001b[0m\u001b[0;34m(\u001b[0m\u001b[0mmodel\u001b[0m\u001b[0;34m,\u001b[0m \u001b[0mAsContainer\u001b[0m\u001b[0;34m)\u001b[0m\u001b[0;34m:\u001b[0m\u001b[0;34m\u001b[0m\u001b[0;34m\u001b[0m\u001b[0m\n\u001b[1;32m     63\u001b[0m             \u001b[0;32mfor\u001b[0m \u001b[0mi\u001b[0m \u001b[0;32min\u001b[0m \u001b[0muproot\u001b[0m\u001b[0;34m.\u001b[0m\u001b[0m_util\u001b[0m\u001b[0;34m.\u001b[0m\u001b[0mrange\u001b[0m\u001b[0;34m(\u001b[0m\u001b[0mlength\u001b[0m\u001b[0;34m)\u001b[0m\u001b[0;34m:\u001b[0m\u001b[0;34m\u001b[0m\u001b[0;34m\u001b[0m\u001b[0m\n\u001b[0;32m---> 64\u001b[0;31m                 values[i] = model.read(\n\u001b[0m\u001b[1;32m     65\u001b[0m                     \u001b[0mchunk\u001b[0m\u001b[0;34m,\u001b[0m \u001b[0mcursor\u001b[0m\u001b[0;34m,\u001b[0m \u001b[0mcontext\u001b[0m\u001b[0;34m,\u001b[0m \u001b[0mfile\u001b[0m\u001b[0;34m,\u001b[0m \u001b[0mselffile\u001b[0m\u001b[0;34m,\u001b[0m \u001b[0mparent\u001b[0m\u001b[0;34m,\u001b[0m \u001b[0mheader\u001b[0m\u001b[0;34m=\u001b[0m\u001b[0mheader\u001b[0m\u001b[0;34m\u001b[0m\u001b[0;34m\u001b[0m\u001b[0m\n\u001b[1;32m     66\u001b[0m                 )\n",
      "\u001b[0;32m/clusterfs/ml4hep/mpettee/miniconda3/envs/nbdev/lib/python3.9/site-packages/uproot/containers.py\u001b[0m in \u001b[0;36mread\u001b[0;34m(self, chunk, cursor, context, file, selffile, parent, header)\u001b[0m\n\u001b[1;32m    863\u001b[0m             )\n\u001b[1;32m    864\u001b[0m \u001b[0;34m\u001b[0m\u001b[0m\n\u001b[0;32m--> 865\u001b[0;31m         \u001b[0mout\u001b[0m \u001b[0;34m=\u001b[0m \u001b[0mSTLVector\u001b[0m\u001b[0;34m(\u001b[0m\u001b[0mvalues\u001b[0m\u001b[0;34m)\u001b[0m\u001b[0;34m\u001b[0m\u001b[0;34m\u001b[0m\u001b[0m\n\u001b[0m\u001b[1;32m    866\u001b[0m \u001b[0;34m\u001b[0m\u001b[0m\n\u001b[1;32m    867\u001b[0m         \u001b[0;32mif\u001b[0m \u001b[0mself\u001b[0m\u001b[0;34m.\u001b[0m\u001b[0m_header\u001b[0m \u001b[0;32mand\u001b[0m \u001b[0mheader\u001b[0m\u001b[0;34m:\u001b[0m\u001b[0;34m\u001b[0m\u001b[0;34m\u001b[0m\u001b[0m\n",
      "\u001b[0;32m/clusterfs/ml4hep/mpettee/miniconda3/envs/nbdev/lib/python3.9/site-packages/uproot/containers.py\u001b[0m in \u001b[0;36m__init__\u001b[0;34m(self, values)\u001b[0m\n\u001b[1;32m   1266\u001b[0m             \u001b[0mvalues\u001b[0m \u001b[0;34m=\u001b[0m \u001b[0mnumpy\u001b[0m\u001b[0;34m.\u001b[0m\u001b[0masarray\u001b[0m\u001b[0;34m(\u001b[0m\u001b[0mvalues\u001b[0m\u001b[0;34m)\u001b[0m\u001b[0;34m\u001b[0m\u001b[0;34m\u001b[0m\u001b[0m\n\u001b[1;32m   1267\u001b[0m \u001b[0;34m\u001b[0m\u001b[0m\n\u001b[0;32m-> 1268\u001b[0;31m         \u001b[0mself\u001b[0m\u001b[0;34m.\u001b[0m\u001b[0m_values\u001b[0m \u001b[0;34m=\u001b[0m \u001b[0mvalues\u001b[0m\u001b[0;34m\u001b[0m\u001b[0;34m\u001b[0m\u001b[0m\n\u001b[0m\u001b[1;32m   1269\u001b[0m \u001b[0;34m\u001b[0m\u001b[0m\n\u001b[1;32m   1270\u001b[0m     \u001b[0;32mdef\u001b[0m \u001b[0m__str__\u001b[0m\u001b[0;34m(\u001b[0m\u001b[0mself\u001b[0m\u001b[0;34m,\u001b[0m \u001b[0mlimit\u001b[0m\u001b[0;34m=\u001b[0m\u001b[0;36m85\u001b[0m\u001b[0;34m)\u001b[0m\u001b[0;34m:\u001b[0m\u001b[0;34m\u001b[0m\u001b[0;34m\u001b[0m\u001b[0m\n",
      "\u001b[0;31mKeyboardInterrupt\u001b[0m: "
     ]
    }
   ],
   "source": [
    "for file in tqdm(pion_files):\n",
    "    prefix = file.split(\"/\")[:-2]\n",
    "    number = file.split(\"000\")[-1][:-5]\n",
    "    folder = os.path.join(\"/\".join(prefix), \"onetrack_multicluster\", \"pion_files\")\n",
    "    os.makedirs(folder, exist_ok=True)\n",
    "    npy_filename = os.path.join(folder, str(number)+\".npy\")\n",
    "    a = uproot.open(file)[\"EventTree\"].arrays(variables, library = \"np\")\n",
    "    df = apply_cuts(a)\n",
    "    a_cuts = df.to_dict('list')\n",
    "    np.save(npy_filename, a_cuts) "
   ]
  },
  {
   "cell_type": "markdown",
   "id": "928f8ef6-a602-497e-a133-9cec85df81da",
   "metadata": {},
   "source": [
    "### Testing"
   ]
  },
  {
   "cell_type": "code",
   "execution_count": null,
   "id": "182f95f9-5b7b-4bc3-9bc7-e9e794c68ad3",
   "metadata": {},
   "outputs": [],
   "source": [
    "df = apply_cuts(a)"
   ]
  },
  {
   "cell_type": "code",
   "execution_count": null,
   "id": "df26211f-def5-46a6-a0eb-b50e52caa8aa",
   "metadata": {},
   "outputs": [],
   "source": [
    "all_drs = []\n",
    "dfs = []\n",
    "for file in tqdm(pion_files[:10]):\n",
    "    prefix = file.split(\"/\")[:-2]\n",
    "    number = file.split(\"000\")[-1][:-5]\n",
    "    folder = os.path.join(\"/\".join(prefix), \"onetrack_multicluster\", \"pion_files\")\n",
    "    os.makedirs(folder, exist_ok=True)\n",
    "    npy_filename = os.path.join(folder, str(number)+\".npy\")\n",
    "    a = uproot.open(file)[\"EventTree\"].arrays(variables, library = \"np\")\n",
    "    df = apply_cuts(a)\n",
    "    list = df.deltaR.to_numpy().flatten()\n",
    "    drs = np.concatenate(list, axis=0)\n",
    "    all_drs.append(drs)\n",
    "    dfs.append(df)\n",
    "    \n",
    "import matplotlib.pyplot as plt\n",
    "all_drs = np.concatenate(all_drs, axis=0)\n",
    "\n",
    "plt.figure(dpi=200)\n",
    "plt.hist(all_drs, bins=np.linspace(0.5,1.5,30));\n",
    "plt.xlabel(r\"$\\Delta R$(cluster,track)\")\n",
    "\n",
    "plt.figure(dpi=200)\n",
    "plt.hist(all_drs, bins=np.linspace(0.5,1.5,30));\n",
    "plt.yscale(\"log\")\n",
    "plt.xlabel(r\"$\\Delta R$(cluster,track)\")"
   ]
  },
  {
   "cell_type": "code",
   "execution_count": null,
   "id": "e013880f-82b5-4a9b-9eb7-fb188e63abf3",
   "metadata": {},
   "outputs": [],
   "source": [
    "df = pd.concat([df for df in dfs])"
   ]
  },
  {
   "cell_type": "code",
   "execution_count": null,
   "id": "2629f9b9-1cc5-41d7-b9e8-58fb00534aa3",
   "metadata": {},
   "outputs": [],
   "source": [
    "plt.figure(dpi=150)\n",
    "plt.hist(np.concatenate(df.trackPt.to_numpy().flatten(), axis=0), bins=10);\n",
    "plt.xlabel(r\"Track $p_T$\")\n",
    "plt.yscale(\"log\")"
   ]
  },
  {
   "cell_type": "code",
   "execution_count": null,
   "id": "1b132571-a057-4581-8d61-f78132c48862",
   "metadata": {},
   "outputs": [],
   "source": []
  }
 ],
 "metadata": {
  "kernelspec": {
   "display_name": "nbdev",
   "language": "python",
   "name": "nbdev"
  },
  "language_info": {
   "codemirror_mode": {
    "name": "ipython",
    "version": 3
   },
   "file_extension": ".py",
   "mimetype": "text/x-python",
   "name": "python",
   "nbconvert_exporter": "python",
   "pygments_lexer": "ipython3",
   "version": "3.9.7"
  }
 },
 "nbformat": 4,
 "nbformat_minor": 5
}
