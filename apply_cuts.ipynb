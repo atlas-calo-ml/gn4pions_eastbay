{
 "cells": [
  {
   "cell_type": "code",
   "execution_count": 61,
   "id": "de6716b1-8361-4bad-9d35-019f3147c376",
   "metadata": {},
   "outputs": [],
   "source": [
    "# import uproot\n",
    "import uproot\n",
    "from glob import glob\n",
    "import json \n",
    "import os\n",
    "from tqdm import tqdm\n",
    "import numpy as np\n",
    "import pandas as pd"
   ]
  },
  {
   "cell_type": "code",
   "execution_count": 62,
   "id": "31e0d8bc-71e7-4aaa-85c2-164dec2fcf9e",
   "metadata": {},
   "outputs": [],
   "source": [
    "pi0_dir = '/clusterfs/ml4hep/mpettee/ml4pions/data/user.angerami.mc16_13TeV.900246.PG_singlepi0_logE0p2to2000.e8312_e7400_s3170_r12383.v01-45-gaa27bcb_OutputStream/'\n",
    "pion_dir = '/clusterfs/ml4hep/mpettee/ml4pions/data/user.angerami.mc16_13TeV.900247.PG_singlepion_logE0p2to2000.e8312_e7400_s3170_r12383.v01-45-gaa27bcb_OutputStream/'\n",
    "pi0_files = sorted(glob(pi0_dir+\"*.root\"))\n",
    "pion_files = sorted(glob(pion_dir+\"*.root\"))"
   ]
  },
  {
   "cell_type": "code",
   "execution_count": 63,
   "id": "ff3a7fb9-7065-44b8-b1b6-9088c7d8b62a",
   "metadata": {},
   "outputs": [],
   "source": [
    "# use a pared-down list of variables \n",
    "variables = ['cluster_cell_E', 'cluster_cell_ID',\n",
    "             'trackPt','trackD0','trackZ0',\n",
    "             'trackEta_EMB2','trackPhi_EMB2',\n",
    "             'trackEta','trackPhi',\n",
    "             'nCluster','nTrack','truthPartE',\n",
    "             'cluster_ENG_CALIB_TOT','cluster_E','cluster_Eta','cluster_Phi',\n",
    "             'cluster_EM_PROBABILITY']\n",
    "# variables = [var for var in a.keys()] # or use all columns available"
   ]
  },
  {
   "cell_type": "code",
   "execution_count": 59,
   "id": "cbca2fc3-f9ee-4dac-a3c7-d35b09d32d56",
   "metadata": {},
   "outputs": [],
   "source": [
    "def apply_cuts(arrays):\n",
    "    df = pd.DataFrame(arrays)\n",
    "#     l0 = len(df)\n",
    "#     df = df[(df.nCluster == 1) & (df.nTrack == 1)]\n",
    "# #     print(\"ncluster/ntrack reduces by {:.1f}%.\".format(100*(l0-len(df))/l0))\n",
    "#     df = df[df[\"cluster_E\"] > 0.5] # if you only have one cluster\n",
    "# #       df_cluster_E = pd.DataFrame(df.cluster_E.values.tolist()).add_prefix('cluster_E_')\n",
    "# #       df_cluster_E = df_cluster_E[(df_cluster_E > 0.5)]\n",
    "# #     print(\"cluster_E > 0.5 reduces by {:.1f}%.\".format(100*(l0-len(df))/l0))\n",
    "#     df['dR'] = np.sqrt((df['cluster_Eta'].astype('float') - df['trackEta_EMB2'].astype('float'))**2 + \n",
    "#                      (df['cluster_Phi'].astype('float') - df['trackPhi_EMB2'].astype('float'))**2)\n",
    "#     df = df[df.dR < 0.2]\n",
    "#     print(\"These cuts reduce the dataframe by {:.1f}%.\".format(100*(l0-len(df))/l0))\n",
    "    return df"
   ]
  },
  {
   "cell_type": "code",
   "execution_count": 60,
   "id": "cab8e04e-7687-4a9f-bba7-a2ca19bef40c",
   "metadata": {},
   "outputs": [
    {
     "name": "stderr",
     "output_type": "stream",
     "text": [
      "100%|██████████| 500/500 [30:24<00:00,  3.65s/it]\n"
     ]
    }
   ],
   "source": [
    "for file in tqdm(pi0_files):\n",
    "    prefix = file.split(\"/\")[:-2]\n",
    "    number = file.split(\"000\")[-1][:-5]\n",
    "    folder = os.path.join(\"/\".join(prefix), \"no_cuts\", \"pi0_files\")\n",
    "    os.makedirs(folder, exist_ok=True)\n",
    "    npy_filename = os.path.join(folder, str(number)+\".npy\")\n",
    "    a = uproot.open(file)[\"EventTree\"].arrays(variables, library = \"np\")\n",
    "    df = apply_cuts(a)\n",
    "    a_cuts = df.to_dict('list')\n",
    "    np.save(npy_filename, a_cuts) "
   ]
  },
  {
   "cell_type": "code",
   "execution_count": 55,
   "id": "c5089240-89f9-4709-9cc3-981e4b28a450",
   "metadata": {},
   "outputs": [
    {
     "name": "stderr",
     "output_type": "stream",
     "text": [
      "100%|██████████| 500/500 [34:05<00:00,  4.09s/it]\n"
     ]
    }
   ],
   "source": [
    "for file in tqdm(pion_files):\n",
    "    prefix = file.split(\"/\")[:-2]\n",
    "    number = file.split(\"000\")[-1][:-5]\n",
    "    folder = os.path.join(\"/\".join(prefix), \"no_cuts\", \"pion_files\")\n",
    "    os.makedirs(folder, exist_ok=True)\n",
    "    npy_filename = os.path.join(folder, str(number)+\".npy\")\n",
    "    a = uproot.open(file)[\"EventTree\"].arrays(variables, library = \"np\")\n",
    "    df = apply_cuts(a)\n",
    "    a_cuts = df.to_dict('list')\n",
    "    np.save(npy_filename, a_cuts) "
   ]
  },
  {
   "cell_type": "markdown",
   "id": "a674371d-2f1a-4cf1-8c30-af17b3172af3",
   "metadata": {
    "tags": []
   },
   "source": [
    "# Scratch work"
   ]
  },
  {
   "cell_type": "code",
   "execution_count": null,
   "id": "28426207-0b76-4aa5-b800-26f6e980b4be",
   "metadata": {},
   "outputs": [],
   "source": [
    "import compress_pickle as pickle\n",
    "f = pickle.load(open(\"../data/no_cuts/preprocessed/val/data_000.p\", 'rb'), compression='gzip')\n",
    "for i in range(10):\n",
    "    print(f[i][3])"
   ]
  },
  {
   "cell_type": "code",
   "execution_count": 10,
   "id": "dbe5a2bc-8fd8-479c-a400-403bbe8e9fb7",
   "metadata": {},
   "outputs": [],
   "source": [
    "a = np.load('/clusterfs/ml4hep/mpettee/ml4pions/data/no_cuts/pion_files/001.npy', allow_pickle=True).item()"
   ]
  },
  {
   "cell_type": "code",
   "execution_count": 11,
   "id": "5539a607-15d1-4537-8a8f-181f4d3a1287",
   "metadata": {},
   "outputs": [
    {
     "data": {
      "text/plain": [
       "dict_keys(['cluster_cell_E', 'cluster_cell_ID', 'trackPt', 'trackD0', 'trackZ0', 'trackEta_EMB2', 'trackPhi_EMB2', 'trackEta', 'trackPhi', 'nCluster', 'nTrack', 'truthPartE', 'cluster_ENG_CALIB_TOT', 'cluster_E', 'cluster_Eta', 'cluster_Phi'])"
      ]
     },
     "execution_count": 11,
     "metadata": {},
     "output_type": "execute_result"
    }
   ],
   "source": [
    "a.keys()"
   ]
  },
  {
   "cell_type": "code",
   "execution_count": null,
   "id": "dd654e18-bd70-4398-9cc3-cc0ebe1b9eaa",
   "metadata": {},
   "outputs": [],
   "source": [
    "a['truthPartE']"
   ]
  },
  {
   "cell_type": "code",
   "execution_count": null,
   "id": "13f77bc8-6994-4e3f-9bad-f471a189d2f2",
   "metadata": {},
   "outputs": [],
   "source": [
    "# uproot.open(pi0_dir+\"user.angerami.24559740.OutputStream._000011.root\")[\"CellGeo\"].keys()"
   ]
  },
  {
   "cell_type": "code",
   "execution_count": 13,
   "id": "05953d74-6162-4bbb-b90e-45c7b1f88b32",
   "metadata": {},
   "outputs": [],
   "source": [
    "a = uproot.open(pi0_dir+\"user.angerami.24559740.OutputStream._000011.root\")[\"EventTree\"].arrays(library = \"np\")"
   ]
  },
  {
   "cell_type": "code",
   "execution_count": 14,
   "id": "91cc3189-3616-4b5c-8d86-456eaed442e2",
   "metadata": {},
   "outputs": [
    {
     "data": {
      "text/plain": [
       "dict_keys(['runNumber', 'eventNumber', 'lumiBlock', 'coreFlags', 'mcEventNumber', 'mcChannelNumber', 'mcEventWeight', 'nTruthPart', 'G4PreCalo_n_EM', 'G4PreCalo_E_EM', 'G4PreCalo_n_Had', 'G4PreCalo_E_Had', 'truthVertexX', 'truthVertexY', 'truthVertexZ', 'truthPartPdgId', 'truthPartStatus', 'truthPartBarcode', 'truthPartPt', 'truthPartE', 'truthPartMass', 'truthPartEta', 'truthPartPhi', 'nTrack', 'trackPt', 'trackP', 'trackMass', 'trackEta', 'trackPhi', 'trackNumberOfPixelHits', 'trackNumberOfSCTHits', 'trackNumberOfPixelDeadSensors', 'trackNumberOfSCTDeadSensors', 'trackNumberOfPixelSharedHits', 'trackNumberOfSCTSharedHits', 'trackNumberOfPixelHoles', 'trackNumberOfSCTHoles', 'trackNumberOfInnermostPixelLayerHits', 'trackNumberOfNextToInnermostPixelLayerHits', 'trackExpectInnermostPixelLayerHit', 'trackExpectNextToInnermostPixelLayerHit', 'trackNumberOfTRTHits', 'trackNumberOfTRTOutliers', 'trackChiSquared', 'trackNumberDOF', 'trackD0', 'trackZ0', 'trackEta_PreSamplerB', 'trackPhi_PreSamplerB', 'trackEta_PreSamplerE', 'trackPhi_PreSamplerE', 'trackEta_EMB1', 'trackPhi_EMB1', 'trackEta_EMB2', 'trackPhi_EMB2', 'trackEta_EMB3', 'trackPhi_EMB3', 'trackEta_EME1', 'trackPhi_EME1', 'trackEta_EME2', 'trackPhi_EME2', 'trackEta_EME3', 'trackPhi_EME3', 'trackEta_HEC0', 'trackPhi_HEC0', 'trackEta_HEC1', 'trackPhi_HEC1', 'trackEta_HEC2', 'trackPhi_HEC2', 'trackEta_HEC3', 'trackPhi_HEC3', 'trackEta_TileBar0', 'trackPhi_TileBar0', 'trackEta_TileBar1', 'trackPhi_TileBar1', 'trackEta_TileBar2', 'trackPhi_TileBar2', 'trackEta_TileGap1', 'trackPhi_TileGap1', 'trackEta_TileGap2', 'trackPhi_TileGap2', 'trackEta_TileGap3', 'trackPhi_TileGap3', 'trackEta_TileExt0', 'trackPhi_TileExt0', 'trackEta_TileExt1', 'trackPhi_TileExt1', 'trackEta_TileExt2', 'trackPhi_TileExt2', 'AntiKt4EMTopoJetsPt', 'AntiKt4EMTopoJetsEta', 'AntiKt4EMTopoJetsPhi', 'AntiKt4EMTopoJetsE', 'AntiKt4LCTopoJetsPt', 'AntiKt4LCTopoJetsEta', 'AntiKt4LCTopoJetsPhi', 'AntiKt4LCTopoJetsE', 'AntiKt4TruthJetsPt', 'AntiKt4TruthJetsEta', 'AntiKt4TruthJetsPhi', 'AntiKt4TruthJetsE', 'AntiKt4TruthJetsFlavor', 'nCluster', 'cluster_E', 'cluster_E_LCCalib', 'cluster_Pt', 'cluster_Eta', 'cluster_Phi', 'cluster_nCells', 'cluster_ENG_CALIB_TOT', 'cluster_ENG_CALIB_OUT_T', 'cluster_ENG_CALIB_DEAD_TOT', 'cluster_EM_PROBABILITY', 'cluster_HAD_WEIGHT', 'cluster_OOC_WEIGHT', 'cluster_DM_WEIGHT', 'cluster_CENTER_MAG', 'cluster_FIRST_ENG_DENS', 'cluster_CENTER_LAMBDA', 'cluster_ISOLATION', 'cluster_ENERGY_DigiHSTruth', 'cluster_cell_ID', 'cluster_cell_E', 'cluster_hitsTruthIndex', 'cluster_hitsTruthE'])"
      ]
     },
     "execution_count": 14,
     "metadata": {},
     "output_type": "execute_result"
    }
   ],
   "source": [
    "a.keys()"
   ]
  },
  {
   "cell_type": "code",
   "execution_count": null,
   "id": "415c6080-5ace-4291-8411-9e56d3136f43",
   "metadata": {},
   "outputs": [],
   "source": [
    "df = pd.DataFrame(a)"
   ]
  },
  {
   "cell_type": "code",
   "execution_count": null,
   "id": "30242017-fdd8-4d6d-aa53-52b2ca591af1",
   "metadata": {},
   "outputs": [],
   "source": [
    "[var for var in df.keys() if var.startswith(\"truth\")]"
   ]
  },
  {
   "cell_type": "code",
   "execution_count": null,
   "id": "9a050198-658c-4959-bccc-d270dbc96de4",
   "metadata": {},
   "outputs": [],
   "source": [
    "df[['truthPartPdgId']]"
   ]
  },
  {
   "cell_type": "code",
   "execution_count": null,
   "id": "2e4ae2b2-d092-41d8-8a86-f00e7e14b5dc",
   "metadata": {},
   "outputs": [],
   "source": [
    "df.nTrack.value_counts()"
   ]
  },
  {
   "cell_type": "code",
   "execution_count": null,
   "id": "6715cc3b-a4db-4295-bdbf-bb7fa83f10a6",
   "metadata": {},
   "outputs": [],
   "source": [
    "df[[var for var in df.keys() if \"Eta\" in var]]"
   ]
  },
  {
   "cell_type": "code",
   "execution_count": null,
   "id": "af22e773-4eec-4d57-98f5-b4f2750cc936",
   "metadata": {},
   "outputs": [],
   "source": [
    "[var for var in a.keys()]"
   ]
  },
  {
   "cell_type": "code",
   "execution_count": null,
   "id": "0f7914f3-037d-4d98-99f0-a744a133a7dd",
   "metadata": {},
   "outputs": [],
   "source": [
    "# a"
   ]
  },
  {
   "cell_type": "code",
   "execution_count": null,
   "id": "43ffa7a9-880e-43dc-aff2-351240b01bc0",
   "metadata": {},
   "outputs": [],
   "source": [
    "np.save(\"/clusterfs/ml4hep/mpettee/ml4pions/data/pi0_files/011.npy\", a) "
   ]
  },
  {
   "cell_type": "code",
   "execution_count": null,
   "id": "152bd72f-9856-4ea0-8752-b2f1a6fcb205",
   "metadata": {},
   "outputs": [],
   "source": [
    "np.load(\"/clusterfs/ml4hep/mpettee/ml4pions/data/pi0_files/011.npy\", allow_pickle=True).item()[\"cluster_E\"]"
   ]
  },
  {
   "cell_type": "code",
   "execution_count": null,
   "id": "2a5648cd-36e1-42ce-972a-238ba49512f5",
   "metadata": {},
   "outputs": [],
   "source": [
    "file = uproot3.recreate(\"test.root\")\n",
    "file[\"tree\"] = uproot3.newtree({\"branch1\": np.int32, \n",
    "                               \"branch2\": np.float})\n",
    "file[\"tree\"].extend({\"branch1\": [1,3,5], \"branch2\": [2,4,6],})\n",
    "file.close()"
   ]
  },
  {
   "cell_type": "code",
   "execution_count": null,
   "id": "a7629874-b8b2-4168-98ba-a4a037737ba3",
   "metadata": {},
   "outputs": [],
   "source": [
    "uproot.open(\"test.root\")[\"tree\"].show()"
   ]
  },
  {
   "cell_type": "code",
   "execution_count": null,
   "id": "7c94f2af-e03f-4e11-a745-bb3fab61b638",
   "metadata": {},
   "outputs": [],
   "source": [
    "uproot.open(\"test.root\")[\"tree\"][\"branch1\"].array()"
   ]
  },
  {
   "cell_type": "markdown",
   "id": "df436979-6366-46a5-9fd8-0087bd93a0d3",
   "metadata": {},
   "source": [
    "# Pi0 files"
   ]
  },
  {
   "cell_type": "code",
   "execution_count": null,
   "id": "7c0a5aed-6300-4253-a3a3-4fcfa655ff1c",
   "metadata": {},
   "outputs": [],
   "source": [
    "jsonString = json.dumps(pi0_files[:400])\n",
    "jsonFile = open(\"pi0_training_data.json\", \"w\")\n",
    "jsonFile.write(jsonString)\n",
    "jsonFile.close()\n",
    "\n",
    "jsonString = json.dumps(pi0_files[400:])\n",
    "jsonFile = open(\"pi0_validation_data.json\", \"w\")\n",
    "jsonFile.write(jsonString)\n",
    "jsonFile.close()"
   ]
  },
  {
   "cell_type": "code",
   "execution_count": null,
   "id": "19c9d7a2-b2f7-4629-8403-8f70afde43ea",
   "metadata": {},
   "outputs": [],
   "source": [
    "total_clusters = 0 \n",
    "\n",
    "for file in pi0_files[:400]:\n",
    "    total_clusters += uproot.open(file)[\"EventTree\"].arrays([\"nCluster\"], \n",
    "                                                            library = \"pd\").sum()\n",
    "print(\"Pi0 training\",total_clusters)  \n",
    "\n",
    "total_clusters = 0 \n",
    "\n",
    "for file in pi0_files[400:]:\n",
    "    total_clusters += uproot.open(file)[\"EventTree\"].arrays([\"nCluster\"], \n",
    "                                                            library = \"pd\").sum()\n",
    "print(\"Pi0 validation\",total_clusters)    "
   ]
  },
  {
   "cell_type": "markdown",
   "id": "3aa0ad35-cf94-4464-b02c-92909c7e84b9",
   "metadata": {},
   "source": [
    "# Pion files"
   ]
  },
  {
   "cell_type": "code",
   "execution_count": null,
   "id": "d74a68c7-b5c1-4d4c-aa17-69ba87b44c95",
   "metadata": {},
   "outputs": [],
   "source": [
    "jsonString = json.dumps(pion_files[:400])\n",
    "jsonFile = open(\"pion_training_data.json\", \"w\")\n",
    "jsonFile.write(jsonString)\n",
    "jsonFile.close()\n",
    "\n",
    "jsonString = json.dumps(pion_files[400:])\n",
    "jsonFile = open(\"pion_validation_data.json\", \"w\")\n",
    "jsonFile.write(jsonString)\n",
    "jsonFile.close()"
   ]
  },
  {
   "cell_type": "code",
   "execution_count": null,
   "id": "2d325fc3-be00-4e44-be95-4f39a6910201",
   "metadata": {},
   "outputs": [],
   "source": [
    "total_clusters = 0 \n",
    "\n",
    "for file in pion_files[:400]:\n",
    "    total_clusters += uproot.open(file)[\"EventTree\"].arrays([\"nCluster\"], \n",
    "                                                            library = \"pd\").sum()\n",
    "print(\"Pion training\",total_clusters)  \n",
    "\n",
    "total_clusters = 0 \n",
    "\n",
    "for file in pion_files[400:]:\n",
    "    total_clusters += uproot.open(file)[\"EventTree\"].arrays([\"nCluster\"], \n",
    "                                                            library = \"pd\").sum()\n",
    "print(\"Pion validation\",total_clusters)    "
   ]
  },
  {
   "cell_type": "markdown",
   "id": "e86b18f1-1d4a-47eb-bb6f-a451c76cabd6",
   "metadata": {},
   "source": [
    "# Experiment with adding cuts"
   ]
  },
  {
   "cell_type": "code",
   "execution_count": null,
   "id": "403d2b7f-fa1b-4f67-990f-f175319c02de",
   "metadata": {},
   "outputs": [],
   "source": [
    "df = uproot.open(pion_dir+\"user.angerami.24559744.OutputStream._000001.root\")[\"EventTree\"].arrays(\n",
    "    library= \"pd\", entry_stop=10)"
   ]
  },
  {
   "cell_type": "code",
   "execution_count": null,
   "id": "10fdb516-057c-49d2-aff5-6b9a0e6f2350",
   "metadata": {},
   "outputs": [],
   "source": [
    "df[0].shape"
   ]
  },
  {
   "cell_type": "code",
   "execution_count": null,
   "id": "9be8e5a2-659e-48ac-9e34-adc2b4761586",
   "metadata": {},
   "outputs": [],
   "source": [
    "df[1].shape"
   ]
  },
  {
   "cell_type": "code",
   "execution_count": null,
   "id": "d375146e-5e2f-426c-9530-6a3c6c8e4f61",
   "metadata": {},
   "outputs": [],
   "source": [
    "df[0].keys()"
   ]
  },
  {
   "cell_type": "code",
   "execution_count": null,
   "id": "59578233-c7df-45b9-9f08-e786ad35b77a",
   "metadata": {},
   "outputs": [],
   "source": [
    "df[0][[\"nCluster\",\"nTrack\"]]"
   ]
  },
  {
   "cell_type": "code",
   "execution_count": null,
   "id": "7619cb75-2f07-4ba6-bc37-57f040c89439",
   "metadata": {},
   "outputs": [],
   "source": [
    "df2 = df[0].loc[df[0].nCluster > 0]"
   ]
  },
  {
   "cell_type": "code",
   "execution_count": null,
   "id": "cbddca99-db2f-4e40-ac51-688eed9edbef",
   "metadata": {},
   "outputs": [],
   "source": [
    "df2"
   ]
  },
  {
   "cell_type": "code",
   "execution_count": null,
   "id": "fc7f4686-8328-4666-bb9f-c0552434b2c7",
   "metadata": {},
   "outputs": [],
   "source": [
    "df[1]"
   ]
  },
  {
   "cell_type": "code",
   "execution_count": null,
   "id": "38b81ae9-6dad-412e-bbbc-f0f1cbb6f80e",
   "metadata": {},
   "outputs": [],
   "source": []
  }
 ],
 "metadata": {
  "kernelspec": {
   "display_name": "nbdev",
   "language": "python",
   "name": "nbdev"
  },
  "language_info": {
   "codemirror_mode": {
    "name": "ipython",
    "version": 3
   },
   "file_extension": ".py",
   "mimetype": "text/x-python",
   "name": "python",
   "nbconvert_exporter": "python",
   "pygments_lexer": "ipython3",
   "version": "3.9.7"
  }
 },
 "nbformat": 4,
 "nbformat_minor": 5
}
