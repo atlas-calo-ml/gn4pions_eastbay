{
 "cells": [
  {
   "cell_type": "code",
   "execution_count": 1,
   "id": "bc4e060a-abbb-4ac3-afde-d88694183b56",
   "metadata": {},
   "outputs": [],
   "source": [
    "%load_ext autoreload\n",
    "%autoreload 2\n",
    "from gn4pions.modules.nn_functions import * "
   ]
  },
  {
   "cell_type": "code",
   "execution_count": 2,
   "id": "fec78b14-f57d-4074-988d-46ec6f3fae87",
   "metadata": {},
   "outputs": [
    {
     "name": "stderr",
     "output_type": "stream",
     "text": [
      "100%|██████████| 100/100 [02:09<00:00,  1.30s/it]\n"
     ]
    },
    {
     "name": "stdout",
     "output_type": "stream",
     "text": [
      "Dataframe has 1,027,650 events.\n"
     ]
    },
    {
     "name": "stderr",
     "output_type": "stream",
     "text": [
      "/clusterfs/ml4hep/mpettee/miniconda3/envs/nbdev/lib/python3.9/site-packages/pandas/core/arraylike.py:364: RuntimeWarning: invalid value encountered in log10\n",
      "  result = getattr(ufunc, method)(*inputs, **kwargs)\n"
     ]
    }
   ],
   "source": [
    "df = load_data(n_files=100)"
   ]
  },
  {
   "cell_type": "code",
   "execution_count": 3,
   "id": "13197615-f122-4f73-8976-1787ce8cf0f4",
   "metadata": {},
   "outputs": [
    {
     "data": {
      "text/plain": [
       "Index(['cluster_e_0', 'cluster_calib_e_0', 'cluster_had_weight_0', 'track_pt',\n",
       "       'track_eta', 'track_phi', 'track_z0', 'truth_particle_e',\n",
       "       'truth_particle_pt', 'log10_cluster_e_0', 'log10_cluster_calib_e_0',\n",
       "       'log10_cluster_had_weight_0', 'log10_track_pt',\n",
       "       'log10_truth_particle_e', 'log10_truth_particle_pt'],\n",
       "      dtype='object')"
      ]
     },
     "execution_count": 3,
     "metadata": {},
     "output_type": "execute_result"
    }
   ],
   "source": [
    "df.keys()"
   ]
  },
  {
   "cell_type": "code",
   "execution_count": 4,
   "id": "7e95e7ac-c100-4bdb-9701-d514a66cb92f",
   "metadata": {},
   "outputs": [],
   "source": [
    "# # recreate EM\n",
    "# train_vars = ['log10_cluster_e_0',]\n",
    "# target_var = ['log10_cluster_calib_e_0']"
   ]
  },
  {
   "cell_type": "code",
   "execution_count": 5,
   "id": "37a145bd-512c-4da0-8af0-631520f991e2",
   "metadata": {},
   "outputs": [],
   "source": [
    "# recreate track resolution\n",
    "train_vars = ['log10_track_pt', 'track_eta']\n",
    "target_var = ['log10_truth_particle_e']"
   ]
  },
  {
   "cell_type": "code",
   "execution_count": null,
   "id": "359f189e-c724-4e5e-836c-8883b2046e4b",
   "metadata": {},
   "outputs": [
    {
     "name": "stdout",
     "output_type": "stream",
     "text": [
      "Epoch 1/20\n",
      "19725/19725 [==============================] - 44s 2ms/step - loss: 0.0330 - val_loss: 0.0326\n",
      "Epoch 2/20\n",
      "19725/19725 [==============================] - 44s 2ms/step - loss: 0.0273 - val_loss: 0.0289\n",
      "Epoch 3/20\n",
      "16482/19725 [========================>.....] - ETA: 6s - loss: 0.0271"
     ]
    }
   ],
   "source": [
    "test = train(df, train_vars, target_var, epochs=20)"
   ]
  },
  {
   "cell_type": "code",
   "execution_count": null,
   "id": "a476bd2d-1e1a-4109-848a-b79679354118",
   "metadata": {
    "tags": []
   },
   "outputs": [],
   "source": [
    "make_plots(test, plot_em=False, plot_track=True)"
   ]
  },
  {
   "cell_type": "code",
   "execution_count": null,
   "id": "a812c3a1-2b27-4525-8082-eedb062a05ed",
   "metadata": {},
   "outputs": [],
   "source": []
  }
 ],
 "metadata": {
  "kernelspec": {
   "display_name": "nbdev",
   "language": "python",
   "name": "nbdev"
  },
  "language_info": {
   "codemirror_mode": {
    "name": "ipython",
    "version": 3
   },
   "file_extension": ".py",
   "mimetype": "text/x-python",
   "name": "python",
   "nbconvert_exporter": "python",
   "pygments_lexer": "ipython3",
   "version": "3.9.7"
  }
 },
 "nbformat": 4,
 "nbformat_minor": 5
}
