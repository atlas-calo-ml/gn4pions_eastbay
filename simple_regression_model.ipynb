{
 "cells": [
  {
   "cell_type": "code",
   "execution_count": 1,
   "id": "bc4e060a-abbb-4ac3-afde-d88694183b56",
   "metadata": {},
   "outputs": [],
   "source": [
    "import pandas as pd\n",
    "import numpy as np\n",
    "import glob\n",
    "import os\n",
    "import seaborn as sns\n",
    "from tqdm import tqdm\n",
    "import tensorflow as tf\n",
    "from tensorflow import keras\n",
    "from tensorflow.keras.layers import Dense\n",
    "from keras.models import Sequential\n",
    "from keras.wrappers.scikit_learn import KerasRegressor\n",
    "from sklearn.model_selection import cross_val_score\n",
    "from sklearn.model_selection import KFold\n",
    "from sklearn.preprocessing import StandardScaler\n",
    "import matplotlib.pyplot as plt"
   ]
  },
  {
   "cell_type": "code",
   "execution_count": 2,
   "id": "36797d59-e198-4a0f-9082-4477e42756e9",
   "metadata": {},
   "outputs": [],
   "source": [
    "# ### Load data (one file)\n",
    "# file = \"../data/onetrack_multicluster/pion_files/001.npy\"\n",
    "# event_data = np.load(file, allow_pickle=True).item()\n",
    "# df = pd.DataFrame(event_data)"
   ]
  },
  {
   "cell_type": "code",
   "execution_count": 3,
   "id": "fec78b14-f57d-4074-988d-46ec6f3fae87",
   "metadata": {},
   "outputs": [
    {
     "name": "stderr",
     "output_type": "stream",
     "text": [
      "100%|██████████| 100/100 [02:01<00:00,  1.22s/it]\n"
     ]
    },
    {
     "name": "stdout",
     "output_type": "stream",
     "text": [
      "Dataframe has 1,027,650 events.\n"
     ]
    }
   ],
   "source": [
    "### Load data (multiple files)\n",
    "n_files = 100\n",
    "files = glob.glob(\"../data/onetrack_multicluster/pion_files/*.npy\")\n",
    "df = pd.concat([pd.DataFrame(np.load(file, allow_pickle=True).item()) for file in tqdm(files[:n_files])])\n",
    "print(\"Dataframe has {:,} events.\".format(df.shape[0]))"
   ]
  },
  {
   "cell_type": "code",
   "execution_count": 5,
   "id": "50d665a7-4ecf-4b72-b95e-f9b2cb580816",
   "metadata": {},
   "outputs": [
    {
     "name": "stderr",
     "output_type": "stream",
     "text": [
      "/clusterfs/ml4hep/mpettee/miniconda3/envs/nbdev/lib/python3.9/site-packages/pandas/core/arraylike.py:364: RuntimeWarning: divide by zero encountered in log10\n",
      "  result = getattr(ufunc, method)(*inputs, **kwargs)\n",
      "/clusterfs/ml4hep/mpettee/miniconda3/envs/nbdev/lib/python3.9/site-packages/pandas/core/arraylike.py:364: RuntimeWarning: invalid value encountered in log10\n",
      "  result = getattr(ufunc, method)(*inputs, **kwargs)\n"
     ]
    }
   ],
   "source": [
    "### Start the dataframe of inputs \n",
    "max_n_clusters = pd.DataFrame(pd.DataFrame(df.cluster_E.to_list())).shape[1]\n",
    "df2 = pd.DataFrame(pd.DataFrame(df.cluster_E.to_list(), columns=[\"cluster_e_\"+str(x) \n",
    "                                                                 for x in np.arange(max_n_clusters)]))\n",
    "df2 = pd.DataFrame(df2[\"cluster_e_0\"]) # only keep the leading cluster energy\n",
    "\n",
    "max_n_clusters = pd.DataFrame(pd.DataFrame(df.cluster_ENG_CALIB_TOT.to_list())).shape[1]\n",
    "df3 = pd.DataFrame(pd.DataFrame(df.cluster_ENG_CALIB_TOT.to_list(), columns=[\"cluster_calib_e_\"+str(x) \n",
    "                                                                 for x in np.arange(max_n_clusters)]))\n",
    "df2[\"cluster_calib_e_0\"] = pd.DataFrame(df3[\"cluster_calib_e_0\"]) # only keep the leading cluster energy\n",
    "\n",
    "### Add track pT & truth particle E \n",
    "track_pt = np.array(df.trackPt.explode())\n",
    "truth_particle_e = np.array(df.truthPartE.explode())\n",
    "track_eta = np.array(df.trackEta.explode())\n",
    "track_phi = np.array(df.trackPhi.explode())\n",
    "track_z0 = np.array(df.trackZ0.explode())\n",
    "\n",
    "df2[\"track_pt\"] = track_pt\n",
    "df2[\"track_eta\"] = track_eta\n",
    "df2[\"track_phi\"] = track_phi\n",
    "df2[\"track_z0\"] = track_z0\n",
    "df2[\"truth_particle_e\"] = truth_particle_e\n",
    "\n",
    "### Drop infs/NaNs \n",
    "df2.replace([np.inf, -np.inf], np.nan, inplace=True)\n",
    "df2 = df2.fillna(0)\n",
    "\n",
    "### Cluster_E > 0.5\n",
    "df2 = df2[df2.cluster_e_0 > 0.5]\n",
    "\n",
    "### Lose outliers in track pT \n",
    "df2 = df2[df2.track_pt < 5000]\n",
    "\n",
    "### Cast as float\n",
    "df2 = df2.astype('float32')\n",
    "\n",
    "### Add the log of all energy variables\n",
    "for var in df2.keys():\n",
    "    if var in [\"track_eta\", \"track_phi\", \"track_z0\"]:\n",
    "        continue\n",
    "    else:\n",
    "        df2['log10_'+var] = np.log10(df2[var])\n",
    "    \n",
    "### Do this again? \n",
    "df2.replace([np.inf, -np.inf], np.nan, inplace=True)\n",
    "df2 = df2.fillna(0)"
   ]
  },
  {
   "cell_type": "code",
   "execution_count": 6,
   "id": "5208d62b-cc2d-441f-ae99-210d4818d3de",
   "metadata": {},
   "outputs": [
    {
     "data": {
      "text/plain": [
       "Index(['cluster_e_0', 'cluster_calib_e_0', 'track_pt', 'track_eta',\n",
       "       'track_phi', 'track_z0', 'truth_particle_e', 'log10_cluster_e_0',\n",
       "       'log10_cluster_calib_e_0', 'log10_track_pt', 'log10_truth_particle_e'],\n",
       "      dtype='object')"
      ]
     },
     "execution_count": 6,
     "metadata": {},
     "output_type": "execute_result"
    }
   ],
   "source": [
    "df2.keys()"
   ]
  },
  {
   "cell_type": "code",
   "execution_count": null,
   "id": "cb3dc75c-2cfb-41e0-873b-bf9cbb38e033",
   "metadata": {},
   "outputs": [],
   "source": [
    "### Inspect variables \n",
    "sns.set(font_scale = 2)\n",
    "corr_vars = ['truth_particle_e', 'cluster_calib_e_0', 'cluster_e_0', 'track_pt', 'track_eta']\n",
    "g = sns.pairplot(df2[corr_vars], diag_kind='kde')\n",
    "g.fig.set_figheight(12)\n",
    "g.fig.set_figwidth(12)"
   ]
  },
  {
   "cell_type": "code",
   "execution_count": null,
   "id": "96b4234e-9030-478f-9bfd-fafc0d30aed7",
   "metadata": {},
   "outputs": [],
   "source": [
    "df2.keys()"
   ]
  },
  {
   "cell_type": "code",
   "execution_count": 23,
   "id": "b774ef68-b13a-42f3-a55c-0045c538f41f",
   "metadata": {},
   "outputs": [],
   "source": [
    "### Test/train split \n",
    "train = df2.sample(frac=0.8, random_state=0)\n",
    "test = df2.drop(train.index)\n",
    "\n",
    "train_vars = [\n",
    "#     'log10_cluster_e_0', \n",
    "    'log10_cluster_calib_e_0',\n",
    "#     'log10_track_pt',\n",
    "#     'track_eta'\n",
    "             ]\n",
    "\n",
    "# target_var = 'log10_truth_particle_e'\n",
    "target_var = 'log10_cluster_e_0'\n",
    "\n",
    "### All clusters + track eta/phi/z0\n",
    "# train_vars = [var for var in df2.keys() if var.startswith('log10') and var != 'log10_truth_particle_e']\n",
    "# train_vars += ['track_eta', 'track_phi', 'track_z0']\n",
    "\n",
    "train_x = train[train_vars].values\n",
    "train_y = train[target_var].values\n",
    "test_x = test[train_vars].values\n",
    "test_y = test[target_var].values"
   ]
  },
  {
   "cell_type": "code",
   "execution_count": 24,
   "id": "83ef2fcb-3028-4408-8057-367e779be53b",
   "metadata": {},
   "outputs": [],
   "source": [
    "### Normalize the inputs \n",
    "sc = StandardScaler()\n",
    "train_x = sc.fit_transform(train_x)\n",
    "test_x = sc.transform(test_x)"
   ]
  },
  {
   "cell_type": "code",
   "execution_count": 25,
   "id": "9c600ed8-a3e8-4189-ba1f-5f420b82fb9e",
   "metadata": {},
   "outputs": [
    {
     "data": {
      "image/png": "[encoded data removed]",
      "text/plain": [
       "<Figure size 432x288 with 1 Axes>"
      ]
     },
     "metadata": {
      "needs_background": "light"
     },
     "output_type": "display_data"
    }
   ],
   "source": [
    "plt.hist(train_x[:,0], bins=30);\n",
    "plt.yscale('log');"
   ]
  },
  {
   "cell_type": "code",
   "execution_count": 26,
   "id": "0f258a4d-a1e5-486e-a76f-498c45e38917",
   "metadata": {},
   "outputs": [],
   "source": [
    "def regression_model():\n",
    "    model = Sequential()\n",
    "    model.add(Dense(50, input_dim=train_x.shape[1], activation='relu'))\n",
    "    model.add(Dense(50, activation='relu'))\n",
    "    model.add(Dense(50, activation='relu'))\n",
    "    model.add(Dense(1))\n",
    "    model.compile(loss='mean_squared_error', optimizer='adam')\n",
    "    return model"
   ]
  },
  {
   "cell_type": "code",
   "execution_count": 27,
   "id": "c7cc8b57-aa68-41c8-8a97-d512fc20e6f3",
   "metadata": {},
   "outputs": [
    {
     "name": "stdout",
     "output_type": "stream",
     "text": [
      "Model: \"sequential_1\"\n",
      "_________________________________________________________________\n",
      "Layer (type)                 Output Shape              Param #   \n",
      "=================================================================\n",
      "dense_4 (Dense)              (None, 50)                100       \n",
      "_________________________________________________________________\n",
      "dense_5 (Dense)              (None, 50)                2550      \n",
      "_________________________________________________________________\n",
      "dense_6 (Dense)              (None, 50)                2550      \n",
      "_________________________________________________________________\n",
      "dense_7 (Dense)              (None, 1)                 51        \n",
      "=================================================================\n",
      "Total params: 5,251\n",
      "Trainable params: 5,251\n",
      "Non-trainable params: 0\n",
      "_________________________________________________________________\n"
     ]
    }
   ],
   "source": [
    "model = regression_model()\n",
    "model.summary()"
   ]
  },
  {
   "cell_type": "code",
   "execution_count": 28,
   "id": "4d197211-348b-4017-9eb9-4c7e36cbd94c",
   "metadata": {},
   "outputs": [
    {
     "name": "stdout",
     "output_type": "stream",
     "text": [
      "Epoch 1/10\n",
      "20082/20082 [==============================] - 43s 2ms/step - loss: 0.0153 - val_loss: 0.0100\n",
      "Epoch 2/10\n",
      "20082/20082 [==============================] - 44s 2ms/step - loss: 0.0094 - val_loss: 0.0092\n",
      "Epoch 3/10\n",
      "20082/20082 [==============================] - 44s 2ms/step - loss: 0.0093 - val_loss: 0.0092\n",
      "Epoch 4/10\n",
      "20082/20082 [==============================] - 44s 2ms/step - loss: 0.0093 - val_loss: 0.0091\n",
      "Epoch 5/10\n",
      "20082/20082 [==============================] - 44s 2ms/step - loss: 0.0092 - val_loss: 0.0094\n",
      "Epoch 6/10\n",
      "20082/20082 [==============================] - 44s 2ms/step - loss: 0.0092 - val_loss: 0.0092\n",
      "Epoch 7/10\n",
      "20082/20082 [==============================] - 44s 2ms/step - loss: 0.0092 - val_loss: 0.0092\n",
      "Epoch 8/10\n",
      "20082/20082 [==============================] - 44s 2ms/step - loss: 0.0092 - val_loss: 0.0091\n",
      "Epoch 9/10\n",
      "20082/20082 [==============================] - 44s 2ms/step - loss: 0.0092 - val_loss: 0.0092\n",
      "Epoch 10/10\n",
      "20082/20082 [==============================] - 44s 2ms/step - loss: 0.0092 - val_loss: 0.0091\n",
      "CPU times: user 10min 52s, sys: 1min 7s, total: 12min\n",
      "Wall time: 7min 18s\n"
     ]
    }
   ],
   "source": [
    "%%time\n",
    "history = model.fit(\n",
    "    train_x,\n",
    "    train_y,\n",
    "    validation_split=0.2,\n",
    "    verbose=1, epochs=10)"
   ]
  },
  {
   "cell_type": "code",
   "execution_count": 29,
   "id": "a476bd2d-1e1a-4109-848a-b79679354118",
   "metadata": {},
   "outputs": [
    {
     "data": {
      "image/png": "[encoded data removed]",
      "text/plain": [
       "<Figure size 432x288 with 1 Axes>"
      ]
     },
     "metadata": {
      "needs_background": "light"
     },
     "output_type": "display_data"
    }
   ],
   "source": [
    "### Evaluate performance on test set \n",
    "test['nn_score'] = model.predict(test_x)\n",
    "plt.hist(test.nn_score/test_y, bins=np.linspace(0.9,1.1,40));"
   ]
  },
  {
   "cell_type": "code",
   "execution_count": 30,
   "id": "b8d40b54-0480-45b1-b48e-ec6b280d787a",
   "metadata": {},
   "outputs": [
    {
     "data": {
      "image/png": "[encoded data removed]",
      "text/plain": [
       "<Figure size 864x576 with 1 Axes>"
      ]
     },
     "metadata": {},
     "output_type": "display_data"
    }
   ],
   "source": [
    "### Response median plot \n",
    "import scipy.stats as stats\n",
    "from matplotlib.colors import ListedColormap\n",
    "from matplotlib.colors import LogNorm\n",
    "\n",
    "x = 10**test_y #test.truth_particle_etest_y #\n",
    "y = test.nn_score/test_y #test.log10_truth_particle_e\n",
    "\n",
    "xbin = [10**exp for exp in np.arange(-1., 3.1, 0.05)]\n",
    "ybin = np.arange(0., 3.1, 0.05)\n",
    "xcenter = [(xbin[i] + xbin[i+1]) / 2 for i in range(len(xbin)-1)]\n",
    "profileXMed = stats.binned_statistic(\n",
    "    x, y, bins=xbin, statistic='median').statistic\n",
    "\n",
    "c_map = ListedColormap(sns.color_palette(\"Blues\", n_colors=100).as_hex())\n",
    "fig = plt.figure(figsize=(12,8))\n",
    "fig.patch.set_facecolor('white')\n",
    "plt.hist2d(x, y, bins=[xbin, ybin], norm=LogNorm(),zorder = -1, cmap=c_map);\n",
    "plt.plot(np.array(xcenter), np.array(profileXMed), color='indianred', linewidth=3)\n",
    "plt.plot([0.1, 1000], [1, 1], linestyle='--', color='black');\n",
    "plt.xscale('log')\n",
    "plt.ylim(0, 1.75)\n",
    "plt.xlim(0.3, )\n",
    "plt.xlabel('Truth Particle Energy [GeV]')\n",
    "plt.ylabel('Predicted Energy / Target');\n",
    "np.savez('pub_note_results/response_medians_clustercalibEinput_clusterEtarget.npz', response_median=profileXMed, xcenter=xcenter)"
   ]
  },
  {
   "cell_type": "code",
   "execution_count": 31,
   "id": "8c39aab3-5fbf-430f-bfb5-162bd8efd9c2",
   "metadata": {},
   "outputs": [
    {
     "data": {
      "image/png": "[encoded data removed]",
      "text/plain": [
       "<Figure size 720x432 with 1 Axes>"
      ]
     },
     "metadata": {},
     "output_type": "display_data"
    }
   ],
   "source": [
    "### IQR plot \n",
    "\n",
    "def iqrOverMed(x):\n",
    "    # get the IQR via the percentile function\n",
    "    # 84 is median + 1 sigma, 16 is median - 1 sigma\n",
    "    q84, q16 = np.percentile(x, [84, 16])\n",
    "    iqr = q84 - q16\n",
    "    med = np.median(x)\n",
    "    return iqr / (2*med)\n",
    "\n",
    "xbin = [10**exp for exp in np.arange(-1., 3.1, 0.1)]\n",
    "xcenter = [(xbin[i] + xbin[i+1]) / 2 for i in range(len(xbin)-1)]\n",
    "resolution = stats.binned_statistic(x, y, bins=xbin, statistic=iqrOverMed).statistic\n",
    "\n",
    "fig = plt.figure(figsize=(10,6))\n",
    "fig.patch.set_facecolor('white')\n",
    "plt.plot(xcenter, resolution, linewidth=3)\n",
    "plt.xscale('log')\n",
    "plt.xlim(0.1, 1000)\n",
    "plt.ylim(0,0.5)\n",
    "plt.xlabel('Truth Particle Energy [GeV]')\n",
    "plt.ylabel('Response IQR / 2 x Median');\n",
    "\n",
    "np.savez('pub_note_results/iqr_simple_clustercalibEinput_clusterEtarget.npz', iqr=resolution, xcenter=xcenter)"
   ]
  },
  {
   "cell_type": "code",
   "execution_count": null,
   "id": "d664d99e-6c20-49ab-b10a-87ddd7032888",
   "metadata": {},
   "outputs": [],
   "source": []
  }
 ],
 "metadata": {
  "kernelspec": {
   "display_name": "nbdev",
   "language": "python",
   "name": "nbdev"
  },
  "language_info": {
   "codemirror_mode": {
    "name": "ipython",
    "version": 3
   },
   "file_extension": ".py",
   "mimetype": "text/x-python",
   "name": "python",
   "nbconvert_exporter": "python",
   "pygments_lexer": "ipython3",
   "version": "3.9.7"
  }
 },
 "nbformat": 4,
 "nbformat_minor": 5
}
