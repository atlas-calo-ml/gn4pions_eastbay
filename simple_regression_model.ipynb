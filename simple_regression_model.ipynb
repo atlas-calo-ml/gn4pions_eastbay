{
 "cells": [
  {
   "cell_type": "code",
   "execution_count": 1,
   "metadata": {},
   "outputs": [
    {
     "name": "stderr",
     "output_type": "stream",
     "text": [
      "2022-05-23 07:50:14.188936: I tensorflow/stream_executor/platform/default/dso_loader.cc:49] Successfully opened dynamic library libcudart.so.10.2\n"
     ]
    }
   ],
   "source": [
    "import pandas as pd\n",
    "import numpy as np\n",
    "import glob\n",
    "import os\n",
    "import seaborn as sns\n",
    "from tqdm import tqdm\n",
    "import tensorflow as tf\n",
    "from tensorflow import keras\n",
    "from tensorflow.keras.layers import Dense\n",
    "from tensorflow.keras.models import Sequential\n",
    "from tensorflow.keras.wrappers.scikit_learn import KerasRegressor\n",
    "from sklearn.model_selection import cross_val_score\n",
    "from sklearn.model_selection import KFold\n",
    "from sklearn.preprocessing import StandardScaler\n",
    "import matplotlib.pyplot as plt"
   ]
  },
  {
   "cell_type": "code",
   "execution_count": 2,
   "metadata": {},
   "outputs": [],
   "source": [
    "# ### Load data (one file)\n",
    "# file = \"../data/onetrack_multicluster/pion_files/001.npy\"\n",
    "# event_data = np.load(file, allow_pickle=True).item()\n",
    "# df = pd.DataFrame(event_data)"
   ]
  },
  {
   "cell_type": "code",
   "execution_count": 3,
   "metadata": {},
   "outputs": [
    {
     "name": "stderr",
     "output_type": "stream",
     "text": [
      "100%|██████████| 100/100 [03:43<00:00,  2.23s/it]\n"
     ]
    },
    {
     "name": "stdout",
     "output_type": "stream",
     "text": [
      "Dataframe has 1,027,804 events.\n"
     ]
    }
   ],
   "source": [
    "### Load data (multiple files)\n",
    "n_files = 100\n",
    "files = glob.glob('/usr/workspace/hip/ML4Jets/regression_images/graphs.v01-45-gaa27bcb/onetrack_multicluster/pion_files/*.npy')\n",
    "df = pd.concat([pd.DataFrame(np.load(file, allow_pickle=True).item()) for file in tqdm(files[:n_files])])\n",
    "print(\"Dataframe has {:,} events.\".format(df.shape[0]))"
   ]
  },
  {
   "cell_type": "code",
   "execution_count": 4,
   "metadata": {},
   "outputs": [],
   "source": [
    "max_clusters = pd.DataFrame(df.cluster_E.to_list()).shape[1]\n",
    "df2 = pd.DataFrame(pd.DataFrame(df.cluster_E.to_list(), columns=[\"cluster_e_\"+str(x) for x in np.arange(max_clusters)]))"
   ]
  },
  {
   "cell_type": "code",
   "execution_count": 23,
   "metadata": {},
   "outputs": [],
   "source": [
    "dR = np.hstack(df.dR)\n",
    "cluster_E = np.hstack(df.cluster_E)"
   ]
  },
  {
   "cell_type": "code",
   "execution_count": 26,
   "metadata": {},
   "outputs": [
    {
     "data": {
      "text/plain": [
       "(2768813, (2867016,))"
      ]
     },
     "execution_count": 26,
     "metadata": {},
     "output_type": "execute_result"
    }
   ],
   "source": [
    "cluster_E[cluster_E>.5].shape, cluster_E[np.logical_and(cluster_E>.5, dR<1.2)].shape\n",
    "\n",
    "df.dR_pass.sum(), cluster_E.shape"
   ]
  },
  {
   "cell_type": "code",
   "execution_count": 4,
   "metadata": {},
   "outputs": [
    {
     "name": "stderr",
     "output_type": "stream",
     "text": [
      "/usr/workspace/karande1/opence/lib/python3.7/site-packages/pandas/core/arraylike.py:358: RuntimeWarning: divide by zero encountered in log10\n",
      "  result = getattr(ufunc, method)(*inputs, **kwargs)\n"
     ]
    }
   ],
   "source": [
    "### Start the dataframe of inputs \n",
    "# df2 = pd.DataFrame(pd.DataFrame(df.cluster_E.to_list())[0]) # just take the leading cluster E \n",
    "max_clusters = pd.DataFrame(df.cluster_E.to_list()).shape[1]\n",
    "df2 = pd.DataFrame(pd.DataFrame(df.cluster_E.to_list(), columns=[\"cluster_e_\"+str(x) for x in np.arange(max_clusters)]))\n",
    "\n",
    "### Add track pT & truth particle E \n",
    "track_pt = np.array(df.trackPt.explode())\n",
    "truth_particle_e = np.array(df.truthPartE.explode())\n",
    "track_eta = np.array(df.trackEta.explode())\n",
    "track_phi = np.array(df.trackPhi.explode())\n",
    "track_z0 = np.array(df.trackZ0.explode())\n",
    "\n",
    "df2[\"track_pt\"] = track_pt\n",
    "df2[\"track_eta\"] = track_eta\n",
    "df2[\"track_phi\"] = track_phi\n",
    "df2[\"track_z0\"] = track_z0\n",
    "df2[\"truth_particle_e\"] = truth_particle_e\n",
    "\n",
    "### Drop infs/NaNs \n",
    "df2.replace([np.inf, -np.inf], np.nan, inplace=True)\n",
    "df2 = df2.fillna(0)\n",
    "\n",
    "### Cluster_E > 0.5\n",
    "df2 = df2[df2.cluster_e_0 > 0.5]\n",
    "\n",
    "### Lose outliers in track pT \n",
    "df2 = df2[df2.track_pt < 5000]\n",
    "\n",
    "### Cast as float\n",
    "df2 = df2.astype('float32')\n",
    "\n",
    "### Add the log of all energy variables\n",
    "for var in df2.keys():\n",
    "    if var in [\"track_eta\", \"track_phi\", \"track_z0\"]:\n",
    "        continue\n",
    "    else:\n",
    "        df2['log10_'+var] = np.log10(df2[var])\n",
    "    \n",
    "### Do this again? \n",
    "df2.replace([np.inf, -np.inf], np.nan, inplace=True)\n",
    "df2 = df2.fillna(0)"
   ]
  },
  {
   "cell_type": "code",
   "execution_count": 5,
   "metadata": {},
   "outputs": [
    {
     "data": {
      "text/plain": [
       "Index(['cluster_e_0', 'cluster_e_1', 'cluster_e_2', 'cluster_e_3',\n",
       "       'cluster_e_4', 'cluster_e_5', 'cluster_e_6', 'cluster_e_7',\n",
       "       'cluster_e_8', 'cluster_e_9', 'cluster_e_10', 'cluster_e_11',\n",
       "       'cluster_e_12', 'cluster_e_13', 'cluster_e_14', 'cluster_e_15',\n",
       "       'cluster_e_16', 'cluster_e_17', 'cluster_e_18', 'cluster_e_19',\n",
       "       'cluster_e_20', 'cluster_e_21', 'cluster_e_22', 'cluster_e_23',\n",
       "       'cluster_e_24', 'cluster_e_25', 'cluster_e_26', 'cluster_e_27',\n",
       "       'cluster_e_28', 'cluster_e_29', 'cluster_e_30', 'cluster_e_31',\n",
       "       'cluster_e_32', 'cluster_e_33', 'cluster_e_34', 'track_pt', 'track_eta',\n",
       "       'track_phi', 'track_z0', 'truth_particle_e', 'log10_cluster_e_0',\n",
       "       'log10_cluster_e_1', 'log10_cluster_e_2', 'log10_cluster_e_3',\n",
       "       'log10_cluster_e_4', 'log10_cluster_e_5', 'log10_cluster_e_6',\n",
       "       'log10_cluster_e_7', 'log10_cluster_e_8', 'log10_cluster_e_9',\n",
       "       'log10_cluster_e_10', 'log10_cluster_e_11', 'log10_cluster_e_12',\n",
       "       'log10_cluster_e_13', 'log10_cluster_e_14', 'log10_cluster_e_15',\n",
       "       'log10_cluster_e_16', 'log10_cluster_e_17', 'log10_cluster_e_18',\n",
       "       'log10_cluster_e_19', 'log10_cluster_e_20', 'log10_cluster_e_21',\n",
       "       'log10_cluster_e_22', 'log10_cluster_e_23', 'log10_cluster_e_24',\n",
       "       'log10_cluster_e_25', 'log10_cluster_e_26', 'log10_cluster_e_27',\n",
       "       'log10_cluster_e_28', 'log10_cluster_e_29', 'log10_cluster_e_30',\n",
       "       'log10_cluster_e_31', 'log10_cluster_e_32', 'log10_cluster_e_33',\n",
       "       'log10_cluster_e_34', 'log10_track_pt', 'log10_truth_particle_e'],\n",
       "      dtype='object')"
      ]
     },
     "execution_count": 5,
     "metadata": {},
     "output_type": "execute_result"
    }
   ],
   "source": [
    "df2.keys()"
   ]
  },
  {
   "cell_type": "code",
   "execution_count": 6,
   "metadata": {
    "scrolled": true
   },
   "outputs": [],
   "source": [
    "### Inspect variables \n",
    "# sns.set(font_scale = 2)\n",
    "# corr_vars = ['truth_particle_e', 'cluster_e_0', 'track_pt', 'track_eta']\n",
    "# g = sns.pairplot(df2[corr_vars], diag_kind='kde')\n",
    "# g.fig.set_figheight(12)\n",
    "# g.fig.set_figwidth(12)"
   ]
  },
  {
   "cell_type": "code",
   "execution_count": 30,
   "metadata": {},
   "outputs": [],
   "source": [
    "### Test/train split \n",
    "train = df2.sample(frac=0.8, random_state=0)\n",
    "test = df2.drop(train.index)\n",
    "\n",
    "# train_vars = [\n",
    "#     'log10_cluster_e_0', 'log10_cluster_e_1',\n",
    "#     'log10_cluster_e_2', 'log10_cluster_e_3', 'log10_cluster_e_4',\n",
    "#     'log10_cluster_e_11', 'log10_cluster_e_12', 'log10_cluster_e_13',\n",
    "#     'log10_cluster_e_14', 'log10_cluster_e_15', 'log10_cluster_e_16',\n",
    "#     'log10_cluster_e_17', 'log10_cluster_e_18', 'log10_cluster_e_19',\n",
    "#     'log10_cluster_e_20', 'log10_cluster_e_21', 'log10_cluster_e_22',\n",
    "#     'log10_cluster_e_23', 'log10_cluster_e_24', 'log10_cluster_e_25',\n",
    "#     'log10_cluster_e_26', 'log10_cluster_e_27', 'log10_cluster_e_28',\n",
    "#     'log10_cluster_e_29', 'log10_cluster_e_30', 'log10_cluster_e_31', \n",
    "#     'log10_cluster_e_32', 'log10_cluster_e_33', 'log10_cluster_e_34',\n",
    "#     'log10_track_pt',\n",
    "#     'track_eta'\n",
    "#              ]\n",
    "train_vars = [\n",
    "    'log10_cluster_e_0',\n",
    "    'log10_track_pt',\n",
    "    'track_eta'\n",
    "             ]\n",
    "### All clusters + track eta/phi/z0\n",
    "# train_vars = [var for var in df2.keys() if var.startswith('log10') and var != 'log10_truth_particle_e']\n",
    "# train_vars += ['track_eta', 'track_phi', 'track_z0']\n",
    "\n",
    "train_x = train[train_vars].values\n",
    "train_y = train['log10_truth_particle_e'].values\n",
    "test_x = test[train_vars].values\n",
    "test_y = test['log10_truth_particle_e'].values"
   ]
  },
  {
   "cell_type": "code",
   "execution_count": 31,
   "metadata": {},
   "outputs": [],
   "source": [
    "### Normalize the inputs \n",
    "# sc = StandardScaler()\n",
    "# train_x = sc.fit_transform(train_x)\n",
    "# test_x = sc.transform(test_x)"
   ]
  },
  {
   "cell_type": "code",
   "execution_count": 32,
   "metadata": {},
   "outputs": [
    {
     "data": {
      "image/png": "[encoded data removed]",
      "text/plain": [
       "<Figure size 432x288 with 1 Axes>"
      ]
     },
     "metadata": {
      "needs_background": "light"
     },
     "output_type": "display_data"
    }
   ],
   "source": [
    "plt.hist(test_x[:,0], bins=30);\n",
    "# plt.yscale('log');"
   ]
  },
  {
   "cell_type": "code",
   "execution_count": 33,
   "metadata": {},
   "outputs": [],
   "source": [
    "def regression_model():\n",
    "    model = Sequential()\n",
    "    model.add(Dense(50, input_dim=train_x.shape[1], activation='relu'))\n",
    "    model.add(Dense(50, activation='relu'))\n",
    "    model.add(Dense(50, activation='relu'))\n",
    "    model.add(Dense(1))\n",
    "    model.compile(loss='mae', optimizer='adam')\n",
    "    return model"
   ]
  },
  {
   "cell_type": "code",
   "execution_count": 34,
   "metadata": {
    "scrolled": true
   },
   "outputs": [
    {
     "name": "stdout",
     "output_type": "stream",
     "text": [
      "Model: \"sequential_2\"\n",
      "_________________________________________________________________\n",
      "Layer (type)                 Output Shape              Param #   \n",
      "=================================================================\n",
      "dense_8 (Dense)              (None, 50)                200       \n",
      "_________________________________________________________________\n",
      "dense_9 (Dense)              (None, 50)                2550      \n",
      "_________________________________________________________________\n",
      "dense_10 (Dense)             (None, 50)                2550      \n",
      "_________________________________________________________________\n",
      "dense_11 (Dense)             (None, 1)                 51        \n",
      "=================================================================\n",
      "Total params: 5,351\n",
      "Trainable params: 5,351\n",
      "Non-trainable params: 0\n",
      "_________________________________________________________________\n"
     ]
    }
   ],
   "source": [
    "model = regression_model()\n",
    "model.summary()"
   ]
  },
  {
   "cell_type": "code",
   "execution_count": 35,
   "metadata": {
    "scrolled": true
   },
   "outputs": [
    {
     "name": "stdout",
     "output_type": "stream",
     "text": [
      "Epoch 1/100\n",
      "314/314 - 1s - loss: 0.1059 - val_loss: 0.0448\n",
      "INFO:tensorflow:Assets written to: ./tmp/assets\n",
      "Epoch 2/100\n",
      "314/314 - 1s - loss: 0.0392 - val_loss: 0.0362\n",
      "INFO:tensorflow:Assets written to: ./tmp/assets\n",
      "Epoch 3/100\n",
      "314/314 - 1s - loss: 0.0361 - val_loss: 0.0367\n",
      "Epoch 4/100\n",
      "314/314 - 1s - loss: 0.0353 - val_loss: 0.0358\n",
      "INFO:tensorflow:Assets written to: ./tmp/assets\n",
      "Epoch 5/100\n",
      "314/314 - 1s - loss: 0.0348 - val_loss: 0.0350\n",
      "INFO:tensorflow:Assets written to: ./tmp/assets\n",
      "Epoch 6/100\n",
      "314/314 - 1s - loss: 0.0346 - val_loss: 0.0344\n",
      "INFO:tensorflow:Assets written to: ./tmp/assets\n",
      "Epoch 7/100\n",
      "314/314 - 1s - loss: 0.0345 - val_loss: 0.0344\n",
      "INFO:tensorflow:Assets written to: ./tmp/assets\n",
      "Epoch 8/100\n",
      "314/314 - 1s - loss: 0.0340 - val_loss: 0.0341\n",
      "INFO:tensorflow:Assets written to: ./tmp/assets\n",
      "Epoch 9/100\n",
      "314/314 - 1s - loss: 0.0338 - val_loss: 0.0333\n",
      "INFO:tensorflow:Assets written to: ./tmp/assets\n",
      "Epoch 10/100\n",
      "314/314 - 1s - loss: 0.0335 - val_loss: 0.0345\n",
      "Epoch 11/100\n",
      "314/314 - 1s - loss: 0.0334 - val_loss: 0.0328\n",
      "INFO:tensorflow:Assets written to: ./tmp/assets\n",
      "Epoch 12/100\n",
      "314/314 - 1s - loss: 0.0332 - val_loss: 0.0326\n",
      "INFO:tensorflow:Assets written to: ./tmp/assets\n",
      "Epoch 13/100\n",
      "314/314 - 1s - loss: 0.0329 - val_loss: 0.0328\n",
      "Epoch 14/100\n",
      "314/314 - 1s - loss: 0.0330 - val_loss: 0.0330\n",
      "Epoch 15/100\n",
      "314/314 - 1s - loss: 0.0326 - val_loss: 0.0327\n",
      "Epoch 16/100\n",
      "314/314 - 1s - loss: 0.0325 - val_loss: 0.0324\n",
      "INFO:tensorflow:Assets written to: ./tmp/assets\n",
      "Epoch 17/100\n",
      "314/314 - 1s - loss: 0.0324 - val_loss: 0.0326\n",
      "Epoch 18/100\n",
      "314/314 - 1s - loss: 0.0322 - val_loss: 0.0318\n",
      "INFO:tensorflow:Assets written to: ./tmp/assets\n",
      "Epoch 19/100\n",
      "314/314 - 1s - loss: 0.0323 - val_loss: 0.0315\n",
      "INFO:tensorflow:Assets written to: ./tmp/assets\n",
      "Epoch 20/100\n",
      "314/314 - 1s - loss: 0.0319 - val_loss: 0.0318\n",
      "Epoch 21/100\n",
      "314/314 - 1s - loss: 0.0319 - val_loss: 0.0318\n",
      "Epoch 22/100\n",
      "314/314 - 1s - loss: 0.0318 - val_loss: 0.0336\n",
      "Epoch 23/100\n",
      "314/314 - 1s - loss: 0.0315 - val_loss: 0.0313\n",
      "INFO:tensorflow:Assets written to: ./tmp/assets\n",
      "Epoch 24/100\n",
      "314/314 - 1s - loss: 0.0314 - val_loss: 0.0313\n",
      "Epoch 25/100\n",
      "314/314 - 1s - loss: 0.0313 - val_loss: 0.0311\n",
      "INFO:tensorflow:Assets written to: ./tmp/assets\n",
      "Epoch 26/100\n",
      "314/314 - 1s - loss: 0.0312 - val_loss: 0.0315\n",
      "Epoch 27/100\n",
      "314/314 - 1s - loss: 0.0311 - val_loss: 0.0327\n",
      "Epoch 28/100\n",
      "314/314 - 1s - loss: 0.0313 - val_loss: 0.0312\n",
      "Epoch 29/100\n",
      "314/314 - 1s - loss: 0.0310 - val_loss: 0.0307\n",
      "INFO:tensorflow:Assets written to: ./tmp/assets\n",
      "Epoch 30/100\n",
      "314/314 - 1s - loss: 0.0313 - val_loss: 0.0310\n",
      "Epoch 31/100\n",
      "314/314 - 1s - loss: 0.0310 - val_loss: 0.0306\n",
      "INFO:tensorflow:Assets written to: ./tmp/assets\n",
      "Epoch 32/100\n",
      "314/314 - 1s - loss: 0.0311 - val_loss: 0.0319\n",
      "Epoch 33/100\n",
      "314/314 - 1s - loss: 0.0310 - val_loss: 0.0308\n",
      "Epoch 34/100\n",
      "314/314 - 1s - loss: 0.0309 - val_loss: 0.0308\n",
      "Epoch 35/100\n",
      "314/314 - 1s - loss: 0.0311 - val_loss: 0.0318\n",
      "Epoch 36/100\n",
      "314/314 - 1s - loss: 0.0310 - val_loss: 0.0308\n",
      "Epoch 37/100\n",
      "314/314 - 1s - loss: 0.0310 - val_loss: 0.0308\n",
      "Epoch 38/100\n",
      "314/314 - 1s - loss: 0.0309 - val_loss: 0.0308\n",
      "Epoch 39/100\n",
      "314/314 - 1s - loss: 0.0308 - val_loss: 0.0308\n",
      "Epoch 40/100\n",
      "314/314 - 1s - loss: 0.0310 - val_loss: 0.0305\n",
      "INFO:tensorflow:Assets written to: ./tmp/assets\n",
      "Epoch 41/100\n",
      "314/314 - 1s - loss: 0.0307 - val_loss: 0.0309\n",
      "Epoch 42/100\n",
      "314/314 - 1s - loss: 0.0308 - val_loss: 0.0306\n",
      "Epoch 43/100\n",
      "314/314 - 1s - loss: 0.0310 - val_loss: 0.0306\n",
      "Epoch 44/100\n",
      "314/314 - 1s - loss: 0.0309 - val_loss: 0.0306\n",
      "Epoch 45/100\n",
      "314/314 - 1s - loss: 0.0308 - val_loss: 0.0340\n",
      "Epoch 46/100\n",
      "314/314 - 1s - loss: 0.0309 - val_loss: 0.0321\n",
      "Epoch 47/100\n",
      "314/314 - 1s - loss: 0.0309 - val_loss: 0.0312\n",
      "Epoch 48/100\n",
      "314/314 - 1s - loss: 0.0309 - val_loss: 0.0314\n",
      "Epoch 49/100\n",
      "314/314 - 1s - loss: 0.0308 - val_loss: 0.0312\n",
      "Epoch 50/100\n",
      "314/314 - 1s - loss: 0.0308 - val_loss: 0.0305\n",
      "INFO:tensorflow:Assets written to: ./tmp/assets\n",
      "Epoch 51/100\n",
      "314/314 - 1s - loss: 0.0307 - val_loss: 0.0313\n",
      "Epoch 52/100\n",
      "314/314 - 1s - loss: 0.0307 - val_loss: 0.0311\n",
      "Epoch 53/100\n",
      "314/314 - 1s - loss: 0.0310 - val_loss: 0.0309\n",
      "Epoch 54/100\n",
      "314/314 - 1s - loss: 0.0307 - val_loss: 0.0322\n",
      "Epoch 55/100\n",
      "314/314 - 1s - loss: 0.0307 - val_loss: 0.0306\n",
      "Epoch 56/100\n",
      "314/314 - 1s - loss: 0.0308 - val_loss: 0.0311\n",
      "Epoch 57/100\n",
      "314/314 - 1s - loss: 0.0306 - val_loss: 0.0315\n",
      "Epoch 58/100\n",
      "314/314 - 1s - loss: 0.0309 - val_loss: 0.0308\n",
      "Epoch 59/100\n",
      "314/314 - 1s - loss: 0.0307 - val_loss: 0.0304\n",
      "INFO:tensorflow:Assets written to: ./tmp/assets\n",
      "Epoch 60/100\n",
      "314/314 - 1s - loss: 0.0307 - val_loss: 0.0306\n",
      "Epoch 61/100\n",
      "314/314 - 1s - loss: 0.0306 - val_loss: 0.0305\n",
      "Epoch 62/100\n",
      "314/314 - 1s - loss: 0.0308 - val_loss: 0.0304\n",
      "Epoch 63/100\n",
      "314/314 - 1s - loss: 0.0307 - val_loss: 0.0307\n",
      "Epoch 64/100\n",
      "314/314 - 1s - loss: 0.0307 - val_loss: 0.0314\n",
      "Epoch 65/100\n",
      "314/314 - 1s - loss: 0.0306 - val_loss: 0.0304\n",
      "INFO:tensorflow:Assets written to: ./tmp/assets\n",
      "Epoch 66/100\n",
      "314/314 - 1s - loss: 0.0306 - val_loss: 0.0316\n",
      "Epoch 67/100\n",
      "314/314 - 1s - loss: 0.0308 - val_loss: 0.0303\n",
      "INFO:tensorflow:Assets written to: ./tmp/assets\n",
      "Epoch 68/100\n",
      "314/314 - 1s - loss: 0.0306 - val_loss: 0.0307\n",
      "Epoch 69/100\n",
      "314/314 - 1s - loss: 0.0307 - val_loss: 0.0307\n",
      "Epoch 70/100\n",
      "314/314 - 1s - loss: 0.0306 - val_loss: 0.0318\n",
      "Epoch 71/100\n",
      "314/314 - 1s - loss: 0.0306 - val_loss: 0.0310\n",
      "Epoch 72/100\n",
      "314/314 - 1s - loss: 0.0307 - val_loss: 0.0309\n",
      "Epoch 73/100\n",
      "314/314 - 1s - loss: 0.0307 - val_loss: 0.0308\n",
      "Epoch 74/100\n",
      "314/314 - 1s - loss: 0.0305 - val_loss: 0.0307\n",
      "Epoch 75/100\n",
      "314/314 - 1s - loss: 0.0306 - val_loss: 0.0304\n",
      "Epoch 76/100\n",
      "314/314 - 1s - loss: 0.0306 - val_loss: 0.0304\n",
      "Epoch 77/100\n",
      "314/314 - 1s - loss: 0.0307 - val_loss: 0.0308\n",
      "Epoch 78/100\n",
      "314/314 - 1s - loss: 0.0306 - val_loss: 0.0305\n",
      "Epoch 79/100\n",
      "314/314 - 1s - loss: 0.0306 - val_loss: 0.0303\n",
      "Epoch 80/100\n",
      "314/314 - 1s - loss: 0.0306 - val_loss: 0.0304\n",
      "Epoch 81/100\n",
      "314/314 - 1s - loss: 0.0305 - val_loss: 0.0317\n",
      "Epoch 82/100\n",
      "314/314 - 1s - loss: 0.0306 - val_loss: 0.0310\n",
      "Epoch 83/100\n",
      "314/314 - 1s - loss: 0.0307 - val_loss: 0.0308\n",
      "Epoch 84/100\n",
      "314/314 - 1s - loss: 0.0305 - val_loss: 0.0304\n",
      "Epoch 85/100\n",
      "314/314 - 1s - loss: 0.0306 - val_loss: 0.0308\n",
      "Epoch 86/100\n",
      "314/314 - 1s - loss: 0.0305 - val_loss: 0.0304\n",
      "Epoch 87/100\n",
      "314/314 - 1s - loss: 0.0306 - val_loss: 0.0317\n",
      "Epoch 88/100\n",
      "314/314 - 1s - loss: 0.0307 - val_loss: 0.0305\n",
      "Epoch 89/100\n",
      "314/314 - 1s - loss: 0.0305 - val_loss: 0.0312\n",
      "Epoch 90/100\n",
      "314/314 - 1s - loss: 0.0304 - val_loss: 0.0304\n",
      "Epoch 91/100\n",
      "314/314 - 1s - loss: 0.0306 - val_loss: 0.0306\n",
      "Epoch 92/100\n",
      "314/314 - 1s - loss: 0.0307 - val_loss: 0.0308\n",
      "Epoch 93/100\n",
      "314/314 - 1s - loss: 0.0305 - val_loss: 0.0306\n",
      "Epoch 94/100\n",
      "314/314 - 1s - loss: 0.0305 - val_loss: 0.0305\n",
      "Epoch 95/100\n",
      "314/314 - 1s - loss: 0.0306 - val_loss: 0.0310\n",
      "Epoch 96/100\n",
      "314/314 - 1s - loss: 0.0305 - val_loss: 0.0307\n",
      "Epoch 97/100\n",
      "314/314 - 1s - loss: 0.0304 - val_loss: 0.0304\n",
      "Epoch 98/100\n",
      "314/314 - 1s - loss: 0.0306 - val_loss: 0.0304\n",
      "Epoch 99/100\n",
      "314/314 - 1s - loss: 0.0305 - val_loss: 0.0304\n",
      "Epoch 100/100\n",
      "314/314 - 1s - loss: 0.0306 - val_loss: 0.0304\n",
      "CPU times: user 2min 21s, sys: 11.9 s, total: 2min 33s\n",
      "Wall time: 1min 28s\n"
     ]
    }
   ],
   "source": [
    "%%time\n",
    "clbk = keras.callbacks.ModelCheckpoint('./tmp/', save_best_only=True)\n",
    "history = model.fit(\n",
    "    train_x,\n",
    "    train_y,\n",
    "    batch_size=2048,\n",
    "    validation_split=0.2,\n",
    "    verbose=2, epochs=100,\n",
    "    callbacks=[clbk])"
   ]
  },
  {
   "cell_type": "code",
   "execution_count": 36,
   "metadata": {},
   "outputs": [
    {
     "name": "stdout",
     "output_type": "stream",
     "text": [
      "99/99 [==============================] - 0s 1ms/step - loss: 0.0304\n"
     ]
    },
    {
     "data": {
      "text/plain": [
       "0.03043142519891262"
      ]
     },
     "execution_count": 36,
     "metadata": {},
     "output_type": "execute_result"
    }
   ],
   "source": [
    "model.evaluate(test_x, test_y, batch_size=2048)"
   ]
  },
  {
   "cell_type": "code",
   "execution_count": 37,
   "metadata": {},
   "outputs": [
    {
     "name": "stdout",
     "output_type": "stream",
     "text": [
      "99/99 [==============================] - 0s 1ms/step - loss: 0.0304\n"
     ]
    },
    {
     "data": {
      "text/plain": [
       "0.03039892390370369"
      ]
     },
     "execution_count": 37,
     "metadata": {},
     "output_type": "execute_result"
    }
   ],
   "source": [
    "model = keras.models.load_model('./tmp/')\n",
    "model.evaluate(test_x, test_y, batch_size=2048)"
   ]
  },
  {
   "cell_type": "code",
   "execution_count": 38,
   "metadata": {},
   "outputs": [
    {
     "data": {
      "image/png": "[encoded data removed]",
      "text/plain": [
       "<Figure size 432x288 with 1 Axes>"
      ]
     },
     "metadata": {
      "needs_background": "light"
     },
     "output_type": "display_data"
    }
   ],
   "source": [
    "### Evaluate performance on test set \n",
    "test['nn_score'] = model.predict(test_x)\n",
    "plt.hist((10**test.nn_score)/(10**test.log10_truth_particle_e), bins=np.linspace(0.9,1.1,40));"
   ]
  },
  {
   "cell_type": "code",
   "execution_count": 39,
   "metadata": {},
   "outputs": [
    {
     "data": {
      "image/png": "[encoded data removed]",
      "text/plain": [
       "<Figure size 864x576 with 2 Axes>"
      ]
     },
     "metadata": {},
     "output_type": "display_data"
    }
   ],
   "source": [
    "### Response median plot \n",
    "import scipy.stats as stats\n",
    "from matplotlib.colors import ListedColormap\n",
    "from matplotlib.colors import LogNorm\n",
    "\n",
    "x = test.truth_particle_e\n",
    "\n",
    "y = (10**test.nn_score)/(10**test.log10_truth_particle_e)\n",
    "\n",
    "xbin = [10**exp for exp in np.arange(-1.05, 3.1, 0.05)]\n",
    "ybin = np.arange(0., 3.1, 0.05)\n",
    "xcenter = [(xbin[i] + xbin[i+1]) / 2 for i in range(len(xbin)-1)]\n",
    "profileXMed = stats.binned_statistic(\n",
    "    x, y, bins=xbin, statistic='median').statistic\n",
    "\n",
    "c_map = ListedColormap(sns.color_palette(\"Blues\", n_colors=100).as_hex())\n",
    "fig = plt.figure(figsize=(12,8))\n",
    "fig.patch.set_facecolor('white')\n",
    "plt.hist2d(x, y, bins=[xbin, ybin], norm=LogNorm(),zorder = -1, cmap=c_map);\n",
    "plt.plot(np.array(xcenter), np.array(profileXMed), color='indianred', linewidth=3)\n",
    "plt.plot([0.1, 1000], [1, 1], linestyle='--', color='black');\n",
    "plt.xscale('log')\n",
    "plt.ylim(0, 1.75)\n",
    "plt.xlim(0.3, )\n",
    "plt.xlabel('Truth Particle Energy [GeV]')\n",
    "plt.ylabel('Predicted Energy / Target')\n",
    "plt.colorbar()\n",
    "plt.show()\n",
    "# np.savez('pub_note_results/response_median_simple.npz', response_median=profileXMed, xcenter=xcenter)"
   ]
  },
  {
   "cell_type": "code",
   "execution_count": 40,
   "metadata": {},
   "outputs": [
    {
     "data": {
      "image/png": "[encoded data removed]",
      "text/plain": [
       "<Figure size 720x432 with 1 Axes>"
      ]
     },
     "metadata": {},
     "output_type": "display_data"
    }
   ],
   "source": [
    "### IQR plot \n",
    "\n",
    "def iqrOverMed(x):\n",
    "    # get the IQR via the percentile function\n",
    "    # 84 is median + 1 sigma, 16 is median - 1 sigma\n",
    "    q84, q16 = np.percentile(x, [84, 16])\n",
    "    iqr = q84 - q16\n",
    "    med = np.median(x)\n",
    "    return iqr / (2*med)\n",
    "\n",
    "resolution_single = stats.binned_statistic(x, y, bins=xbin,statistic=iqrOverMed).statistic\n",
    "\n",
    "fig = plt.figure(figsize=(10,6))\n",
    "fig.patch.set_facecolor('white')\n",
    "plt.plot(xcenter, resolution_single, linewidth=3)\n",
    "plt.xscale('log')\n",
    "plt.xlim(0.1, 1000)\n",
    "plt.ylim(0,0.5)\n",
    "plt.xlabel('Truth Particle Energy [GeV]')\n",
    "plt.ylabel('Response IQR / 2 x Median');\n",
    "plt.grid()\n",
    "plt.show()\n",
    "# np.savez('pub_note_results/iqr_simple.npz', iqr=resolution, xcenter=xcenter)"
   ]
  },
  {
   "cell_type": "code",
   "execution_count": 41,
   "metadata": {},
   "outputs": [],
   "source": [
    "### Test/train split \n",
    "train = df2.sample(frac=0.8, random_state=0)\n",
    "test = df2.drop(train.index)\n",
    "\n",
    "train_vars = [\n",
    "    'log10_cluster_e_0', 'log10_cluster_e_1',\n",
    "    'log10_cluster_e_2', 'log10_cluster_e_3', 'log10_cluster_e_4',\n",
    "    'log10_cluster_e_11', 'log10_cluster_e_12', 'log10_cluster_e_13',\n",
    "    'log10_cluster_e_14', 'log10_cluster_e_15', 'log10_cluster_e_16',\n",
    "    'log10_cluster_e_17', 'log10_cluster_e_18', 'log10_cluster_e_19',\n",
    "    'log10_cluster_e_20', 'log10_cluster_e_21', 'log10_cluster_e_22',\n",
    "    'log10_cluster_e_23', 'log10_cluster_e_24', 'log10_cluster_e_25',\n",
    "    'log10_cluster_e_26', 'log10_cluster_e_27', 'log10_cluster_e_28',\n",
    "    'log10_cluster_e_29', 'log10_cluster_e_30', 'log10_cluster_e_31', \n",
    "    'log10_cluster_e_32', 'log10_cluster_e_33', 'log10_cluster_e_34',\n",
    "    'log10_track_pt',\n",
    "    'track_eta'\n",
    "             ]\n",
    "# train_vars = [\n",
    "#     'log10_cluster_e_0',\n",
    "#     'log10_track_pt',\n",
    "#     'track_eta'\n",
    "#              ]\n",
    "### All clusters + track eta/phi/z0\n",
    "# train_vars = [var for var in df2.keys() if var.startswith('log10') and var != 'log10_truth_particle_e']\n",
    "# train_vars += ['track_eta', 'track_phi', 'track_z0']\n",
    "\n",
    "train_x = train[train_vars].values\n",
    "train_y = train['log10_truth_particle_e'].values\n",
    "test_x = test[train_vars].values\n",
    "test_y = test['log10_truth_particle_e'].values"
   ]
  },
  {
   "cell_type": "code",
   "execution_count": 42,
   "metadata": {
    "scrolled": true
   },
   "outputs": [
    {
     "name": "stdout",
     "output_type": "stream",
     "text": [
      "Model: \"sequential_3\"\n",
      "_________________________________________________________________\n",
      "Layer (type)                 Output Shape              Param #   \n",
      "=================================================================\n",
      "dense_12 (Dense)             (None, 50)                1600      \n",
      "_________________________________________________________________\n",
      "dense_13 (Dense)             (None, 50)                2550      \n",
      "_________________________________________________________________\n",
      "dense_14 (Dense)             (None, 50)                2550      \n",
      "_________________________________________________________________\n",
      "dense_15 (Dense)             (None, 1)                 51        \n",
      "=================================================================\n",
      "Total params: 6,751\n",
      "Trainable params: 6,751\n",
      "Non-trainable params: 0\n",
      "_________________________________________________________________\n"
     ]
    }
   ],
   "source": [
    "model_allCluster = regression_model()\n",
    "model_allCluster.summary()"
   ]
  },
  {
   "cell_type": "code",
   "execution_count": 43,
   "metadata": {
    "scrolled": true
   },
   "outputs": [
    {
     "name": "stdout",
     "output_type": "stream",
     "text": [
      "Epoch 1/100\n",
      "314/314 - 1s - loss: 0.1793 - val_loss: 0.0366\n",
      "INFO:tensorflow:Assets written to: ./tmp/assets\n",
      "Epoch 2/100\n",
      "314/314 - 1s - loss: 0.0329 - val_loss: 0.0302\n",
      "INFO:tensorflow:Assets written to: ./tmp/assets\n",
      "Epoch 3/100\n",
      "314/314 - 1s - loss: 0.0296 - val_loss: 0.0281\n",
      "INFO:tensorflow:Assets written to: ./tmp/assets\n",
      "Epoch 4/100\n",
      "314/314 - 1s - loss: 0.0273 - val_loss: 0.0267\n",
      "INFO:tensorflow:Assets written to: ./tmp/assets\n",
      "Epoch 5/100\n",
      "314/314 - 1s - loss: 0.0260 - val_loss: 0.0259\n",
      "INFO:tensorflow:Assets written to: ./tmp/assets\n",
      "Epoch 6/100\n",
      "314/314 - 1s - loss: 0.0252 - val_loss: 0.0245\n",
      "INFO:tensorflow:Assets written to: ./tmp/assets\n",
      "Epoch 7/100\n",
      "314/314 - 1s - loss: 0.0247 - val_loss: 0.0244\n",
      "INFO:tensorflow:Assets written to: ./tmp/assets\n",
      "Epoch 8/100\n",
      "314/314 - 1s - loss: 0.0244 - val_loss: 0.0254\n",
      "Epoch 9/100\n",
      "314/314 - 1s - loss: 0.0238 - val_loss: 0.0238\n",
      "INFO:tensorflow:Assets written to: ./tmp/assets\n",
      "Epoch 10/100\n",
      "314/314 - 1s - loss: 0.0237 - val_loss: 0.0238\n",
      "INFO:tensorflow:Assets written to: ./tmp/assets\n",
      "Epoch 11/100\n",
      "314/314 - 1s - loss: 0.0235 - val_loss: 0.0228\n",
      "INFO:tensorflow:Assets written to: ./tmp/assets\n",
      "Epoch 12/100\n",
      "314/314 - 1s - loss: 0.0234 - val_loss: 0.0228\n",
      "INFO:tensorflow:Assets written to: ./tmp/assets\n",
      "Epoch 13/100\n",
      "314/314 - 1s - loss: 0.0232 - val_loss: 0.0227\n",
      "INFO:tensorflow:Assets written to: ./tmp/assets\n",
      "Epoch 14/100\n",
      "314/314 - 1s - loss: 0.0229 - val_loss: 0.0235\n",
      "Epoch 15/100\n",
      "314/314 - 1s - loss: 0.0230 - val_loss: 0.0225\n",
      "INFO:tensorflow:Assets written to: ./tmp/assets\n",
      "Epoch 16/100\n",
      "314/314 - 1s - loss: 0.0228 - val_loss: 0.0232\n",
      "Epoch 17/100\n",
      "314/314 - 1s - loss: 0.0226 - val_loss: 0.0228\n",
      "Epoch 18/100\n",
      "314/314 - 1s - loss: 0.0228 - val_loss: 0.0223\n",
      "INFO:tensorflow:Assets written to: ./tmp/assets\n",
      "Epoch 19/100\n",
      "314/314 - 1s - loss: 0.0226 - val_loss: 0.0220\n",
      "INFO:tensorflow:Assets written to: ./tmp/assets\n",
      "Epoch 20/100\n",
      "314/314 - 1s - loss: 0.0225 - val_loss: 0.0222\n",
      "Epoch 21/100\n",
      "314/314 - 1s - loss: 0.0224 - val_loss: 0.0219\n",
      "INFO:tensorflow:Assets written to: ./tmp/assets\n",
      "Epoch 22/100\n",
      "314/314 - 1s - loss: 0.0224 - val_loss: 0.0219\n",
      "Epoch 23/100\n",
      "314/314 - 1s - loss: 0.0224 - val_loss: 0.0218\n",
      "INFO:tensorflow:Assets written to: ./tmp/assets\n",
      "Epoch 24/100\n",
      "314/314 - 1s - loss: 0.0222 - val_loss: 0.0219\n",
      "Epoch 25/100\n",
      "314/314 - 1s - loss: 0.0222 - val_loss: 0.0219\n",
      "Epoch 26/100\n",
      "314/314 - 1s - loss: 0.0224 - val_loss: 0.0218\n",
      "INFO:tensorflow:Assets written to: ./tmp/assets\n",
      "Epoch 27/100\n",
      "314/314 - 1s - loss: 0.0223 - val_loss: 0.0234\n",
      "Epoch 28/100\n",
      "314/314 - 1s - loss: 0.0221 - val_loss: 0.0217\n",
      "INFO:tensorflow:Assets written to: ./tmp/assets\n",
      "Epoch 29/100\n",
      "314/314 - 1s - loss: 0.0220 - val_loss: 0.0220\n",
      "Epoch 30/100\n",
      "314/314 - 1s - loss: 0.0221 - val_loss: 0.0219\n",
      "Epoch 31/100\n",
      "314/314 - 1s - loss: 0.0222 - val_loss: 0.0227\n",
      "Epoch 32/100\n",
      "314/314 - 1s - loss: 0.0220 - val_loss: 0.0223\n",
      "Epoch 33/100\n",
      "314/314 - 1s - loss: 0.0221 - val_loss: 0.0218\n",
      "Epoch 34/100\n",
      "314/314 - 1s - loss: 0.0221 - val_loss: 0.0221\n",
      "Epoch 35/100\n",
      "314/314 - 1s - loss: 0.0218 - val_loss: 0.0220\n",
      "Epoch 36/100\n",
      "314/314 - 1s - loss: 0.0220 - val_loss: 0.0222\n",
      "Epoch 37/100\n",
      "314/314 - 1s - loss: 0.0220 - val_loss: 0.0219\n",
      "Epoch 38/100\n",
      "314/314 - 1s - loss: 0.0220 - val_loss: 0.0221\n",
      "Epoch 39/100\n",
      "314/314 - 1s - loss: 0.0218 - val_loss: 0.0218\n",
      "Epoch 40/100\n",
      "314/314 - 1s - loss: 0.0220 - val_loss: 0.0228\n",
      "Epoch 41/100\n",
      "314/314 - 1s - loss: 0.0218 - val_loss: 0.0218\n",
      "Epoch 42/100\n",
      "314/314 - 1s - loss: 0.0219 - val_loss: 0.0215\n",
      "INFO:tensorflow:Assets written to: ./tmp/assets\n",
      "Epoch 43/100\n",
      "314/314 - 1s - loss: 0.0218 - val_loss: 0.0217\n",
      "Epoch 44/100\n",
      "314/314 - 1s - loss: 0.0219 - val_loss: 0.0215\n",
      "INFO:tensorflow:Assets written to: ./tmp/assets\n",
      "Epoch 45/100\n",
      "314/314 - 1s - loss: 0.0219 - val_loss: 0.0218\n",
      "Epoch 46/100\n",
      "314/314 - 1s - loss: 0.0218 - val_loss: 0.0215\n",
      "INFO:tensorflow:Assets written to: ./tmp/assets\n",
      "Epoch 47/100\n",
      "314/314 - 1s - loss: 0.0217 - val_loss: 0.0215\n",
      "Epoch 48/100\n",
      "314/314 - 1s - loss: 0.0218 - val_loss: 0.0214\n",
      "INFO:tensorflow:Assets written to: ./tmp/assets\n",
      "Epoch 49/100\n",
      "314/314 - 1s - loss: 0.0217 - val_loss: 0.0215\n",
      "Epoch 50/100\n",
      "314/314 - 1s - loss: 0.0217 - val_loss: 0.0215\n",
      "Epoch 51/100\n",
      "314/314 - 1s - loss: 0.0217 - val_loss: 0.0215\n",
      "Epoch 52/100\n",
      "314/314 - 1s - loss: 0.0219 - val_loss: 0.0216\n",
      "Epoch 53/100\n",
      "314/314 - 1s - loss: 0.0216 - val_loss: 0.0217\n",
      "Epoch 54/100\n",
      "314/314 - 1s - loss: 0.0217 - val_loss: 0.0224\n",
      "Epoch 55/100\n",
      "314/314 - 1s - loss: 0.0217 - val_loss: 0.0214\n",
      "Epoch 56/100\n",
      "314/314 - 1s - loss: 0.0217 - val_loss: 0.0215\n",
      "Epoch 57/100\n",
      "314/314 - 1s - loss: 0.0217 - val_loss: 0.0216\n",
      "Epoch 58/100\n",
      "314/314 - 1s - loss: 0.0216 - val_loss: 0.0216\n",
      "Epoch 59/100\n",
      "314/314 - 1s - loss: 0.0217 - val_loss: 0.0212\n",
      "INFO:tensorflow:Assets written to: ./tmp/assets\n",
      "Epoch 60/100\n",
      "314/314 - 1s - loss: 0.0216 - val_loss: 0.0214\n",
      "Epoch 61/100\n",
      "314/314 - 1s - loss: 0.0217 - val_loss: 0.0213\n",
      "Epoch 62/100\n",
      "314/314 - 1s - loss: 0.0215 - val_loss: 0.0215\n",
      "Epoch 63/100\n",
      "314/314 - 1s - loss: 0.0217 - val_loss: 0.0215\n",
      "Epoch 64/100\n",
      "314/314 - 1s - loss: 0.0216 - val_loss: 0.0214\n",
      "Epoch 65/100\n",
      "314/314 - 1s - loss: 0.0216 - val_loss: 0.0216\n",
      "Epoch 66/100\n",
      "314/314 - 1s - loss: 0.0215 - val_loss: 0.0213\n",
      "Epoch 67/100\n",
      "314/314 - 1s - loss: 0.0216 - val_loss: 0.0216\n",
      "Epoch 68/100\n",
      "314/314 - 1s - loss: 0.0215 - val_loss: 0.0213\n",
      "Epoch 69/100\n",
      "314/314 - 1s - loss: 0.0215 - val_loss: 0.0212\n",
      "Epoch 70/100\n",
      "314/314 - 1s - loss: 0.0215 - val_loss: 0.0213\n",
      "Epoch 71/100\n",
      "314/314 - 1s - loss: 0.0215 - val_loss: 0.0213\n",
      "Epoch 72/100\n",
      "314/314 - 1s - loss: 0.0216 - val_loss: 0.0213\n",
      "Epoch 73/100\n",
      "314/314 - 1s - loss: 0.0216 - val_loss: 0.0230\n",
      "Epoch 74/100\n",
      "314/314 - 1s - loss: 0.0214 - val_loss: 0.0225\n",
      "Epoch 75/100\n",
      "314/314 - 1s - loss: 0.0215 - val_loss: 0.0215\n",
      "Epoch 76/100\n",
      "314/314 - 1s - loss: 0.0215 - val_loss: 0.0216\n",
      "Epoch 77/100\n",
      "314/314 - 1s - loss: 0.0215 - val_loss: 0.0217\n",
      "Epoch 78/100\n",
      "314/314 - 1s - loss: 0.0214 - val_loss: 0.0211\n",
      "INFO:tensorflow:Assets written to: ./tmp/assets\n",
      "Epoch 79/100\n",
      "314/314 - 1s - loss: 0.0214 - val_loss: 0.0215\n",
      "Epoch 80/100\n",
      "314/314 - 1s - loss: 0.0214 - val_loss: 0.0213\n",
      "Epoch 81/100\n",
      "314/314 - 1s - loss: 0.0214 - val_loss: 0.0219\n",
      "Epoch 82/100\n",
      "314/314 - 1s - loss: 0.0214 - val_loss: 0.0215\n",
      "Epoch 83/100\n",
      "314/314 - 1s - loss: 0.0215 - val_loss: 0.0221\n",
      "Epoch 84/100\n",
      "314/314 - 1s - loss: 0.0214 - val_loss: 0.0212\n",
      "Epoch 85/100\n",
      "314/314 - 1s - loss: 0.0214 - val_loss: 0.0212\n",
      "Epoch 86/100\n",
      "314/314 - 1s - loss: 0.0214 - val_loss: 0.0212\n",
      "Epoch 87/100\n",
      "314/314 - 1s - loss: 0.0215 - val_loss: 0.0212\n",
      "Epoch 88/100\n",
      "314/314 - 1s - loss: 0.0215 - val_loss: 0.0211\n",
      "INFO:tensorflow:Assets written to: ./tmp/assets\n",
      "Epoch 89/100\n",
      "314/314 - 1s - loss: 0.0216 - val_loss: 0.0214\n",
      "Epoch 90/100\n",
      "314/314 - 1s - loss: 0.0213 - val_loss: 0.0216\n",
      "Epoch 91/100\n",
      "314/314 - 1s - loss: 0.0213 - val_loss: 0.0217\n",
      "Epoch 92/100\n",
      "314/314 - 1s - loss: 0.0215 - val_loss: 0.0213\n",
      "Epoch 93/100\n",
      "314/314 - 1s - loss: 0.0215 - val_loss: 0.0211\n",
      "INFO:tensorflow:Assets written to: ./tmp/assets\n",
      "Epoch 94/100\n",
      "314/314 - 1s - loss: 0.0213 - val_loss: 0.0217\n",
      "Epoch 95/100\n",
      "314/314 - 1s - loss: 0.0213 - val_loss: 0.0213\n",
      "Epoch 96/100\n",
      "314/314 - 1s - loss: 0.0213 - val_loss: 0.0212\n",
      "Epoch 97/100\n",
      "314/314 - 1s - loss: 0.0214 - val_loss: 0.0219\n",
      "Epoch 98/100\n",
      "314/314 - 1s - loss: 0.0213 - val_loss: 0.0210\n",
      "INFO:tensorflow:Assets written to: ./tmp/assets\n",
      "Epoch 99/100\n",
      "314/314 - 1s - loss: 0.0213 - val_loss: 0.0222\n",
      "Epoch 100/100\n",
      "314/314 - 1s - loss: 0.0214 - val_loss: 0.0213\n",
      "CPU times: user 2min 37s, sys: 14.5 s, total: 2min 51s\n",
      "Wall time: 1min 36s\n"
     ]
    }
   ],
   "source": [
    "%%time\n",
    "clbk = keras.callbacks.ModelCheckpoint('./tmp/', save_best_only=True)\n",
    "history = model_allCluster.fit(\n",
    "    train_x,\n",
    "    train_y,\n",
    "    batch_size=2048,\n",
    "    validation_split=0.2,\n",
    "    verbose=2, epochs=100,\n",
    "    callbacks=[clbk])"
   ]
  },
  {
   "cell_type": "code",
   "execution_count": 44,
   "metadata": {},
   "outputs": [
    {
     "name": "stdout",
     "output_type": "stream",
     "text": [
      "99/99 [==============================] - 0s 1ms/step - loss: 0.0214\n"
     ]
    },
    {
     "data": {
      "text/plain": [
       "0.02138214185833931"
      ]
     },
     "execution_count": 44,
     "metadata": {},
     "output_type": "execute_result"
    }
   ],
   "source": [
    "model_allCluster.evaluate(test_x, test_y, batch_size=2048)"
   ]
  },
  {
   "cell_type": "code",
   "execution_count": 45,
   "metadata": {},
   "outputs": [
    {
     "name": "stdout",
     "output_type": "stream",
     "text": [
      "99/99 [==============================] - 0s 1ms/step - loss: 0.0211\n"
     ]
    },
    {
     "data": {
      "text/plain": [
       "0.021059224382042885"
      ]
     },
     "execution_count": 45,
     "metadata": {},
     "output_type": "execute_result"
    }
   ],
   "source": [
    "model_allCluster = keras.models.load_model('./tmp/')\n",
    "model_allCluster.evaluate(test_x, test_y, batch_size=2048)"
   ]
  },
  {
   "cell_type": "code",
   "execution_count": 46,
   "metadata": {},
   "outputs": [
    {
     "data": {
      "image/png": "[encoded data removed]",
      "text/plain": [
       "<Figure size 432x288 with 1 Axes>"
      ]
     },
     "metadata": {
      "needs_background": "light"
     },
     "output_type": "display_data"
    }
   ],
   "source": [
    "### Evaluate performance on test set \n",
    "test['nn_score'] = model_allCluster.predict(test_x)\n",
    "plt.hist((10**test.nn_score)/(10**test.log10_truth_particle_e), bins=np.linspace(0.9,1.1,40));"
   ]
  },
  {
   "cell_type": "code",
   "execution_count": 47,
   "metadata": {},
   "outputs": [
    {
     "data": {
      "image/png": "[encoded data removed]",
      "text/plain": [
       "<Figure size 864x576 with 2 Axes>"
      ]
     },
     "metadata": {},
     "output_type": "display_data"
    }
   ],
   "source": [
    "### Response median plot \n",
    "import scipy.stats as stats\n",
    "from matplotlib.colors import ListedColormap\n",
    "from matplotlib.colors import LogNorm\n",
    "\n",
    "x = test.truth_particle_e\n",
    "\n",
    "y = (10**test.nn_score)/(10**test.log10_truth_particle_e)\n",
    "\n",
    "xbin = [10**exp for exp in np.arange(-1.05, 3.1, 0.05)]\n",
    "ybin = np.arange(0., 3.1, 0.05)\n",
    "xcenter = [(xbin[i] + xbin[i+1]) / 2 for i in range(len(xbin)-1)]\n",
    "profileXMed = stats.binned_statistic(\n",
    "    x, y, bins=xbin, statistic='median').statistic\n",
    "\n",
    "c_map = ListedColormap(sns.color_palette(\"Blues\", n_colors=100).as_hex())\n",
    "fig = plt.figure(figsize=(12,8))\n",
    "fig.patch.set_facecolor('white')\n",
    "plt.hist2d(x, y, bins=[xbin, ybin], norm=LogNorm(),zorder = -1, cmap=c_map);\n",
    "plt.plot(np.array(xcenter), np.array(profileXMed), color='indianred', linewidth=3)\n",
    "plt.plot([0.1, 1000], [1, 1], linestyle='--', color='black');\n",
    "plt.xscale('log')\n",
    "plt.ylim(0, 1.75)\n",
    "plt.xlim(0.3, )\n",
    "plt.xlabel('Truth Particle Energy [GeV]')\n",
    "plt.ylabel('Predicted Energy / Target')\n",
    "plt.colorbar()\n",
    "plt.show()\n",
    "# np.savez('pub_note_results/response_median_simple.npz', response_median=profileXMed, xcenter=xcenter)"
   ]
  },
  {
   "cell_type": "code",
   "execution_count": 48,
   "metadata": {},
   "outputs": [
    {
     "data": {
      "image/png": "[encoded data removed]",
      "text/plain": [
       "<Figure size 720x432 with 1 Axes>"
      ]
     },
     "metadata": {},
     "output_type": "display_data"
    }
   ],
   "source": [
    "### IQR plot \n",
    "resolution_allCluster = stats.binned_statistic(x, y, bins=xbin,statistic=iqrOverMed).statistic\n",
    "\n",
    "fig = plt.figure(figsize=(10,6))\n",
    "fig.patch.set_facecolor('white')\n",
    "plt.plot(xcenter, resolution_allCluster, linewidth=3)\n",
    "plt.xscale('log')\n",
    "plt.xlim(0.1, 1000)\n",
    "plt.ylim(0,0.5)\n",
    "plt.xlabel('Truth Particle Energy [GeV]')\n",
    "plt.ylabel('Response IQR / 2 x Median');\n",
    "plt.grid()\n",
    "plt.show()\n",
    "# np.savez('pub_note_results/iqr_simple.npz', iqr=resolution, xcenter=xcenter)"
   ]
  },
  {
   "cell_type": "code",
   "execution_count": 49,
   "metadata": {
    "scrolled": false
   },
   "outputs": [
    {
     "data": {
      "image/png": "[encoded data removed]",
      "text/plain": [
       "<Figure size 720x432 with 1 Axes>"
      ]
     },
     "metadata": {},
     "output_type": "display_data"
    }
   ],
   "source": [
    "x_cut = test.truth_particle_e # test.loc[np.abs(test.track_eta)<1, 'truth_particle_e']\n",
    "pred_cut = test.track_pt*np.cosh(test.track_eta)\n",
    "y_cut = (pred_cut)/(x_cut)\n",
    "\n",
    "resolution_gt = stats.binned_statistic(x_cut, y_cut, bins=xbin,statistic=iqrOverMed).statistic\n",
    "\n",
    "fig = plt.figure(figsize=(10,6))\n",
    "fig.patch.set_facecolor('white')\n",
    "plt.plot(xcenter, resolution_gt, linewidth=3)\n",
    "plt.xscale('log')\n",
    "plt.xlim(0.1, 1000)\n",
    "# plt.ylim(0,0.1)\n",
    "plt.xlabel('Truth Particle Energy [GeV]')\n",
    "plt.ylabel('Response IQR / 2 x Median');\n",
    "plt.grid()\n",
    "plt.show()"
   ]
  },
  {
   "cell_type": "code",
   "execution_count": 51,
   "metadata": {
    "scrolled": false
   },
   "outputs": [
    {
     "data": {
      "image/png": "[encoded data removed]",
      "text/plain": [
       "<Figure size 720x432 with 1 Axes>"
      ]
     },
     "metadata": {},
     "output_type": "display_data"
    }
   ],
   "source": [
    "fig = plt.figure(figsize=(10,6))\n",
    "fig.patch.set_facecolor('white')\n",
    "\n",
    "plt.plot(xcenter, resolution_single, linewidth=3, label='Leading Cluster')\n",
    "plt.plot(xcenter, resolution_allCluster, linewidth=3, label='All clusters')\n",
    "plt.plot(xcenter, resolution_gt, linewidth=3, label='GT')\n",
    "plt.xscale('log')\n",
    "plt.xlim(0.1, 1000)\n",
    "plt.ylim(0,0.5)\n",
    "plt.legend()\n",
    "plt.xlabel('Truth Particle Energy [GeV]')\n",
    "plt.ylabel('Response IQR / 2 x Median');\n",
    "plt.grid()\n",
    "plt.show()"
   ]
  },
  {
   "cell_type": "code",
   "execution_count": null,
   "metadata": {},
   "outputs": [],
   "source": []
  }
 ],
 "metadata": {
  "kernelspec": {
   "display_name": "opence",
   "language": "python",
   "name": "opence"
  },
  "language_info": {
   "codemirror_mode": {
    "name": "ipython",
    "version": 3
   },
   "file_extension": ".py",
   "mimetype": "text/x-python",
   "name": "python",
   "nbconvert_exporter": "python",
   "pygments_lexer": "ipython3",
   "version": "3.7.10"
  }
 },
 "nbformat": 4,
 "nbformat_minor": 5
}
