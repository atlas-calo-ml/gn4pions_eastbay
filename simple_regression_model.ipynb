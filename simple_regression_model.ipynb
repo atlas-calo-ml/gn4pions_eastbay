{
 "cells": [
  {
   "cell_type": "code",
   "execution_count": 1,
   "id": "bc4e060a-abbb-4ac3-afde-d88694183b56",
   "metadata": {
    "execution": {
     "iopub.execute_input": "2022-08-08T23:19:38.807811Z",
     "iopub.status.busy": "2022-08-08T23:19:38.806879Z",
     "iopub.status.idle": "2022-08-08T23:19:43.012320Z",
     "shell.execute_reply": "2022-08-08T23:19:43.011901Z",
     "shell.execute_reply.started": "2022-08-08T23:19:38.807727Z"
    },
    "tags": []
   },
   "outputs": [],
   "source": [
    "import pandas as pd\n",
    "import numpy as np\n",
    "import glob\n",
    "import os\n",
    "import seaborn as sns\n",
    "from tqdm import tqdm\n",
    "import tensorflow as tf\n",
    "from tensorflow import keras\n",
    "from tensorflow.keras.layers import Dense\n",
    "from keras.models import Sequential\n",
    "from keras.wrappers.scikit_learn import KerasRegressor\n",
    "from sklearn.model_selection import cross_val_score\n",
    "from sklearn.model_selection import KFold\n",
    "from sklearn.preprocessing import StandardScaler\n",
    "import matplotlib.pyplot as plt"
   ]
  },
  {
   "cell_type": "markdown",
   "id": "b23b1d8d-d270-46e6-8dae-1b56771b23fa",
   "metadata": {
    "jp-MarkdownHeadingCollapsed": true,
    "tags": []
   },
   "source": [
    "# Reload a trained model"
   ]
  },
  {
   "cell_type": "code",
   "execution_count": null,
   "id": "1860b4f1-6626-4e3c-b967-fab84a2cbd68",
   "metadata": {
    "tags": []
   },
   "outputs": [],
   "source": [
    "### Load data\n",
    "train = pd.read_hdf(\"train_dnn.h5\")\n",
    "val = pd.read_hdf(\"val_dnn.h5\")\n",
    "test = pd.read_hdf(\"test_dnn.h5\")\n",
    "test.reset_index(inplace=True)\n",
    "\n",
    "### All clusters + track eta/phi/z0\n",
    "train_vars = [var for var in test.keys() if var.startswith('log10') and var != 'log10_truth_particle_e']\n",
    "train_vars += ['track_eta', 'track_phi', 'track_z0']\n",
    "\n",
    "train_x = train[train_vars].values\n",
    "train_y = train['log10_truth_particle_e'].values\n",
    "val_x = val[train_vars].values\n",
    "val_y = val['log10_truth_particle_e'].values\n",
    "test_x = test[train_vars].values\n",
    "test_y = test['log10_truth_particle_e'].values\n",
    "\n",
    "### Normalize the inputs \n",
    "sc = StandardScaler()\n",
    "train_x = sc.fit_transform(train_x)\n",
    "val_x = sc.transform(val_x)\n",
    "test_x = sc.transform(test_x)\n",
    "\n",
    "def regression_model():\n",
    "    model = Sequential()\n",
    "    model.add(Dense(50, input_dim=train_x.shape[1], activation='relu'))\n",
    "    model.add(Dense(50, activation='relu'))\n",
    "    model.add(Dense(50, activation='relu'))\n",
    "    model.add(Dense(1))\n",
    "    model.compile(loss='mean_absolute_error', optimizer='adam')\n",
    "    return model\n",
    "\n",
    "model = regression_model()\n",
    "model.load_weights(\"dnn_best_weights_50.h5\")\n",
    "test['nn_output'] = 10**model.predict(test_x) # re-exponentiate the energy"
   ]
  },
  {
   "cell_type": "code",
   "execution_count": null,
   "id": "ddc7bde2-d1a6-400f-bf3a-480ce7346bff",
   "metadata": {
    "tags": []
   },
   "outputs": [],
   "source": [
    "### Response median plot \n",
    "import scipy.stats as stats\n",
    "from matplotlib.colors import ListedColormap\n",
    "from matplotlib.colors import LogNorm\n",
    "\n",
    "x = test.truth_particle_e\n",
    "y = (test.nn_output)/x\n",
    "\n",
    "xbin = [10**exp for exp in np.arange(-1., 3.1, 0.1)]\n",
    "ybin = np.arange(0., 3.1, 0.05)\n",
    "xcenter = [(xbin[i] + xbin[i+1]) / 2 for i in range(len(xbin)-1)]\n",
    "profileXMed = stats.binned_statistic(\n",
    "    x, y, bins=xbin, statistic='median').statistic\n",
    "\n",
    "c_map = ListedColormap(sns.color_palette(\"Blues\", n_colors=100).as_hex())\n",
    "fig = plt.figure(figsize=(12,8), dpi=200)\n",
    "fig.patch.set_facecolor('white')\n",
    "plt.hist2d(x, y, bins=[xbin, ybin], norm=LogNorm(),zorder = -1, cmap=c_map);\n",
    "plt.plot(np.array(xcenter), np.array(profileXMed), color='indianred', linewidth=3)\n",
    "plt.plot([0.1, 1000], [1, 1], linestyle='--', color='black');\n",
    "plt.xscale('log')\n",
    "plt.ylim(0, 1.75)\n",
    "plt.xlim(0.3, )\n",
    "plt.xlabel('Truth Particle Energy [GeV]')\n",
    "plt.ylabel('Predicted Energy / Target');\n",
    "np.savez('pub_note_results/response_median_dnn_50.npz', response_median=profileXMed, xcenter=xcenter)"
   ]
  },
  {
   "cell_type": "code",
   "execution_count": null,
   "id": "0e5e9dd2-043e-4645-aff2-e95e5d7c6c76",
   "metadata": {},
   "outputs": [],
   "source": [
    "### IQR plot \n",
    "\n",
    "def iqrOverMed(x):\n",
    "    # get the IQR via the percentile function\n",
    "    # 84 is median + 1 sigma, 16 is median - 1 sigma\n",
    "    q84, q16 = np.percentile(x, [84, 16])\n",
    "    iqr = q84 - q16\n",
    "    med = np.median(x)\n",
    "    return iqr / (2*med)\n",
    "\n",
    "xbin = [10**exp for exp in np.arange(-1., 3.1, 0.1)]\n",
    "xcenter = [(xbin[i] + xbin[i+1]) / 2 for i in range(len(xbin)-1)]\n",
    "resolution = stats.binned_statistic(x, y, bins=xbin, statistic=iqrOverMed).statistic\n",
    "\n",
    "fig = plt.figure(figsize=(10,6), dpi=200)\n",
    "fig.patch.set_facecolor('white')\n",
    "plt.plot(xcenter, resolution, linewidth=3)\n",
    "plt.xscale('log')\n",
    "plt.xlim(0.1, 1000)\n",
    "plt.ylim(0,0.5)\n",
    "plt.xlabel('Truth Particle Energy [GeV]')\n",
    "plt.ylabel('Response IQR / 2 x Median');\n",
    "\n",
    "np.savez('pub_note_results/iqr_dnn_50.npz', iqr=resolution, xcenter=xcenter)"
   ]
  },
  {
   "cell_type": "code",
   "execution_count": null,
   "id": "a8710069-82f1-4d72-ae67-308c59fa2d8d",
   "metadata": {
    "tags": []
   },
   "outputs": [],
   "source": [
    "np.min(test.nn_output/test.truth_particle_e)"
   ]
  },
  {
   "cell_type": "code",
   "execution_count": null,
   "id": "8118c192-23ac-4c0f-be4c-69ce63ae12b4",
   "metadata": {
    "tags": []
   },
   "outputs": [],
   "source": [
    "test[(test.truth_particle_e > 100) & (test.truth_particle_e < 101) & \n",
    "   (test.nn_output/test.truth_particle_e < 0.2)][[\"nn_output\", \"truth_particle_e\"]]"
   ]
  },
  {
   "cell_type": "code",
   "execution_count": null,
   "id": "676d9d9a-b7e4-4674-91a8-16d68d3ea9f6",
   "metadata": {
    "tags": []
   },
   "outputs": [],
   "source": [
    "plt.hist(test.nn_output/test.truth_particle_e, bins=np.linspace(0,2,100));"
   ]
  },
  {
   "cell_type": "markdown",
   "id": "7b3da379-cb13-4b52-90e8-ee24866bd6c8",
   "metadata": {},
   "source": [
    "Now compare to Transformer event..."
   ]
  },
  {
   "cell_type": "code",
   "execution_count": null,
   "id": "d3e50b5d-347f-492f-8a68-8add116f0e31",
   "metadata": {
    "tags": []
   },
   "outputs": [],
   "source": [
    "transformer = np.load('pub_note_results/Attention_Prediction_TRK_MarielFile.npz') # as of July 24\n",
    "df_transformer = pd.DataFrame(np.vstack([transformer['target'],transformer['prediction']]).T, columns=[\"targets_regress\", \"outputs_regress\"])"
   ]
  },
  {
   "cell_type": "code",
   "execution_count": null,
   "id": "9a15d650-7f18-4d34-a829-de4444cad0e0",
   "metadata": {
    "tags": []
   },
   "outputs": [],
   "source": [
    "len(test) == len(df_transformer)"
   ]
  },
  {
   "cell_type": "code",
   "execution_count": null,
   "id": "5b5c7691-3dbb-498f-8082-1dbd06098b18",
   "metadata": {},
   "outputs": [],
   "source": [
    "test.keys()"
   ]
  },
  {
   "cell_type": "code",
   "execution_count": null,
   "id": "fe4636dd-c39f-4ca2-83a1-d2854543ab16",
   "metadata": {
    "tags": []
   },
   "outputs": [],
   "source": [
    "test.truth_particle_e"
   ]
  },
  {
   "cell_type": "code",
   "execution_count": null,
   "id": "f28f1f00-56eb-4141-9ef0-73a6a4989497",
   "metadata": {
    "tags": []
   },
   "outputs": [],
   "source": [
    "df_transformer.targets_regress"
   ]
  },
  {
   "cell_type": "code",
   "execution_count": null,
   "id": "37750c9f-dde0-432c-87cc-a154d1a4f90a",
   "metadata": {
    "tags": []
   },
   "outputs": [],
   "source": [
    "np.sum(test.truth_particle_e == df_transformer.targets_regress)/len(test) \n",
    "# okay, so these are definitely identical events!"
   ]
  },
  {
   "cell_type": "code",
   "execution_count": null,
   "id": "1831778a-ba08-419d-b2af-1c92111c4a94",
   "metadata": {
    "tags": []
   },
   "outputs": [],
   "source": [
    "np.min(df_transformer.outputs_regress/df_transformer.targets_regress)"
   ]
  },
  {
   "cell_type": "code",
   "execution_count": null,
   "id": "88557254-7dd9-460b-a23b-78b035876bb7",
   "metadata": {},
   "outputs": [],
   "source": [
    "plt.hist(df_transformer.outputs_regress/df_transformer.targets_regress, bins=np.linspace(0,2,100));"
   ]
  },
  {
   "cell_type": "code",
   "execution_count": null,
   "id": "89c5e90e-011f-4d7f-adb2-e3af5b4881fb",
   "metadata": {
    "tags": []
   },
   "outputs": [],
   "source": [
    "test[(np.abs(test.truth_particle_e - 1000) < 5)  # close to 100 GeV\n",
    "     & \n",
    "     (test.nn_output/test.truth_particle_e < 0.5)  # DNN does badly\n",
    "    ][[\"nn_output\", \"truth_particle_e\"]]"
   ]
  },
  {
   "cell_type": "code",
   "execution_count": null,
   "id": "fd556b47-b88c-49f7-a27f-c4ad317a9cdb",
   "metadata": {
    "tags": []
   },
   "outputs": [],
   "source": [
    "test.iloc[970158].nn_output"
   ]
  },
  {
   "cell_type": "code",
   "execution_count": null,
   "id": "507973c1-4515-4ec4-b8e2-cd936bf27049",
   "metadata": {
    "tags": []
   },
   "outputs": [],
   "source": [
    "df_transformer.iloc[970158]"
   ]
  },
  {
   "cell_type": "code",
   "execution_count": null,
   "id": "922e409c-1d4d-40a9-b334-8c39c9017f17",
   "metadata": {},
   "outputs": [],
   "source": [
    "indices = [73920, 379097, 585445, 966165, 278235, 970158]"
   ]
  },
  {
   "cell_type": "code",
   "execution_count": null,
   "id": "5d3b8b34-084f-467e-9aca-54e62ff3c048",
   "metadata": {
    "tags": []
   },
   "outputs": [],
   "source": [
    "test.keys()"
   ]
  },
  {
   "cell_type": "code",
   "execution_count": null,
   "id": "3e14a855-2e51-44f4-96bc-bfc41ffbe183",
   "metadata": {
    "tags": []
   },
   "outputs": [],
   "source": [
    "test.iloc[indices].truth_particle_e"
   ]
  },
  {
   "cell_type": "code",
   "execution_count": null,
   "id": "f5a8553d-1587-4cd5-bd22-0c16a6c055ce",
   "metadata": {
    "tags": []
   },
   "outputs": [],
   "source": [
    "test.iloc[indices][[\"truth_particle_e\",\"track_pt\", \"track_eta\", \"track_phi\", \"track_z0\"]]"
   ]
  },
  {
   "cell_type": "code",
   "execution_count": null,
   "id": "80b522f7-bb8e-4d9f-9904-5ea7bb3b175a",
   "metadata": {},
   "outputs": [],
   "source": [
    "test.iloc[indices][[\"truth_particle_e\",\"cluster_e_0\", \"cluster_e_1\", \"cluster_e_2\", \"cluster_e_3\"]]"
   ]
  },
  {
   "cell_type": "markdown",
   "id": "74472587-b9b8-4283-8fb6-e81e7f850adf",
   "metadata": {
    "tags": []
   },
   "source": [
    "# Load data"
   ]
  },
  {
   "cell_type": "markdown",
   "id": "ddef1fc4-b6b8-4320-b97c-b1bf3e432338",
   "metadata": {},
   "source": [
    "### Premade"
   ]
  },
  {
   "cell_type": "code",
   "execution_count": null,
   "id": "eb50bd9d-2b4e-4e7f-aaa5-33e6cba63776",
   "metadata": {
    "tags": []
   },
   "outputs": [],
   "source": [
    "df_train = pd.read_hdf(\"train_dnn.h5\")\n",
    "df_val = pd.read_hdf(\"val_dnn.h5\")\n",
    "df_test = pd.read_hdf(\"test_dnn.h5\")"
   ]
  },
  {
   "cell_type": "markdown",
   "id": "47e34dfb-3f2d-4d7c-afb6-470fe47d3fac",
   "metadata": {
    "tags": []
   },
   "source": [
    "### or, remake from scratch:"
   ]
  },
  {
   "cell_type": "code",
   "execution_count": 2,
   "id": "fec78b14-f57d-4074-988d-46ec6f3fae87",
   "metadata": {
    "execution": {
     "iopub.execute_input": "2022-08-08T23:22:57.370622Z",
     "iopub.status.busy": "2022-08-08T23:22:57.370442Z",
     "iopub.status.idle": "2022-08-08T23:24:14.618675Z",
     "shell.execute_reply": "2022-08-08T23:24:14.617896Z",
     "shell.execute_reply.started": "2022-08-08T23:22:57.370604Z"
    },
    "tags": []
   },
   "outputs": [
    {
     "name": "stderr",
     "output_type": "stream",
     "text": [
      "100%|██████████| 30/30 [00:45<00:00,  1.52s/it]\n",
      "100%|██████████| 10/10 [00:15<00:00,  1.57s/it]\n",
      "100%|██████████| 10/10 [00:14<00:00,  1.48s/it]\n"
     ]
    },
    {
     "name": "stdout",
     "output_type": "stream",
     "text": [
      "Training dataframe has 308,717 events.\n",
      "Validation dataframe has 102,715 events.\n",
      "Testing dataframe has 102,803 events.\n"
     ]
    }
   ],
   "source": [
    "files = glob.glob(\"../data/onetrack_multicluster_sanmay/pion_files/*.npy\")\n",
    "train = pd.concat([pd.DataFrame(np.load(file, allow_pickle=True).item()) for file in tqdm(files[:30])])\n",
    "val = pd.concat([pd.DataFrame(np.load(file, allow_pickle=True).item()) for file in tqdm(files[30:40])])\n",
    "test = pd.concat([pd.DataFrame(np.load(file, allow_pickle=True).item()) for file in tqdm(files[40:50])])\n",
    "\n",
    "# train = pd.concat([pd.DataFrame(np.load(file, allow_pickle=True).item()) for file in tqdm(files[:350])])\n",
    "# val = pd.concat([pd.DataFrame(np.load(file, allow_pickle=True).item()) for file in tqdm(files[350:400])])\n",
    "# test = pd.concat([pd.DataFrame(np.load(file, allow_pickle=True).item()) for file in tqdm(files[400:])])\n",
    "print(\"Training dataframe has {:,} events.\".format(train.shape[0]))\n",
    "print(\"Validation dataframe has {:,} events.\".format(val.shape[0]))\n",
    "print(\"Testing dataframe has {:,} events.\".format(test.shape[0]))"
   ]
  },
  {
   "cell_type": "code",
   "execution_count": 42,
   "id": "05a043f4-ec60-491a-adb1-26b647411b44",
   "metadata": {
    "execution": {
     "iopub.execute_input": "2022-08-08T23:45:04.775554Z",
     "iopub.status.busy": "2022-08-08T23:45:04.775201Z",
     "iopub.status.idle": "2022-08-08T23:45:04.781861Z",
     "shell.execute_reply": "2022-08-08T23:45:04.781052Z",
     "shell.execute_reply.started": "2022-08-08T23:45:04.775517Z"
    },
    "tags": []
   },
   "outputs": [],
   "source": [
    "### SANMAY'S VARIABLES\n",
    "cluster_var = ['cluster_EM_PROBABILITY', 'cluster_HAD_WEIGHT', 'cluster_OOC_WEIGHT',\n",
    "               'cluster_DM_WEIGHT', 'cluster_CENTER_MAG', 'cluster_FIRST_ENG_DENS', \n",
    "               'cluster_CENTER_LAMBDA', 'cluster_ISOLATION'\n",
    "              ]\n",
    "\n",
    "track_var = ['trackPt',\n",
    "             'trackP',\n",
    "             'trackMass',\n",
    "             'trackEta',\n",
    "             'trackPhi',\n",
    "             'trackNumberOfPixelHits',\n",
    "             'trackNumberOfSCTHits',\n",
    "             'trackNumberOfPixelDeadSensors',\n",
    "             'trackNumberOfSCTDeadSensors',\n",
    "             'trackNumberOfInnermostPixelLayerHits',\n",
    "             'trackNumberOfNextToInnermostPixelLayerHits',\n",
    "             'trackExpectInnermostPixelLayerHit',\n",
    "             'trackExpectNextToInnermostPixelLayerHit',\n",
    "             'trackNumberOfTRTHits',\n",
    "             'trackNumberOfTRTOutliers',\n",
    "             'trackChiSquared',\n",
    "             'trackNumberDOF',\n",
    "             'trackD0',\n",
    "             'trackZ0'\n",
    "            ]"
   ]
  },
  {
   "cell_type": "code",
   "execution_count": 78,
   "id": "fa64d529-d47c-41b4-88a1-aa6d3c35deb9",
   "metadata": {
    "execution": {
     "iopub.execute_input": "2022-08-09T00:05:45.682294Z",
     "iopub.status.busy": "2022-08-09T00:05:45.681486Z",
     "iopub.status.idle": "2022-08-09T00:05:46.681633Z",
     "shell.execute_reply": "2022-08-09T00:05:46.681073Z",
     "shell.execute_reply.started": "2022-08-09T00:05:45.682254Z"
    },
    "tags": []
   },
   "outputs": [],
   "source": [
    "df1 = pd.DataFrame(pd.DataFrame(train.cluster_EM_PROBABILITY.to_list(), columns=[\"cluster_em_prob_\"+str(x) for x in np.arange(33)]))"
   ]
  },
  {
   "cell_type": "code",
   "execution_count": 79,
   "id": "b17f0f2e-0e6c-49dd-9d5d-470811b0832f",
   "metadata": {
    "execution": {
     "iopub.execute_input": "2022-08-09T00:06:03.007244Z",
     "iopub.status.busy": "2022-08-09T00:06:03.006938Z",
     "iopub.status.idle": "2022-08-09T00:06:03.969776Z",
     "shell.execute_reply": "2022-08-09T00:06:03.969048Z",
     "shell.execute_reply.started": "2022-08-09T00:06:03.007215Z"
    }
   },
   "outputs": [],
   "source": [
    "df2 = pd.DataFrame(pd.DataFrame(train.cluster_CENTER_LAMBDA.to_list(), columns=[\"cluster_CENTER_LAMBDA_\"+str(x) for x in np.arange(33)]))"
   ]
  },
  {
   "cell_type": "code",
   "execution_count": 84,
   "id": "3f5747c6-bcf9-426c-a268-3b9ecb3513d8",
   "metadata": {
    "execution": {
     "iopub.execute_input": "2022-08-09T00:08:18.614288Z",
     "iopub.status.busy": "2022-08-09T00:08:18.613723Z",
     "iopub.status.idle": "2022-08-09T00:08:19.031516Z",
     "shell.execute_reply": "2022-08-09T00:08:19.030967Z",
     "shell.execute_reply.started": "2022-08-09T00:08:18.614257Z"
    }
   },
   "outputs": [
    {
     "data": {
      "text/html": [
       "<div>\n",
       "<style scoped>\n",
       "    .dataframe tbody tr th:only-of-type {\n",
       "        vertical-align: middle;\n",
       "    }\n",
       "\n",
       "    .dataframe tbody tr th {\n",
       "        vertical-align: top;\n",
       "    }\n",
       "\n",
       "    .dataframe thead th {\n",
       "        text-align: right;\n",
       "    }\n",
       "</style>\n",
       "<table border=\"1\" class=\"dataframe\">\n",
       "  <thead>\n",
       "    <tr style=\"text-align: right;\">\n",
       "      <th></th>\n",
       "      <th>cluster_em_prob_0</th>\n",
       "      <th>cluster_em_prob_1</th>\n",
       "      <th>cluster_em_prob_2</th>\n",
       "      <th>cluster_em_prob_3</th>\n",
       "      <th>cluster_em_prob_4</th>\n",
       "      <th>cluster_em_prob_5</th>\n",
       "      <th>cluster_em_prob_6</th>\n",
       "      <th>cluster_em_prob_7</th>\n",
       "      <th>cluster_em_prob_8</th>\n",
       "      <th>cluster_em_prob_9</th>\n",
       "      <th>...</th>\n",
       "      <th>cluster_CENTER_LAMBDA_23</th>\n",
       "      <th>cluster_CENTER_LAMBDA_24</th>\n",
       "      <th>cluster_CENTER_LAMBDA_25</th>\n",
       "      <th>cluster_CENTER_LAMBDA_26</th>\n",
       "      <th>cluster_CENTER_LAMBDA_27</th>\n",
       "      <th>cluster_CENTER_LAMBDA_28</th>\n",
       "      <th>cluster_CENTER_LAMBDA_29</th>\n",
       "      <th>cluster_CENTER_LAMBDA_30</th>\n",
       "      <th>cluster_CENTER_LAMBDA_31</th>\n",
       "      <th>cluster_CENTER_LAMBDA_32</th>\n",
       "    </tr>\n",
       "  </thead>\n",
       "  <tbody>\n",
       "    <tr>\n",
       "      <th>0</th>\n",
       "      <td>0.001000</td>\n",
       "      <td>NaN</td>\n",
       "      <td>NaN</td>\n",
       "      <td>NaN</td>\n",
       "      <td>NaN</td>\n",
       "      <td>NaN</td>\n",
       "      <td>NaN</td>\n",
       "      <td>NaN</td>\n",
       "      <td>NaN</td>\n",
       "      <td>NaN</td>\n",
       "      <td>...</td>\n",
       "      <td>NaN</td>\n",
       "      <td>NaN</td>\n",
       "      <td>NaN</td>\n",
       "      <td>NaN</td>\n",
       "      <td>NaN</td>\n",
       "      <td>NaN</td>\n",
       "      <td>NaN</td>\n",
       "      <td>NaN</td>\n",
       "      <td>NaN</td>\n",
       "      <td>NaN</td>\n",
       "    </tr>\n",
       "    <tr>\n",
       "      <th>1</th>\n",
       "      <td>0.208537</td>\n",
       "      <td>0.000131</td>\n",
       "      <td>NaN</td>\n",
       "      <td>NaN</td>\n",
       "      <td>NaN</td>\n",
       "      <td>NaN</td>\n",
       "      <td>NaN</td>\n",
       "      <td>NaN</td>\n",
       "      <td>NaN</td>\n",
       "      <td>NaN</td>\n",
       "      <td>...</td>\n",
       "      <td>NaN</td>\n",
       "      <td>NaN</td>\n",
       "      <td>NaN</td>\n",
       "      <td>NaN</td>\n",
       "      <td>NaN</td>\n",
       "      <td>NaN</td>\n",
       "      <td>NaN</td>\n",
       "      <td>NaN</td>\n",
       "      <td>NaN</td>\n",
       "      <td>NaN</td>\n",
       "    </tr>\n",
       "    <tr>\n",
       "      <th>2</th>\n",
       "      <td>0.002079</td>\n",
       "      <td>0.000447</td>\n",
       "      <td>0.006793</td>\n",
       "      <td>NaN</td>\n",
       "      <td>NaN</td>\n",
       "      <td>NaN</td>\n",
       "      <td>NaN</td>\n",
       "      <td>NaN</td>\n",
       "      <td>NaN</td>\n",
       "      <td>NaN</td>\n",
       "      <td>...</td>\n",
       "      <td>NaN</td>\n",
       "      <td>NaN</td>\n",
       "      <td>NaN</td>\n",
       "      <td>NaN</td>\n",
       "      <td>NaN</td>\n",
       "      <td>NaN</td>\n",
       "      <td>NaN</td>\n",
       "      <td>NaN</td>\n",
       "      <td>NaN</td>\n",
       "      <td>NaN</td>\n",
       "    </tr>\n",
       "    <tr>\n",
       "      <th>3</th>\n",
       "      <td>0.000479</td>\n",
       "      <td>0.000402</td>\n",
       "      <td>NaN</td>\n",
       "      <td>NaN</td>\n",
       "      <td>NaN</td>\n",
       "      <td>NaN</td>\n",
       "      <td>NaN</td>\n",
       "      <td>NaN</td>\n",
       "      <td>NaN</td>\n",
       "      <td>NaN</td>\n",
       "      <td>...</td>\n",
       "      <td>NaN</td>\n",
       "      <td>NaN</td>\n",
       "      <td>NaN</td>\n",
       "      <td>NaN</td>\n",
       "      <td>NaN</td>\n",
       "      <td>NaN</td>\n",
       "      <td>NaN</td>\n",
       "      <td>NaN</td>\n",
       "      <td>NaN</td>\n",
       "      <td>NaN</td>\n",
       "    </tr>\n",
       "    <tr>\n",
       "      <th>4</th>\n",
       "      <td>0.002325</td>\n",
       "      <td>0.000953</td>\n",
       "      <td>NaN</td>\n",
       "      <td>NaN</td>\n",
       "      <td>NaN</td>\n",
       "      <td>NaN</td>\n",
       "      <td>NaN</td>\n",
       "      <td>NaN</td>\n",
       "      <td>NaN</td>\n",
       "      <td>NaN</td>\n",
       "      <td>...</td>\n",
       "      <td>NaN</td>\n",
       "      <td>NaN</td>\n",
       "      <td>NaN</td>\n",
       "      <td>NaN</td>\n",
       "      <td>NaN</td>\n",
       "      <td>NaN</td>\n",
       "      <td>NaN</td>\n",
       "      <td>NaN</td>\n",
       "      <td>NaN</td>\n",
       "      <td>NaN</td>\n",
       "    </tr>\n",
       "    <tr>\n",
       "      <th>...</th>\n",
       "      <td>...</td>\n",
       "      <td>...</td>\n",
       "      <td>...</td>\n",
       "      <td>...</td>\n",
       "      <td>...</td>\n",
       "      <td>...</td>\n",
       "      <td>...</td>\n",
       "      <td>...</td>\n",
       "      <td>...</td>\n",
       "      <td>...</td>\n",
       "      <td>...</td>\n",
       "      <td>...</td>\n",
       "      <td>...</td>\n",
       "      <td>...</td>\n",
       "      <td>...</td>\n",
       "      <td>...</td>\n",
       "      <td>...</td>\n",
       "      <td>...</td>\n",
       "      <td>...</td>\n",
       "      <td>...</td>\n",
       "      <td>...</td>\n",
       "    </tr>\n",
       "    <tr>\n",
       "      <th>308712</th>\n",
       "      <td>NaN</td>\n",
       "      <td>NaN</td>\n",
       "      <td>NaN</td>\n",
       "      <td>NaN</td>\n",
       "      <td>NaN</td>\n",
       "      <td>NaN</td>\n",
       "      <td>NaN</td>\n",
       "      <td>NaN</td>\n",
       "      <td>NaN</td>\n",
       "      <td>NaN</td>\n",
       "      <td>...</td>\n",
       "      <td>NaN</td>\n",
       "      <td>NaN</td>\n",
       "      <td>NaN</td>\n",
       "      <td>NaN</td>\n",
       "      <td>NaN</td>\n",
       "      <td>NaN</td>\n",
       "      <td>NaN</td>\n",
       "      <td>NaN</td>\n",
       "      <td>NaN</td>\n",
       "      <td>NaN</td>\n",
       "    </tr>\n",
       "    <tr>\n",
       "      <th>308713</th>\n",
       "      <td>NaN</td>\n",
       "      <td>NaN</td>\n",
       "      <td>NaN</td>\n",
       "      <td>NaN</td>\n",
       "      <td>NaN</td>\n",
       "      <td>NaN</td>\n",
       "      <td>NaN</td>\n",
       "      <td>NaN</td>\n",
       "      <td>NaN</td>\n",
       "      <td>NaN</td>\n",
       "      <td>...</td>\n",
       "      <td>NaN</td>\n",
       "      <td>NaN</td>\n",
       "      <td>NaN</td>\n",
       "      <td>NaN</td>\n",
       "      <td>NaN</td>\n",
       "      <td>NaN</td>\n",
       "      <td>NaN</td>\n",
       "      <td>NaN</td>\n",
       "      <td>NaN</td>\n",
       "      <td>NaN</td>\n",
       "    </tr>\n",
       "    <tr>\n",
       "      <th>308714</th>\n",
       "      <td>NaN</td>\n",
       "      <td>NaN</td>\n",
       "      <td>NaN</td>\n",
       "      <td>NaN</td>\n",
       "      <td>NaN</td>\n",
       "      <td>NaN</td>\n",
       "      <td>NaN</td>\n",
       "      <td>NaN</td>\n",
       "      <td>NaN</td>\n",
       "      <td>NaN</td>\n",
       "      <td>...</td>\n",
       "      <td>NaN</td>\n",
       "      <td>NaN</td>\n",
       "      <td>NaN</td>\n",
       "      <td>NaN</td>\n",
       "      <td>NaN</td>\n",
       "      <td>NaN</td>\n",
       "      <td>NaN</td>\n",
       "      <td>NaN</td>\n",
       "      <td>NaN</td>\n",
       "      <td>NaN</td>\n",
       "    </tr>\n",
       "    <tr>\n",
       "      <th>308715</th>\n",
       "      <td>NaN</td>\n",
       "      <td>NaN</td>\n",
       "      <td>NaN</td>\n",
       "      <td>NaN</td>\n",
       "      <td>NaN</td>\n",
       "      <td>NaN</td>\n",
       "      <td>NaN</td>\n",
       "      <td>NaN</td>\n",
       "      <td>NaN</td>\n",
       "      <td>NaN</td>\n",
       "      <td>...</td>\n",
       "      <td>NaN</td>\n",
       "      <td>NaN</td>\n",
       "      <td>NaN</td>\n",
       "      <td>NaN</td>\n",
       "      <td>NaN</td>\n",
       "      <td>NaN</td>\n",
       "      <td>NaN</td>\n",
       "      <td>NaN</td>\n",
       "      <td>NaN</td>\n",
       "      <td>NaN</td>\n",
       "    </tr>\n",
       "    <tr>\n",
       "      <th>308716</th>\n",
       "      <td>NaN</td>\n",
       "      <td>NaN</td>\n",
       "      <td>NaN</td>\n",
       "      <td>NaN</td>\n",
       "      <td>NaN</td>\n",
       "      <td>NaN</td>\n",
       "      <td>NaN</td>\n",
       "      <td>NaN</td>\n",
       "      <td>NaN</td>\n",
       "      <td>NaN</td>\n",
       "      <td>...</td>\n",
       "      <td>NaN</td>\n",
       "      <td>NaN</td>\n",
       "      <td>NaN</td>\n",
       "      <td>NaN</td>\n",
       "      <td>NaN</td>\n",
       "      <td>NaN</td>\n",
       "      <td>NaN</td>\n",
       "      <td>NaN</td>\n",
       "      <td>NaN</td>\n",
       "      <td>NaN</td>\n",
       "    </tr>\n",
       "  </tbody>\n",
       "</table>\n",
       "<p>617434 rows × 66 columns</p>\n",
       "</div>"
      ],
      "text/plain": [
       "        cluster_em_prob_0  cluster_em_prob_1  cluster_em_prob_2  \\\n",
       "0                0.001000                NaN                NaN   \n",
       "1                0.208537           0.000131                NaN   \n",
       "2                0.002079           0.000447           0.006793   \n",
       "3                0.000479           0.000402                NaN   \n",
       "4                0.002325           0.000953                NaN   \n",
       "...                   ...                ...                ...   \n",
       "308712                NaN                NaN                NaN   \n",
       "308713                NaN                NaN                NaN   \n",
       "308714                NaN                NaN                NaN   \n",
       "308715                NaN                NaN                NaN   \n",
       "308716                NaN                NaN                NaN   \n",
       "\n",
       "        cluster_em_prob_3  cluster_em_prob_4  cluster_em_prob_5  \\\n",
       "0                     NaN                NaN                NaN   \n",
       "1                     NaN                NaN                NaN   \n",
       "2                     NaN                NaN                NaN   \n",
       "3                     NaN                NaN                NaN   \n",
       "4                     NaN                NaN                NaN   \n",
       "...                   ...                ...                ...   \n",
       "308712                NaN                NaN                NaN   \n",
       "308713                NaN                NaN                NaN   \n",
       "308714                NaN                NaN                NaN   \n",
       "308715                NaN                NaN                NaN   \n",
       "308716                NaN                NaN                NaN   \n",
       "\n",
       "        cluster_em_prob_6  cluster_em_prob_7  cluster_em_prob_8  \\\n",
       "0                     NaN                NaN                NaN   \n",
       "1                     NaN                NaN                NaN   \n",
       "2                     NaN                NaN                NaN   \n",
       "3                     NaN                NaN                NaN   \n",
       "4                     NaN                NaN                NaN   \n",
       "...                   ...                ...                ...   \n",
       "308712                NaN                NaN                NaN   \n",
       "308713                NaN                NaN                NaN   \n",
       "308714                NaN                NaN                NaN   \n",
       "308715                NaN                NaN                NaN   \n",
       "308716                NaN                NaN                NaN   \n",
       "\n",
       "        cluster_em_prob_9  ...  cluster_CENTER_LAMBDA_23  \\\n",
       "0                     NaN  ...                       NaN   \n",
       "1                     NaN  ...                       NaN   \n",
       "2                     NaN  ...                       NaN   \n",
       "3                     NaN  ...                       NaN   \n",
       "4                     NaN  ...                       NaN   \n",
       "...                   ...  ...                       ...   \n",
       "308712                NaN  ...                       NaN   \n",
       "308713                NaN  ...                       NaN   \n",
       "308714                NaN  ...                       NaN   \n",
       "308715                NaN  ...                       NaN   \n",
       "308716                NaN  ...                       NaN   \n",
       "\n",
       "        cluster_CENTER_LAMBDA_24  cluster_CENTER_LAMBDA_25  \\\n",
       "0                            NaN                       NaN   \n",
       "1                            NaN                       NaN   \n",
       "2                            NaN                       NaN   \n",
       "3                            NaN                       NaN   \n",
       "4                            NaN                       NaN   \n",
       "...                          ...                       ...   \n",
       "308712                       NaN                       NaN   \n",
       "308713                       NaN                       NaN   \n",
       "308714                       NaN                       NaN   \n",
       "308715                       NaN                       NaN   \n",
       "308716                       NaN                       NaN   \n",
       "\n",
       "        cluster_CENTER_LAMBDA_26  cluster_CENTER_LAMBDA_27  \\\n",
       "0                            NaN                       NaN   \n",
       "1                            NaN                       NaN   \n",
       "2                            NaN                       NaN   \n",
       "3                            NaN                       NaN   \n",
       "4                            NaN                       NaN   \n",
       "...                          ...                       ...   \n",
       "308712                       NaN                       NaN   \n",
       "308713                       NaN                       NaN   \n",
       "308714                       NaN                       NaN   \n",
       "308715                       NaN                       NaN   \n",
       "308716                       NaN                       NaN   \n",
       "\n",
       "        cluster_CENTER_LAMBDA_28  cluster_CENTER_LAMBDA_29  \\\n",
       "0                            NaN                       NaN   \n",
       "1                            NaN                       NaN   \n",
       "2                            NaN                       NaN   \n",
       "3                            NaN                       NaN   \n",
       "4                            NaN                       NaN   \n",
       "...                          ...                       ...   \n",
       "308712                       NaN                       NaN   \n",
       "308713                       NaN                       NaN   \n",
       "308714                       NaN                       NaN   \n",
       "308715                       NaN                       NaN   \n",
       "308716                       NaN                       NaN   \n",
       "\n",
       "        cluster_CENTER_LAMBDA_30  cluster_CENTER_LAMBDA_31  \\\n",
       "0                            NaN                       NaN   \n",
       "1                            NaN                       NaN   \n",
       "2                            NaN                       NaN   \n",
       "3                            NaN                       NaN   \n",
       "4                            NaN                       NaN   \n",
       "...                          ...                       ...   \n",
       "308712                       NaN                       NaN   \n",
       "308713                       NaN                       NaN   \n",
       "308714                       NaN                       NaN   \n",
       "308715                       NaN                       NaN   \n",
       "308716                       NaN                       NaN   \n",
       "\n",
       "        cluster_CENTER_LAMBDA_32  \n",
       "0                            NaN  \n",
       "1                            NaN  \n",
       "2                            NaN  \n",
       "3                            NaN  \n",
       "4                            NaN  \n",
       "...                          ...  \n",
       "308712                       NaN  \n",
       "308713                       NaN  \n",
       "308714                       NaN  \n",
       "308715                       NaN  \n",
       "308716                       NaN  \n",
       "\n",
       "[617434 rows x 66 columns]"
      ]
     },
     "execution_count": 84,
     "metadata": {},
     "output_type": "execute_result"
    }
   ],
   "source": [
    "pd.concat([df1, df2])"
   ]
  },
  {
   "cell_type": "code",
   "execution_count": 93,
   "id": "50d665a7-4ecf-4b72-b95e-f9b2cb580816",
   "metadata": {
    "execution": {
     "iopub.execute_input": "2022-08-09T00:12:30.701274Z",
     "iopub.status.busy": "2022-08-09T00:12:30.700805Z",
     "iopub.status.idle": "2022-08-09T00:12:30.717614Z",
     "shell.execute_reply": "2022-08-09T00:12:30.716536Z",
     "shell.execute_reply.started": "2022-08-09T00:12:30.701240Z"
    },
    "tags": []
   },
   "outputs": [],
   "source": [
    "def process(df): \n",
    "    ### Start the dataframe of inputs \n",
    "    ncols = pd.DataFrame(pd.DataFrame(df.cluster_E.to_list())).shape[1]\n",
    "    df2 = pd.DataFrame(pd.DataFrame(df.cluster_E.to_list(), columns=[\"cluster_e_\"+str(x) for x in np.arange(ncols)]))\n",
    "    \n",
    "    ### Add Sanmay's cluster inputs\n",
    "    dfs = []\n",
    "    for var in cluster_var:\n",
    "        dfs.append(pd.DataFrame(pd.DataFrame(df[var].to_list(), columns=[str(var)+str(x) for x in np.arange(ncols)])))\n",
    "    df_cluster = pd.concat(dfs, axis=1)\n",
    "    df2 = pd.concat([df2, df_cluster], axis=1)\n",
    "    \n",
    "    ### Add Sanmay's track inputs \n",
    "    for var in track_var:\n",
    "        df2[var] = np.array(df[var].explode())\n",
    "    \n",
    "    ### Add track pT & truth particle E \n",
    "    track_pt = np.array(df.trackPt.explode())\n",
    "    truth_particle_e = np.array(df.truthPartE.explode())\n",
    "    track_eta = np.array(df.trackEta.explode())\n",
    "    track_phi = np.array(df.trackPhi.explode())\n",
    "    track_z0 = np.array(df.trackZ0.explode())\n",
    "\n",
    "    df2[\"track_pt\"] = track_pt\n",
    "    df2[\"track_eta\"] = track_eta\n",
    "    df2[\"track_phi\"] = track_phi\n",
    "    df2[\"track_z0\"] = track_z0\n",
    "    df2[\"truth_particle_e\"] = truth_particle_e\n",
    "\n",
    "    ### Drop infs/NaNs \n",
    "    df2.replace([np.inf, -np.inf], np.nan, inplace=True)\n",
    "    df2 = df2.fillna(0)\n",
    "\n",
    "    ### Cluster_E > 0.5\n",
    "    df2 = df2[df2.cluster_e_0 > 0.5]\n",
    "\n",
    "    ### Lose outliers in track pT \n",
    "    df2 = df2[df2.track_pt < 5000]\n",
    "\n",
    "    ### Cast as float\n",
    "    df2 = df2.astype('float32')\n",
    "\n",
    "    ### Add the log of all energy variables\n",
    "    for var in df2.keys():\n",
    "        if var == \"track_pt\" or var == \"truth_particle_e\" or var.startswith(\"cluster_e_\"):\n",
    "            df2['log10_'+var] = np.log10(df2[var])\n",
    "        else:\n",
    "            continue\n",
    "\n",
    "    ### Do this again? \n",
    "    df2.replace([np.inf, -np.inf], np.nan, inplace=True)\n",
    "    df2 = df2.fillna(0)\n",
    "    return df2"
   ]
  },
  {
   "cell_type": "code",
   "execution_count": 94,
   "id": "d35c750e-8d7f-414a-a6b8-9e5475b2bd66",
   "metadata": {
    "execution": {
     "iopub.execute_input": "2022-08-09T00:12:31.249741Z",
     "iopub.status.busy": "2022-08-09T00:12:31.248961Z",
     "iopub.status.idle": "2022-08-09T00:13:48.365505Z",
     "shell.execute_reply": "2022-08-09T00:13:48.364985Z",
     "shell.execute_reply.started": "2022-08-09T00:12:31.249707Z"
    },
    "tags": []
   },
   "outputs": [
    {
     "name": "stderr",
     "output_type": "stream",
     "text": [
      "  0%|          | 0/321 [00:00<?, ?it/s]/clusterfs/ml4hep/mpettee/miniconda3/envs/nbdev/lib/python3.9/site-packages/pandas/core/arraylike.py:364: RuntimeWarning: divide by zero encountered in log10\n",
      "  result = getattr(ufunc, method)(*inputs, **kwargs)\n",
      "100%|██████████| 321/321 [00:00<00:00, 3062.29it/s]\n",
      "100%|██████████| 285/285 [00:00<00:00, 7444.03it/s]\n",
      "100%|██████████| 294/294 [00:00<00:00, 7463.85it/s]\n"
     ]
    }
   ],
   "source": [
    "df_train = process(train)\n",
    "df_val = process(val)\n",
    "df_test = process(test)"
   ]
  },
  {
   "cell_type": "code",
   "execution_count": 124,
   "id": "d8d808fb-3c30-4f4f-b0f0-bf05fe80f208",
   "metadata": {
    "execution": {
     "iopub.execute_input": "2022-08-09T04:18:24.152314Z",
     "iopub.status.busy": "2022-08-09T04:18:24.152003Z",
     "iopub.status.idle": "2022-08-09T04:18:27.934920Z",
     "shell.execute_reply": "2022-08-09T04:18:27.934033Z",
     "shell.execute_reply.started": "2022-08-09T04:18:24.152284Z"
    },
    "tags": []
   },
   "outputs": [],
   "source": [
    "df_train.to_hdf(\"train_dnn_sanmay.h5\", \"df\")\n",
    "df_val.to_hdf(\"val_dnn_sanmay.h5\", \"df\")\n",
    "df_test.to_hdf(\"test_dnn_sanmay.h5\", \"df\")"
   ]
  },
  {
   "cell_type": "code",
   "execution_count": 97,
   "id": "f2efe5dc-52c7-4032-a7d0-14949b200b69",
   "metadata": {
    "execution": {
     "iopub.execute_input": "2022-08-09T00:15:14.760488Z",
     "iopub.status.busy": "2022-08-09T00:15:14.759789Z",
     "iopub.status.idle": "2022-08-09T00:15:14.768245Z",
     "shell.execute_reply": "2022-08-09T00:15:14.767514Z",
     "shell.execute_reply.started": "2022-08-09T00:15:14.760449Z"
    },
    "tags": []
   },
   "outputs": [
    {
     "data": {
      "text/plain": [
       "array(['cluster_e_0', 'cluster_e_1', 'cluster_e_2', 'cluster_e_3',\n",
       "       'cluster_e_4', 'cluster_e_5', 'cluster_e_6', 'cluster_e_7',\n",
       "       'cluster_e_8', 'cluster_e_9', 'cluster_e_10', 'cluster_e_11',\n",
       "       'cluster_e_12', 'cluster_e_13', 'cluster_e_14', 'cluster_e_15',\n",
       "       'cluster_e_16', 'cluster_e_17', 'cluster_e_18', 'cluster_e_19',\n",
       "       'cluster_e_20', 'cluster_e_21', 'cluster_e_22', 'cluster_e_23',\n",
       "       'cluster_e_24', 'cluster_e_25', 'cluster_e_26', 'cluster_e_27',\n",
       "       'cluster_e_28', 'cluster_e_29', 'cluster_e_30', 'cluster_e_31',\n",
       "       'cluster_e_32', 'cluster_EM_PROBABILITY0',\n",
       "       'cluster_EM_PROBABILITY1', 'cluster_EM_PROBABILITY2',\n",
       "       'cluster_EM_PROBABILITY3', 'cluster_EM_PROBABILITY4',\n",
       "       'cluster_EM_PROBABILITY5', 'cluster_EM_PROBABILITY6',\n",
       "       'cluster_EM_PROBABILITY7', 'cluster_EM_PROBABILITY8',\n",
       "       'cluster_EM_PROBABILITY9', 'cluster_EM_PROBABILITY10',\n",
       "       'cluster_EM_PROBABILITY11', 'cluster_EM_PROBABILITY12',\n",
       "       'cluster_EM_PROBABILITY13', 'cluster_EM_PROBABILITY14',\n",
       "       'cluster_EM_PROBABILITY15', 'cluster_EM_PROBABILITY16',\n",
       "       'cluster_EM_PROBABILITY17', 'cluster_EM_PROBABILITY18',\n",
       "       'cluster_EM_PROBABILITY19', 'cluster_EM_PROBABILITY20',\n",
       "       'cluster_EM_PROBABILITY21', 'cluster_EM_PROBABILITY22',\n",
       "       'cluster_EM_PROBABILITY23', 'cluster_EM_PROBABILITY24',\n",
       "       'cluster_EM_PROBABILITY25', 'cluster_EM_PROBABILITY26',\n",
       "       'cluster_EM_PROBABILITY27', 'cluster_EM_PROBABILITY28',\n",
       "       'cluster_EM_PROBABILITY29', 'cluster_EM_PROBABILITY30',\n",
       "       'cluster_EM_PROBABILITY31', 'cluster_EM_PROBABILITY32',\n",
       "       'cluster_HAD_WEIGHT0', 'cluster_HAD_WEIGHT1',\n",
       "       'cluster_HAD_WEIGHT2', 'cluster_HAD_WEIGHT3',\n",
       "       'cluster_HAD_WEIGHT4', 'cluster_HAD_WEIGHT5',\n",
       "       'cluster_HAD_WEIGHT6', 'cluster_HAD_WEIGHT7',\n",
       "       'cluster_HAD_WEIGHT8', 'cluster_HAD_WEIGHT9',\n",
       "       'cluster_HAD_WEIGHT10', 'cluster_HAD_WEIGHT11',\n",
       "       'cluster_HAD_WEIGHT12', 'cluster_HAD_WEIGHT13',\n",
       "       'cluster_HAD_WEIGHT14', 'cluster_HAD_WEIGHT15',\n",
       "       'cluster_HAD_WEIGHT16', 'cluster_HAD_WEIGHT17',\n",
       "       'cluster_HAD_WEIGHT18', 'cluster_HAD_WEIGHT19',\n",
       "       'cluster_HAD_WEIGHT20', 'cluster_HAD_WEIGHT21',\n",
       "       'cluster_HAD_WEIGHT22', 'cluster_HAD_WEIGHT23',\n",
       "       'cluster_HAD_WEIGHT24', 'cluster_HAD_WEIGHT25',\n",
       "       'cluster_HAD_WEIGHT26', 'cluster_HAD_WEIGHT27',\n",
       "       'cluster_HAD_WEIGHT28', 'cluster_HAD_WEIGHT29',\n",
       "       'cluster_HAD_WEIGHT30', 'cluster_HAD_WEIGHT31',\n",
       "       'cluster_HAD_WEIGHT32', 'cluster_OOC_WEIGHT0',\n",
       "       'cluster_OOC_WEIGHT1', 'cluster_OOC_WEIGHT2',\n",
       "       'cluster_OOC_WEIGHT3', 'cluster_OOC_WEIGHT4',\n",
       "       'cluster_OOC_WEIGHT5', 'cluster_OOC_WEIGHT6',\n",
       "       'cluster_OOC_WEIGHT7', 'cluster_OOC_WEIGHT8',\n",
       "       'cluster_OOC_WEIGHT9', 'cluster_OOC_WEIGHT10',\n",
       "       'cluster_OOC_WEIGHT11', 'cluster_OOC_WEIGHT12',\n",
       "       'cluster_OOC_WEIGHT13', 'cluster_OOC_WEIGHT14',\n",
       "       'cluster_OOC_WEIGHT15', 'cluster_OOC_WEIGHT16',\n",
       "       'cluster_OOC_WEIGHT17', 'cluster_OOC_WEIGHT18',\n",
       "       'cluster_OOC_WEIGHT19', 'cluster_OOC_WEIGHT20',\n",
       "       'cluster_OOC_WEIGHT21', 'cluster_OOC_WEIGHT22',\n",
       "       'cluster_OOC_WEIGHT23', 'cluster_OOC_WEIGHT24',\n",
       "       'cluster_OOC_WEIGHT25', 'cluster_OOC_WEIGHT26',\n",
       "       'cluster_OOC_WEIGHT27', 'cluster_OOC_WEIGHT28',\n",
       "       'cluster_OOC_WEIGHT29', 'cluster_OOC_WEIGHT30',\n",
       "       'cluster_OOC_WEIGHT31', 'cluster_OOC_WEIGHT32',\n",
       "       'cluster_DM_WEIGHT0', 'cluster_DM_WEIGHT1', 'cluster_DM_WEIGHT2',\n",
       "       'cluster_DM_WEIGHT3', 'cluster_DM_WEIGHT4', 'cluster_DM_WEIGHT5',\n",
       "       'cluster_DM_WEIGHT6', 'cluster_DM_WEIGHT7', 'cluster_DM_WEIGHT8',\n",
       "       'cluster_DM_WEIGHT9', 'cluster_DM_WEIGHT10', 'cluster_DM_WEIGHT11',\n",
       "       'cluster_DM_WEIGHT12', 'cluster_DM_WEIGHT13',\n",
       "       'cluster_DM_WEIGHT14', 'cluster_DM_WEIGHT15',\n",
       "       'cluster_DM_WEIGHT16', 'cluster_DM_WEIGHT17',\n",
       "       'cluster_DM_WEIGHT18', 'cluster_DM_WEIGHT19',\n",
       "       'cluster_DM_WEIGHT20', 'cluster_DM_WEIGHT21',\n",
       "       'cluster_DM_WEIGHT22', 'cluster_DM_WEIGHT23',\n",
       "       'cluster_DM_WEIGHT24', 'cluster_DM_WEIGHT25',\n",
       "       'cluster_DM_WEIGHT26', 'cluster_DM_WEIGHT27',\n",
       "       'cluster_DM_WEIGHT28', 'cluster_DM_WEIGHT29',\n",
       "       'cluster_DM_WEIGHT30', 'cluster_DM_WEIGHT31',\n",
       "       'cluster_DM_WEIGHT32', 'cluster_CENTER_MAG0',\n",
       "       'cluster_CENTER_MAG1', 'cluster_CENTER_MAG2',\n",
       "       'cluster_CENTER_MAG3', 'cluster_CENTER_MAG4',\n",
       "       'cluster_CENTER_MAG5', 'cluster_CENTER_MAG6',\n",
       "       'cluster_CENTER_MAG7', 'cluster_CENTER_MAG8',\n",
       "       'cluster_CENTER_MAG9', 'cluster_CENTER_MAG10',\n",
       "       'cluster_CENTER_MAG11', 'cluster_CENTER_MAG12',\n",
       "       'cluster_CENTER_MAG13', 'cluster_CENTER_MAG14',\n",
       "       'cluster_CENTER_MAG15', 'cluster_CENTER_MAG16',\n",
       "       'cluster_CENTER_MAG17', 'cluster_CENTER_MAG18',\n",
       "       'cluster_CENTER_MAG19', 'cluster_CENTER_MAG20',\n",
       "       'cluster_CENTER_MAG21', 'cluster_CENTER_MAG22',\n",
       "       'cluster_CENTER_MAG23', 'cluster_CENTER_MAG24',\n",
       "       'cluster_CENTER_MAG25', 'cluster_CENTER_MAG26',\n",
       "       'cluster_CENTER_MAG27', 'cluster_CENTER_MAG28',\n",
       "       'cluster_CENTER_MAG29', 'cluster_CENTER_MAG30',\n",
       "       'cluster_CENTER_MAG31', 'cluster_CENTER_MAG32',\n",
       "       'cluster_FIRST_ENG_DENS0', 'cluster_FIRST_ENG_DENS1',\n",
       "       'cluster_FIRST_ENG_DENS2', 'cluster_FIRST_ENG_DENS3',\n",
       "       'cluster_FIRST_ENG_DENS4', 'cluster_FIRST_ENG_DENS5',\n",
       "       'cluster_FIRST_ENG_DENS6', 'cluster_FIRST_ENG_DENS7',\n",
       "       'cluster_FIRST_ENG_DENS8', 'cluster_FIRST_ENG_DENS9',\n",
       "       'cluster_FIRST_ENG_DENS10', 'cluster_FIRST_ENG_DENS11',\n",
       "       'cluster_FIRST_ENG_DENS12', 'cluster_FIRST_ENG_DENS13',\n",
       "       'cluster_FIRST_ENG_DENS14', 'cluster_FIRST_ENG_DENS15',\n",
       "       'cluster_FIRST_ENG_DENS16', 'cluster_FIRST_ENG_DENS17',\n",
       "       'cluster_FIRST_ENG_DENS18', 'cluster_FIRST_ENG_DENS19',\n",
       "       'cluster_FIRST_ENG_DENS20', 'cluster_FIRST_ENG_DENS21',\n",
       "       'cluster_FIRST_ENG_DENS22', 'cluster_FIRST_ENG_DENS23',\n",
       "       'cluster_FIRST_ENG_DENS24', 'cluster_FIRST_ENG_DENS25',\n",
       "       'cluster_FIRST_ENG_DENS26', 'cluster_FIRST_ENG_DENS27',\n",
       "       'cluster_FIRST_ENG_DENS28', 'cluster_FIRST_ENG_DENS29',\n",
       "       'cluster_FIRST_ENG_DENS30', 'cluster_FIRST_ENG_DENS31',\n",
       "       'cluster_FIRST_ENG_DENS32', 'cluster_CENTER_LAMBDA0',\n",
       "       'cluster_CENTER_LAMBDA1', 'cluster_CENTER_LAMBDA2',\n",
       "       'cluster_CENTER_LAMBDA3', 'cluster_CENTER_LAMBDA4',\n",
       "       'cluster_CENTER_LAMBDA5', 'cluster_CENTER_LAMBDA6',\n",
       "       'cluster_CENTER_LAMBDA7', 'cluster_CENTER_LAMBDA8',\n",
       "       'cluster_CENTER_LAMBDA9', 'cluster_CENTER_LAMBDA10',\n",
       "       'cluster_CENTER_LAMBDA11', 'cluster_CENTER_LAMBDA12',\n",
       "       'cluster_CENTER_LAMBDA13', 'cluster_CENTER_LAMBDA14',\n",
       "       'cluster_CENTER_LAMBDA15', 'cluster_CENTER_LAMBDA16',\n",
       "       'cluster_CENTER_LAMBDA17', 'cluster_CENTER_LAMBDA18',\n",
       "       'cluster_CENTER_LAMBDA19', 'cluster_CENTER_LAMBDA20',\n",
       "       'cluster_CENTER_LAMBDA21', 'cluster_CENTER_LAMBDA22',\n",
       "       'cluster_CENTER_LAMBDA23', 'cluster_CENTER_LAMBDA24',\n",
       "       'cluster_CENTER_LAMBDA25', 'cluster_CENTER_LAMBDA26',\n",
       "       'cluster_CENTER_LAMBDA27', 'cluster_CENTER_LAMBDA28',\n",
       "       'cluster_CENTER_LAMBDA29', 'cluster_CENTER_LAMBDA30',\n",
       "       'cluster_CENTER_LAMBDA31', 'cluster_CENTER_LAMBDA32',\n",
       "       'cluster_ISOLATION0', 'cluster_ISOLATION1', 'cluster_ISOLATION2',\n",
       "       'cluster_ISOLATION3', 'cluster_ISOLATION4', 'cluster_ISOLATION5',\n",
       "       'cluster_ISOLATION6', 'cluster_ISOLATION7', 'cluster_ISOLATION8',\n",
       "       'cluster_ISOLATION9', 'cluster_ISOLATION10', 'cluster_ISOLATION11',\n",
       "       'cluster_ISOLATION12', 'cluster_ISOLATION13',\n",
       "       'cluster_ISOLATION14', 'cluster_ISOLATION15',\n",
       "       'cluster_ISOLATION16', 'cluster_ISOLATION17',\n",
       "       'cluster_ISOLATION18', 'cluster_ISOLATION19',\n",
       "       'cluster_ISOLATION20', 'cluster_ISOLATION21',\n",
       "       'cluster_ISOLATION22', 'cluster_ISOLATION23',\n",
       "       'cluster_ISOLATION24', 'cluster_ISOLATION25',\n",
       "       'cluster_ISOLATION26', 'cluster_ISOLATION27',\n",
       "       'cluster_ISOLATION28', 'cluster_ISOLATION29',\n",
       "       'cluster_ISOLATION30', 'cluster_ISOLATION31',\n",
       "       'cluster_ISOLATION32', 'trackPt', 'trackP', 'trackMass',\n",
       "       'trackEta', 'trackPhi', 'trackNumberOfPixelHits',\n",
       "       'trackNumberOfSCTHits', 'trackNumberOfPixelDeadSensors',\n",
       "       'trackNumberOfSCTDeadSensors',\n",
       "       'trackNumberOfInnermostPixelLayerHits',\n",
       "       'trackNumberOfNextToInnermostPixelLayerHits',\n",
       "       'trackExpectInnermostPixelLayerHit',\n",
       "       'trackExpectNextToInnermostPixelLayerHit', 'trackNumberOfTRTHits',\n",
       "       'trackNumberOfTRTOutliers', 'trackChiSquared', 'trackNumberDOF',\n",
       "       'trackD0', 'trackZ0', 'track_pt', 'track_eta', 'track_phi',\n",
       "       'track_z0', 'truth_particle_e', 'log10_cluster_e_0',\n",
       "       'log10_cluster_e_1', 'log10_cluster_e_2', 'log10_cluster_e_3',\n",
       "       'log10_cluster_e_4', 'log10_cluster_e_5', 'log10_cluster_e_6',\n",
       "       'log10_cluster_e_7', 'log10_cluster_e_8', 'log10_cluster_e_9',\n",
       "       'log10_cluster_e_10', 'log10_cluster_e_11', 'log10_cluster_e_12',\n",
       "       'log10_cluster_e_13', 'log10_cluster_e_14', 'log10_cluster_e_15',\n",
       "       'log10_cluster_e_16', 'log10_cluster_e_17', 'log10_cluster_e_18',\n",
       "       'log10_cluster_e_19', 'log10_cluster_e_20', 'log10_cluster_e_21',\n",
       "       'log10_cluster_e_22', 'log10_cluster_e_23', 'log10_cluster_e_24',\n",
       "       'log10_cluster_e_25', 'log10_cluster_e_26', 'log10_cluster_e_27',\n",
       "       'log10_cluster_e_28', 'log10_cluster_e_29', 'log10_cluster_e_30',\n",
       "       'log10_cluster_e_31', 'log10_cluster_e_32', 'log10_track_pt',\n",
       "       'log10_truth_particle_e'], dtype=object)"
      ]
     },
     "execution_count": 97,
     "metadata": {},
     "output_type": "execute_result"
    }
   ],
   "source": [
    "np.array(df_train.keys())"
   ]
  },
  {
   "cell_type": "markdown",
   "id": "cc1de1b0-b31a-4287-a359-18b83f382c55",
   "metadata": {
    "tags": []
   },
   "source": [
    "# Preprocess"
   ]
  },
  {
   "cell_type": "code",
   "execution_count": 218,
   "id": "b774ef68-b13a-42f3-a55c-0045c538f41f",
   "metadata": {
    "execution": {
     "iopub.execute_input": "2022-08-09T08:08:08.839979Z",
     "iopub.status.busy": "2022-08-09T08:08:08.839703Z",
     "iopub.status.idle": "2022-08-09T08:08:08.862716Z",
     "shell.execute_reply": "2022-08-09T08:08:08.861827Z",
     "shell.execute_reply.started": "2022-08-09T08:08:08.839949Z"
    },
    "tags": []
   },
   "outputs": [
    {
     "name": "stdout",
     "output_type": "stream",
     "text": [
      "['log10_cluster_e_0', 'log10_cluster_e_1', 'log10_cluster_e_2', 'log10_cluster_e_3', 'log10_cluster_e_4', 'log10_cluster_e_5', 'log10_cluster_e_6', 'log10_cluster_e_7', 'log10_cluster_e_8', 'log10_cluster_e_9', 'log10_cluster_e_10', 'log10_cluster_e_11', 'log10_cluster_e_12', 'log10_cluster_e_13', 'log10_cluster_e_14', 'log10_cluster_e_15', 'log10_cluster_e_16', 'log10_cluster_e_17', 'log10_cluster_e_18', 'log10_cluster_e_19', 'log10_cluster_e_20', 'log10_cluster_e_21', 'log10_cluster_e_22', 'log10_cluster_e_23', 'log10_cluster_e_24', 'log10_cluster_e_25', 'log10_cluster_e_26', 'log10_cluster_e_27', 'log10_cluster_e_28', 'log10_track_pt', 'track_eta', 'track_phi', 'track_z0']\n"
     ]
    }
   ],
   "source": [
    "### All clusters + track pt/eta/phi/z0\n",
    "train_vars = [var for var in df_train.keys() if var.startswith('log10') and var != 'log10_truth_particle_e']\n",
    "train_vars += ['track_eta', 'track_phi', 'track_z0']\n",
    "# train_vars += [var for var in df_train.keys() if var.startswith('track')]\n",
    "# train_vars += [var for var in df_train.keys() if var.startswith('cluster') and not var.startswith('cluster_e')]\n",
    "\n",
    "for i in range(29, 33):\n",
    "    train_vars.remove('log10_cluster_e_'+str(i))\n",
    "    # for var in cluster_var:\n",
    "    #     train_vars.remove(var+str(i))\n",
    "\n",
    "print(train_vars)\n",
    "\n",
    "### Augment df_test with any extra columns needed\n",
    "df_test[[var for var in df_train.keys() if var not in df_test.keys()]] = 0 \n",
    "\n",
    "train_x = df_train[train_vars].values\n",
    "train_y = df_train['log10_truth_particle_e'].values\n",
    "val_x = df_val[train_vars].values\n",
    "val_y = df_val['log10_truth_particle_e'].values\n",
    "test_x = df_test[train_vars].values\n",
    "test_y = df_test['log10_truth_particle_e'].values"
   ]
  },
  {
   "cell_type": "code",
   "execution_count": 219,
   "id": "83ef2fcb-3028-4408-8057-367e779be53b",
   "metadata": {
    "execution": {
     "iopub.execute_input": "2022-08-09T08:08:11.424747Z",
     "iopub.status.busy": "2022-08-09T08:08:11.424483Z",
     "iopub.status.idle": "2022-08-09T08:08:11.535663Z",
     "shell.execute_reply": "2022-08-09T08:08:11.534874Z",
     "shell.execute_reply.started": "2022-08-09T08:08:11.424718Z"
    },
    "tags": []
   },
   "outputs": [],
   "source": [
    "### Normalize the inputs \n",
    "sc = StandardScaler()\n",
    "train_x = sc.fit_transform(train_x)\n",
    "val_x = sc.transform(val_x)\n",
    "test_x = sc.transform(test_x)"
   ]
  },
  {
   "cell_type": "code",
   "execution_count": 220,
   "id": "804df3cf-042c-4b8e-90bb-477e8f9c38df",
   "metadata": {
    "execution": {
     "iopub.execute_input": "2022-08-09T08:08:11.605494Z",
     "iopub.status.busy": "2022-08-09T08:08:11.605374Z",
     "iopub.status.idle": "2022-08-09T08:08:11.609507Z",
     "shell.execute_reply": "2022-08-09T08:08:11.609012Z",
     "shell.execute_reply.started": "2022-08-09T08:08:11.605480Z"
    },
    "tags": []
   },
   "outputs": [
    {
     "data": {
      "text/plain": [
       "33"
      ]
     },
     "execution_count": 220,
     "metadata": {},
     "output_type": "execute_result"
    }
   ],
   "source": [
    "train_x.shape[1]"
   ]
  },
  {
   "cell_type": "code",
   "execution_count": 221,
   "id": "111bffb9-daee-4a98-95cd-73938df8556f",
   "metadata": {
    "execution": {
     "iopub.execute_input": "2022-08-09T08:08:12.895978Z",
     "iopub.status.busy": "2022-08-09T08:08:12.895856Z",
     "iopub.status.idle": "2022-08-09T08:08:12.900019Z",
     "shell.execute_reply": "2022-08-09T08:08:12.899492Z",
     "shell.execute_reply.started": "2022-08-09T08:08:12.895965Z"
    },
    "tags": []
   },
   "outputs": [
    {
     "data": {
      "text/plain": [
       "['log10_cluster_e_0',\n",
       " 'log10_cluster_e_1',\n",
       " 'log10_cluster_e_2',\n",
       " 'log10_cluster_e_3',\n",
       " 'log10_cluster_e_4',\n",
       " 'log10_cluster_e_5',\n",
       " 'log10_cluster_e_6',\n",
       " 'log10_cluster_e_7',\n",
       " 'log10_cluster_e_8',\n",
       " 'log10_cluster_e_9',\n",
       " 'log10_cluster_e_10',\n",
       " 'log10_cluster_e_11',\n",
       " 'log10_cluster_e_12',\n",
       " 'log10_cluster_e_13',\n",
       " 'log10_cluster_e_14',\n",
       " 'log10_cluster_e_15',\n",
       " 'log10_cluster_e_16',\n",
       " 'log10_cluster_e_17',\n",
       " 'log10_cluster_e_18',\n",
       " 'log10_cluster_e_19',\n",
       " 'log10_cluster_e_20',\n",
       " 'log10_cluster_e_21',\n",
       " 'log10_cluster_e_22',\n",
       " 'log10_cluster_e_23',\n",
       " 'log10_cluster_e_24',\n",
       " 'log10_cluster_e_25',\n",
       " 'log10_cluster_e_26',\n",
       " 'log10_cluster_e_27',\n",
       " 'log10_cluster_e_28',\n",
       " 'log10_track_pt',\n",
       " 'track_eta',\n",
       " 'track_phi',\n",
       " 'track_z0']"
      ]
     },
     "execution_count": 221,
     "metadata": {},
     "output_type": "execute_result"
    }
   ],
   "source": [
    "train_vars"
   ]
  },
  {
   "cell_type": "code",
   "execution_count": 222,
   "id": "0f258a4d-a1e5-486e-a76f-498c45e38917",
   "metadata": {
    "execution": {
     "iopub.execute_input": "2022-08-09T08:08:14.960161Z",
     "iopub.status.busy": "2022-08-09T08:08:14.960034Z",
     "iopub.status.idle": "2022-08-09T08:08:14.964107Z",
     "shell.execute_reply": "2022-08-09T08:08:14.963561Z",
     "shell.execute_reply.started": "2022-08-09T08:08:14.960147Z"
    },
    "tags": []
   },
   "outputs": [],
   "source": [
    "def regression_model():\n",
    "    model = Sequential()\n",
    "    model.add(Dense(50, \n",
    "                    input_dim=train_x.shape[1], \n",
    "                    activation='relu'))\n",
    "    model.add(Dense(50, activation='relu'))\n",
    "    model.add(Dense(50, activation='relu'))\n",
    "    model.add(Dense(1))\n",
    "    model.compile(loss='mean_absolute_error', optimizer='adam')\n",
    "    return model"
   ]
  },
  {
   "cell_type": "code",
   "execution_count": 223,
   "id": "c7cc8b57-aa68-41c8-8a97-d512fc20e6f3",
   "metadata": {
    "execution": {
     "iopub.execute_input": "2022-08-09T08:08:15.247685Z",
     "iopub.status.busy": "2022-08-09T08:08:15.247415Z",
     "iopub.status.idle": "2022-08-09T08:08:15.273852Z",
     "shell.execute_reply": "2022-08-09T08:08:15.273104Z",
     "shell.execute_reply.started": "2022-08-09T08:08:15.247670Z"
    },
    "tags": []
   },
   "outputs": [
    {
     "name": "stdout",
     "output_type": "stream",
     "text": [
      "Model: \"sequential_8\"\n",
      "_________________________________________________________________\n",
      "Layer (type)                 Output Shape              Param #   \n",
      "=================================================================\n",
      "dense_32 (Dense)             (None, 50)                1700      \n",
      "_________________________________________________________________\n",
      "dense_33 (Dense)             (None, 50)                2550      \n",
      "_________________________________________________________________\n",
      "dense_34 (Dense)             (None, 50)                2550      \n",
      "_________________________________________________________________\n",
      "dense_35 (Dense)             (None, 1)                 51        \n",
      "=================================================================\n",
      "Total params: 6,851\n",
      "Trainable params: 6,851\n",
      "Non-trainable params: 0\n",
      "_________________________________________________________________\n"
     ]
    }
   ],
   "source": [
    "model = regression_model()\n",
    "model.summary()"
   ]
  },
  {
   "cell_type": "markdown",
   "id": "fa176893-fe41-429d-8b05-fbae443e053f",
   "metadata": {},
   "source": [
    "# Load pre-trained weights"
   ]
  },
  {
   "cell_type": "code",
   "execution_count": 224,
   "id": "4847a313-ae6e-43df-8cc8-da8387c4e698",
   "metadata": {
    "execution": {
     "iopub.execute_input": "2022-08-09T08:08:17.300699Z",
     "iopub.status.busy": "2022-08-09T08:08:17.300433Z",
     "iopub.status.idle": "2022-08-09T08:08:17.303818Z",
     "shell.execute_reply": "2022-08-09T08:08:17.303132Z",
     "shell.execute_reply.started": "2022-08-09T08:08:17.300679Z"
    },
    "tags": []
   },
   "outputs": [],
   "source": [
    "# model.load_weights(\"dnn_best_weights_50.h5\")"
   ]
  },
  {
   "cell_type": "markdown",
   "id": "08237162-481d-49ff-9740-d49755316e84",
   "metadata": {
    "tags": []
   },
   "source": [
    "# Or, re-train"
   ]
  },
  {
   "cell_type": "code",
   "execution_count": 225,
   "id": "4d197211-348b-4017-9eb9-4c7e36cbd94c",
   "metadata": {
    "execution": {
     "iopub.execute_input": "2022-08-09T08:08:22.799472Z",
     "iopub.status.busy": "2022-08-09T08:08:22.799215Z",
     "iopub.status.idle": "2022-08-09T08:26:17.232527Z",
     "shell.execute_reply": "2022-08-09T08:26:17.231682Z",
     "shell.execute_reply.started": "2022-08-09T08:08:22.799453Z"
    },
    "tags": []
   },
   "outputs": [
    {
     "name": "stdout",
     "output_type": "stream",
     "text": [
      "Epoch 1/50\n",
      "9422/9422 [==============================] - 21s 2ms/step - loss: 0.0558 - val_loss: 0.0335\n",
      "Epoch 2/50\n",
      "9422/9422 [==============================] - 22s 2ms/step - loss: 0.0322 - val_loss: 0.0317\n",
      "Epoch 3/50\n",
      "9422/9422 [==============================] - 21s 2ms/step - loss: 0.0293 - val_loss: 0.0303\n",
      "Epoch 4/50\n",
      "9422/9422 [==============================] - 22s 2ms/step - loss: 0.0278 - val_loss: 0.0268\n",
      "Epoch 5/50\n",
      "9422/9422 [==============================] - 21s 2ms/step - loss: 0.0269 - val_loss: 0.0254\n",
      "Epoch 6/50\n",
      "9422/9422 [==============================] - 21s 2ms/step - loss: 0.0263 - val_loss: 0.0292\n",
      "Epoch 7/50\n",
      "9422/9422 [==============================] - 22s 2ms/step - loss: 0.0259 - val_loss: 0.0272\n",
      "Epoch 8/50\n",
      "9422/9422 [==============================] - 22s 2ms/step - loss: 0.0255 - val_loss: 0.0240\n",
      "Epoch 9/50\n",
      "9422/9422 [==============================] - 21s 2ms/step - loss: 0.0254 - val_loss: 0.0253\n",
      "Epoch 10/50\n",
      "9422/9422 [==============================] - 21s 2ms/step - loss: 0.0252 - val_loss: 0.0235\n",
      "Epoch 11/50\n",
      "9422/9422 [==============================] - 21s 2ms/step - loss: 0.0249 - val_loss: 0.0241\n",
      "Epoch 12/50\n",
      "9422/9422 [==============================] - 21s 2ms/step - loss: 0.0246 - val_loss: 0.0258\n",
      "Epoch 13/50\n",
      "9422/9422 [==============================] - 20s 2ms/step - loss: 0.0245 - val_loss: 0.0244\n",
      "Epoch 14/50\n",
      "9422/9422 [==============================] - 22s 2ms/step - loss: 0.0243 - val_loss: 0.0240\n",
      "Epoch 15/50\n",
      "9422/9422 [==============================] - 22s 2ms/step - loss: 0.0240 - val_loss: 0.0235\n",
      "Epoch 16/50\n",
      "9422/9422 [==============================] - 22s 2ms/step - loss: 0.0239 - val_loss: 0.0233\n",
      "Epoch 17/50\n",
      "9422/9422 [==============================] - 21s 2ms/step - loss: 0.0238 - val_loss: 0.0252\n",
      "Epoch 18/50\n",
      "9422/9422 [==============================] - 22s 2ms/step - loss: 0.0238 - val_loss: 0.0236\n",
      "Epoch 19/50\n",
      "9422/9422 [==============================] - 22s 2ms/step - loss: 0.0238 - val_loss: 0.0230\n",
      "Epoch 20/50\n",
      "9422/9422 [==============================] - 22s 2ms/step - loss: 0.0237 - val_loss: 0.0231\n",
      "Epoch 21/50\n",
      "9422/9422 [==============================] - 22s 2ms/step - loss: 0.0235 - val_loss: 0.0240\n",
      "Epoch 22/50\n",
      "9422/9422 [==============================] - 22s 2ms/step - loss: 0.0235 - val_loss: 0.0249\n",
      "Epoch 23/50\n",
      "9422/9422 [==============================] - 21s 2ms/step - loss: 0.0235 - val_loss: 0.0228\n",
      "Epoch 24/50\n",
      "9422/9422 [==============================] - 22s 2ms/step - loss: 0.0235 - val_loss: 0.0238\n",
      "Epoch 25/50\n",
      "9422/9422 [==============================] - 22s 2ms/step - loss: 0.0233 - val_loss: 0.0230\n",
      "Epoch 26/50\n",
      "9422/9422 [==============================] - 22s 2ms/step - loss: 0.0232 - val_loss: 0.0234\n",
      "Epoch 27/50\n",
      "9422/9422 [==============================] - 21s 2ms/step - loss: 0.0232 - val_loss: 0.0226\n",
      "Epoch 28/50\n",
      "9422/9422 [==============================] - 22s 2ms/step - loss: 0.0231 - val_loss: 0.0243\n",
      "Epoch 29/50\n",
      "9422/9422 [==============================] - 21s 2ms/step - loss: 0.0230 - val_loss: 0.0232\n",
      "Epoch 30/50\n",
      "9422/9422 [==============================] - 22s 2ms/step - loss: 0.0232 - val_loss: 0.0223\n",
      "Epoch 31/50\n",
      "9422/9422 [==============================] - 22s 2ms/step - loss: 0.0231 - val_loss: 0.0238\n",
      "Epoch 32/50\n",
      "9422/9422 [==============================] - 22s 2ms/step - loss: 0.0230 - val_loss: 0.0229\n",
      "Epoch 33/50\n",
      "9422/9422 [==============================] - 21s 2ms/step - loss: 0.0230 - val_loss: 0.0226\n",
      "Epoch 34/50\n",
      "9422/9422 [==============================] - 22s 2ms/step - loss: 0.0229 - val_loss: 0.0240\n",
      "Epoch 35/50\n",
      "9422/9422 [==============================] - 22s 2ms/step - loss: 0.0229 - val_loss: 0.0227\n",
      "Epoch 36/50\n",
      "9422/9422 [==============================] - 21s 2ms/step - loss: 0.0230 - val_loss: 0.0226\n",
      "Epoch 37/50\n",
      "9422/9422 [==============================] - 22s 2ms/step - loss: 0.0230 - val_loss: 0.0237\n",
      "Epoch 38/50\n",
      "9422/9422 [==============================] - 22s 2ms/step - loss: 0.0228 - val_loss: 0.0226\n",
      "Epoch 39/50\n",
      "9422/9422 [==============================] - 21s 2ms/step - loss: 0.0227 - val_loss: 0.0222\n",
      "Epoch 40/50\n",
      "9422/9422 [==============================] - 22s 2ms/step - loss: 0.0228 - val_loss: 0.0222\n",
      "Epoch 41/50\n",
      "9422/9422 [==============================] - 21s 2ms/step - loss: 0.0227 - val_loss: 0.0227\n",
      "Epoch 42/50\n",
      "9422/9422 [==============================] - 22s 2ms/step - loss: 0.0227 - val_loss: 0.0231\n",
      "Epoch 43/50\n",
      "9422/9422 [==============================] - 22s 2ms/step - loss: 0.0227 - val_loss: 0.0227\n",
      "Epoch 44/50\n",
      "9422/9422 [==============================] - 22s 2ms/step - loss: 0.0227 - val_loss: 0.0237\n",
      "Epoch 45/50\n",
      "9422/9422 [==============================] - 22s 2ms/step - loss: 0.0227 - val_loss: 0.0223\n",
      "Epoch 46/50\n",
      "9422/9422 [==============================] - 21s 2ms/step - loss: 0.0226 - val_loss: 0.0223\n",
      "Epoch 47/50\n",
      "9422/9422 [==============================] - 21s 2ms/step - loss: 0.0226 - val_loss: 0.0224\n",
      "Epoch 48/50\n",
      "9422/9422 [==============================] - 22s 2ms/step - loss: 0.0225 - val_loss: 0.0228\n",
      "Epoch 49/50\n",
      "9422/9422 [==============================] - 22s 2ms/step - loss: 0.0225 - val_loss: 0.0224\n",
      "Epoch 50/50\n",
      "9422/9422 [==============================] - 21s 2ms/step - loss: 0.0225 - val_loss: 0.0223\n",
      "CPU times: user 26min 55s, sys: 2min 50s, total: 29min 46s\n",
      "Wall time: 17min 54s\n"
     ]
    }
   ],
   "source": [
    "%%time\n",
    "history = model.fit(\n",
    "    train_x,\n",
    "    train_y,\n",
    "    validation_data=(val_x, val_y),\n",
    "#     validation_split=0.2,\n",
    "    batch_size=32,\n",
    "    verbose=1, epochs=50)"
   ]
  },
  {
   "cell_type": "markdown",
   "id": "8703b080-e98c-4b1b-b989-47239d461479",
   "metadata": {
    "tags": []
   },
   "source": [
    "# Evaluate on test set"
   ]
  },
  {
   "cell_type": "code",
   "execution_count": 230,
   "id": "a476bd2d-1e1a-4109-848a-b79679354118",
   "metadata": {
    "execution": {
     "iopub.execute_input": "2022-08-09T08:26:36.482325Z",
     "iopub.status.busy": "2022-08-09T08:26:36.481992Z",
     "iopub.status.idle": "2022-08-09T08:26:38.924118Z",
     "shell.execute_reply": "2022-08-09T08:26:38.923551Z",
     "shell.execute_reply.started": "2022-08-09T08:26:36.482289Z"
    },
    "tags": []
   },
   "outputs": [
    {
     "data": {
      "text/plain": [
       "Text(0.5, 0, 'Predicted Energy / True Energy')"
      ]
     },
     "execution_count": 230,
     "metadata": {},
     "output_type": "execute_result"
    },
    {
     "data": {
      "image/png": "[encoded data removed]",
      "text/plain": [
       "<Figure size 1200x800 with 1 Axes>"
      ]
     },
     "metadata": {
      "needs_background": "light"
     },
     "output_type": "display_data"
    }
   ],
   "source": [
    "### Evaluate performance on test set \n",
    "plt.figure(dpi=200)\n",
    "df_test['nn_output'] = model.predict(test_x)\n",
    "plt.hist(10**df_test.nn_output/10**df_test.log10_truth_particle_e, bins=np.linspace(0.,2.,40));\n",
    "plt.yscale('log')\n",
    "plt.xlabel('Predicted Energy / True Energy')"
   ]
  },
  {
   "cell_type": "code",
   "execution_count": 231,
   "id": "08ab5b3c-33a0-4155-b617-4b9d44c08a06",
   "metadata": {
    "execution": {
     "iopub.execute_input": "2022-08-09T08:26:38.925174Z",
     "iopub.status.busy": "2022-08-09T08:26:38.925059Z",
     "iopub.status.idle": "2022-08-09T08:26:38.991634Z",
     "shell.execute_reply": "2022-08-09T08:26:38.991092Z",
     "shell.execute_reply.started": "2022-08-09T08:26:38.925160Z"
    },
    "tags": []
   },
   "outputs": [
    {
     "data": {
      "text/plain": [
       "0.018506587308599238"
      ]
     },
     "execution_count": 231,
     "metadata": {},
     "output_type": "execute_result"
    }
   ],
   "source": [
    "np.min(10**df_test[df_test.truth_particle_e < 100].nn_output/10**df_test[df_test.truth_particle_e < 100].log10_truth_particle_e)"
   ]
  },
  {
   "cell_type": "code",
   "execution_count": 232,
   "id": "b8d40b54-0480-45b1-b48e-ec6b280d787a",
   "metadata": {
    "execution": {
     "iopub.execute_input": "2022-08-09T08:26:38.992465Z",
     "iopub.status.busy": "2022-08-09T08:26:38.992353Z",
     "iopub.status.idle": "2022-08-09T08:26:39.421968Z",
     "shell.execute_reply": "2022-08-09T08:26:39.421386Z",
     "shell.execute_reply.started": "2022-08-09T08:26:38.992451Z"
    },
    "tags": []
   },
   "outputs": [
    {
     "data": {
      "image/png": "[encoded data removed]",
      "text/plain": [
       "<Figure size 2400x1600 with 1 Axes>"
      ]
     },
     "metadata": {},
     "output_type": "display_data"
    }
   ],
   "source": [
    "### Response median plot \n",
    "import scipy.stats as stats\n",
    "from matplotlib.colors import ListedColormap\n",
    "from matplotlib.colors import LogNorm\n",
    "\n",
    "x = df_test.truth_particle_e\n",
    "y = (10**df_test.nn_output)/x\n",
    "\n",
    "xbin = [10**exp for exp in np.arange(-1., 3.1, 0.05)]\n",
    "ybin = np.arange(0., 3.1, 0.05)\n",
    "xcenter = [(xbin[i] + xbin[i+1]) / 2 for i in range(len(xbin)-1)]\n",
    "profileXMed = stats.binned_statistic(\n",
    "    x, y, bins=xbin, statistic='median').statistic\n",
    "\n",
    "c_map = ListedColormap(sns.color_palette(\"Blues\", n_colors=100).as_hex())\n",
    "fig = plt.figure(figsize=(12,8), dpi=200)\n",
    "fig.patch.set_facecolor('white')\n",
    "plt.hist2d(x, y, bins=[xbin, ybin], norm=LogNorm(),zorder = -1, cmap=c_map);\n",
    "plt.plot(np.array(xcenter), np.array(profileXMed), color='indianred', linewidth=3)\n",
    "plt.plot([0.1, 1000], [1, 1], linestyle='--', color='black');\n",
    "plt.xscale('log')\n",
    "plt.ylim(0, 1.75)\n",
    "plt.xlim(0.3, )\n",
    "plt.xlabel('Truth Particle Energy [GeV]')\n",
    "plt.ylabel('Predicted Energy / Target');"
   ]
  },
  {
   "cell_type": "code",
   "execution_count": 233,
   "id": "8c39aab3-5fbf-430f-bfb5-162bd8efd9c2",
   "metadata": {
    "execution": {
     "iopub.execute_input": "2022-08-09T08:26:39.423188Z",
     "iopub.status.busy": "2022-08-09T08:26:39.422977Z",
     "iopub.status.idle": "2022-08-09T08:26:39.792487Z",
     "shell.execute_reply": "2022-08-09T08:26:39.791907Z",
     "shell.execute_reply.started": "2022-08-09T08:26:39.423172Z"
    },
    "tags": []
   },
   "outputs": [
    {
     "data": {
      "image/png": "[encoded data removed]",
      "text/plain": [
       "<Figure size 2000x1200 with 1 Axes>"
      ]
     },
     "metadata": {},
     "output_type": "display_data"
    }
   ],
   "source": [
    "### IQR plot \n",
    "\n",
    "def iqrOverMed(x):\n",
    "    # get the IQR via the percentile function\n",
    "    # 84 is median + 1 sigma, 16 is median - 1 sigma\n",
    "    q84, q16 = np.percentile(x, [84, 16])\n",
    "    iqr = q84 - q16\n",
    "    med = np.median(x)\n",
    "    return iqr / (2*med)\n",
    "\n",
    "xbin = [10**exp for exp in np.arange(-1., 3.1, 0.1)]\n",
    "xcenter = [(xbin[i] + xbin[i+1]) / 2 for i in range(len(xbin)-1)]\n",
    "resolution = stats.binned_statistic(x, y, bins=xbin, statistic=iqrOverMed).statistic\n",
    "\n",
    "fig = plt.figure(figsize=(10,6), dpi=200)\n",
    "fig.patch.set_facecolor('white')\n",
    "plt.plot(xcenter, resolution, linewidth=3)\n",
    "plt.xscale('log')\n",
    "plt.xlim(0.1, 1000)\n",
    "plt.ylim(0,0.5)\n",
    "plt.xlabel('Truth Particle Energy [GeV]')\n",
    "plt.ylabel('Response IQR / 2 x Median');"
   ]
  },
  {
   "cell_type": "markdown",
   "id": "cc3c8088-7256-4f51-a214-c28fce42b53e",
   "metadata": {},
   "source": [
    "Compare with other models..."
   ]
  },
  {
   "cell_type": "code",
   "execution_count": null,
   "id": "f8d44fcd-b3b6-4fa1-9a98-e84a51f05d08",
   "metadata": {
    "tags": []
   },
   "outputs": [],
   "source": [
    "pred_file = 'results/onetrack_multicluster/piyush_june22/gnn_allclusters_cells/inference_predictions.npz'\n",
    "predictions = np.load(pred_file)\n",
    "targets_regress = predictions['targets']\n",
    "outputs_regress = predictions['outputs'][:,0]\n",
    "df = pd.DataFrame(np.vstack([targets_regress, outputs_regress]).T, columns=['targets_regress', 'outputs_regress'])"
   ]
  },
  {
   "cell_type": "code",
   "execution_count": null,
   "id": "6f652d02-7635-4551-9cb1-de54e148e8c5",
   "metadata": {
    "tags": []
   },
   "outputs": [],
   "source": [
    "plt.figure(dpi=200)\n",
    "plt.hist(df_transformer.outputs_regress/df_transformer.targets_regress, \n",
    "        bins=np.linspace(0.5,1.5,100),\n",
    "         label=\"Transformer\",\n",
    "        );\n",
    "plt.legend()\n",
    "plt.xlabel(\"Predicted Energy / Target Energy\");\n",
    "plt.ylabel(\"Events\");"
   ]
  },
  {
   "cell_type": "code",
   "execution_count": null,
   "id": "adbdb8c3-5b0c-4328-9ede-43aeaeffd412",
   "metadata": {
    "tags": []
   },
   "outputs": [],
   "source": [
    "plt.figure(dpi=200)\n",
    "plt.hist(df_test.truth_particle_e, label=\"DNN\", histtype=\"step\", alpha=1., density=True, linewidth=2);\n",
    "plt.hist(df.targets_regress, label=\"GNN\", histtype=\"step\", alpha=1., density=True, linewidth=2);\n",
    "plt.hist(df_transformer.targets_regress, label=\"Transformer\", histtype=\"step\", alpha=1., density=True, linewidth=2);\n",
    "plt.legend();\n",
    "plt.xlabel(\"Target Energy [GeV]\");"
   ]
  },
  {
   "cell_type": "markdown",
   "id": "6250c5dc-1d49-44aa-8b9f-b396fa32b866",
   "metadata": {
    "jp-MarkdownHeadingCollapsed": true,
    "tags": []
   },
   "source": [
    "# Misc"
   ]
  },
  {
   "cell_type": "code",
   "execution_count": null,
   "id": "b4a9f654-a6c3-4d38-ab6b-a8195e56c7c9",
   "metadata": {},
   "outputs": [],
   "source": [
    "train = pd.read_hdf(\"train_dnn.h5\")\n",
    "val = pd.read_hdf(\"val_dnn.h5\")\n",
    "test = pd.read_hdf(\"test_dnn.h5\")"
   ]
  },
  {
   "cell_type": "code",
   "execution_count": null,
   "id": "bc7d7910-ab96-41ad-85af-48e057d5f756",
   "metadata": {
    "tags": []
   },
   "outputs": [],
   "source": [
    "import uproot\n",
    "from glob import glob\n",
    "import json \n",
    "import os\n",
    "from tqdm import tqdm\n",
    "import numpy as np\n",
    "import pandas as pd\n",
    "import matplotlib.pyplot as plt\n",
    "\n",
    "pi0_dir = '/clusterfs/ml4hep/mpettee/ml4pions/data/root_files/user.angerami.mc16_13TeV.900246.PG_singlepi0_logE0p2to2000.e8312_e7400_s3170_r12383.v01-45-gaa27bcb_OutputStream/'\n",
    "pion_dir = '/clusterfs/ml4hep/mpettee/ml4pions/data/root_files/user.angerami.mc16_13TeV.900247.PG_singlepion_logE0p2to2000.e8312_e7400_s3170_r12383.v01-45-gaa27bcb_OutputStream/'\n",
    "pi0_files = sorted(glob(pi0_dir+\"*.root\"))\n",
    "pion_files = sorted(glob(pion_dir+\"*.root\"))\n",
    "\n",
    "variables = [\"nTrack\", \"truthPartE\"]\n",
    "\n",
    "df_all = pd.concat([pd.DataFrame(uproot.open(file)[\"EventTree\"].arrays(variables, library = \"np\")) \n",
    "                for file in tqdm(pion_files)])\n",
    "df_all[\"truthPartE\"] = df_all.truthPartE.astype('float')\n",
    "df_all.reset_index(inplace=True)"
   ]
  },
  {
   "cell_type": "code",
   "execution_count": null,
   "id": "17f104a7-645f-47ad-9a10-d823811776a1",
   "metadata": {
    "tags": []
   },
   "outputs": [],
   "source": [
    "pi0_dir = '/clusterfs/ml4hep/mpettee/ml4pions/data/root_files/user.angerami.mc16_13TeV.900246.PG_singlepi0_logE0p2to2000.e8312_e7400_s3170_r12383.v01-45-gaa27bcb_OutputStream/'\n",
    "pion_dir = '/clusterfs/ml4hep/mpettee/ml4pions/data/root_files/user.angerami.mc16_13TeV.900247.PG_singlepion_logE0p2to2000.e8312_e7400_s3170_r12383.v01-45-gaa27bcb_OutputStream/'\n",
    "pi0_files = sorted(glob(pi0_dir+\"*.root\"))\n",
    "pion_files = sorted(glob(pion_dir+\"*.root\"))\n",
    "\n",
    "variables = [\"nTrack\", \"truthPartE\", \"cluster_E\"]\n",
    "\n",
    "df = pd.concat([pd.DataFrame(uproot.open(file)[\"EventTree\"].arrays(variables, library = \"np\")) \n",
    "                for file in tqdm(pion_files)])\n",
    "df[\"truthPartE\"] = df.truthPartE.astype('float')\n",
    "df.reset_index(inplace=True)\n",
    "\n",
    "print(df[(df.truthPartE < 0.201)].nTrack.value_counts())\n",
    "print(\"Minimum truthPartE with nTrack == 1 is {:.5f}.\".format(df[df.nTrack == 1].truthPartE.min()))\n"
   ]
  },
  {
   "cell_type": "code",
   "execution_count": null,
   "id": "97fd6504-d635-4286-815f-6275a13cd73f",
   "metadata": {
    "tags": []
   },
   "outputs": [],
   "source": [
    "cluster_e = []\n",
    "for i in tqdm(range(len(df))): \n",
    "    event_pass = True\n",
    "    for cluster in range(len(df.cluster_E.iloc[i])):\n",
    "        if np.array(df.cluster_E.iloc[i][cluster]) > 0.5: \n",
    "            event_pass = False\n",
    "            continue\n",
    "    cluster_e.append(event_pass)"
   ]
  }
 ],
 "metadata": {
  "kernelspec": {
   "display_name": "nbdev",
   "language": "python",
   "name": "nbdev"
  },
  "language_info": {
   "codemirror_mode": {
    "name": "ipython",
    "version": 3
   },
   "file_extension": ".py",
   "mimetype": "text/x-python",
   "name": "python",
   "nbconvert_exporter": "python",
   "pygments_lexer": "ipython3",
   "version": "3.9.7"
  }
 },
 "nbformat": 4,
 "nbformat_minor": 5
}
