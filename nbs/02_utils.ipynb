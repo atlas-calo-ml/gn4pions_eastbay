{
 "cells": [
  {
   "cell_type": "code",
   "execution_count": 6,
   "metadata": {},
   "outputs": [],
   "source": [
    "# default_exp modules.utils"
   ]
  },
  {
   "cell_type": "code",
   "execution_count": 7,
   "metadata": {},
   "outputs": [],
   "source": [
    "#export\n",
    "import numpy as np\n",
    "import tensorflow as tf\n",
    "from graph_nets.graphs import GraphsTuple"
   ]
  },
  {
   "cell_type": "markdown",
   "metadata": {},
   "source": [
    "# Utility Functions\n",
    "\n",
    "> API details."
   ]
  },
  {
   "cell_type": "code",
   "execution_count": 8,
   "metadata": {},
   "outputs": [],
   "source": [
    "#hide\n",
    "from nbdev.showdoc import *"
   ]
  },
  {
   "cell_type": "code",
   "execution_count": 9,
   "metadata": {},
   "outputs": [],
   "source": [
    "#export\n",
    "def convert_to_tuple(graphs):\n",
    "    nodes = []\n",
    "    edges = []\n",
    "    global_nodes = []\n",
    "    senders = []\n",
    "    receivers = []\n",
    "    n_node = []\n",
    "    n_edge = []\n",
    "    offset = 0\n",
    "    cluster_energies = []\n",
    "    cluster_etas = []\n",
    "    cluster_EM_probs = []\n",
    "    cluster_calib_Es = []\n",
    "    cluster_had_weights = []\n",
    "    truth_particle_pts = []\n",
    "    track_pts = []\n",
    "\n",
    "    for graph in graphs:\n",
    "        nodes.append(graph['nodes'])\n",
    "        edges.append(graph['edges'])\n",
    "        global_nodes.append([graph['globals']])\n",
    "        senders.append(graph['senders'] + offset)\n",
    "        receivers.append(graph['receivers'] + offset)\n",
    "        n_node.append(graph['nodes'].shape[:1])\n",
    "        n_edge.append(graph['edges'].shape[:1])\n",
    "        cluster_energies.append(graph['cluster_E'])\n",
    "        cluster_etas.append(graph['cluster_eta'])\n",
    "        cluster_EM_probs.append(graph['cluster_EM_prob'])\n",
    "        cluster_calib_Es.append(graph['cluster_calib_E'])\n",
    "        cluster_had_weights.append(graph['cluster_HAD_WEIGHT'])\n",
    "        truth_particle_pts.append(graph['truthPartPt'])\n",
    "        track_pts.append(graph['track_pt'])\n",
    "                                      \n",
    "        offset += len(graph['nodes'])\n",
    "\n",
    "    nodes = tf.convert_to_tensor(np.concatenate(nodes))\n",
    "    edges = tf.convert_to_tensor(np.concatenate(edges))\n",
    "    global_nodes = tf.convert_to_tensor(np.concatenate(global_nodes))\n",
    "    senders = tf.convert_to_tensor(np.concatenate(senders))\n",
    "    receivers = tf.convert_to_tensor(np.concatenate(receivers))\n",
    "    n_node = tf.convert_to_tensor(np.concatenate(n_node))\n",
    "    n_edge = tf.convert_to_tensor(np.concatenate(n_edge))\n",
    "\n",
    "    graph = GraphsTuple(\n",
    "            nodes=nodes,\n",
    "            edges=edges,\n",
    "            globals=global_nodes,\n",
    "            senders=senders,\n",
    "            receivers=receivers,\n",
    "            n_node=n_node,\n",
    "            n_edge=n_edge\n",
    "        )\n",
    "\n",
    "    return graph, cluster_energies, cluster_etas, cluster_EM_probs, cluster_calib_Es, cluster_had_weights, truth_particle_pts, track_pts"
   ]
  },
  {
   "cell_type": "code",
   "execution_count": null,
   "metadata": {},
   "outputs": [],
   "source": []
  },
  {
   "cell_type": "code",
   "execution_count": null,
   "metadata": {},
   "outputs": [],
   "source": []
  }
 ],
 "metadata": {
  "kernelspec": {
   "display_name": "nbdev",
   "language": "python",
   "name": "nbdev"
  },
  "language_info": {
   "codemirror_mode": {
    "name": "ipython",
    "version": 3
   },
   "file_extension": ".py",
   "mimetype": "text/x-python",
   "name": "python",
   "nbconvert_exporter": "python",
   "pygments_lexer": "ipython3",
   "version": "3.9.7"
  }
 },
 "nbformat": 4,
 "nbformat_minor": 4
}
